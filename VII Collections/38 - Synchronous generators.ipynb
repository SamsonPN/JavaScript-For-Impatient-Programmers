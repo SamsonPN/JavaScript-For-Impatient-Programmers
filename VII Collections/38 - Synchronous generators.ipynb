{
 "cells": [
  {
   "cell_type": "markdown",
   "id": "a396ec5d",
   "metadata": {},
   "source": [
    "# [Synchronous generators](https://exploringjs.com/impatient-js/ch_sync-generators.html)"
   ]
  },
  {
   "cell_type": "markdown",
   "id": "6463c829",
   "metadata": {},
   "source": [
    "## What are synchronous generators?\n",
    "\n",
    "* special versions of function definitions and methods that always return synchronous _iterables_\n",
    "    - _iterables_: an object whose contents can be traversed sequentially\n",
    "* asterisks (*) mark functions and methods as generators:\n",
    "    - functions: function* is a combination of the keyword function and an asterisk\n",
    "    - methods: the * modifier (similar to static and get)"
   ]
  },
  {
   "cell_type": "code",
   "execution_count": null,
   "id": "65474a61",
   "metadata": {},
   "outputs": [],
   "source": [
    "// generator function declaration\n",
    "function* genFunc1() { /*...*/ }\n",
    "\n",
    "// generator function expression\n",
    "var genFunc2 = function* () { /*...*/ }\n",
    "\n",
    "// generator method definition in an object literal\n",
    "var obj = {\n",
    "    * generatorMethod() {\n",
    "        // ...\n",
    "    }\n",
    "};\n",
    "\n",
    "// generator method definition in an object literal\n",
    "// (class declaration or class expression)\n",
    "class MyClass {\n",
    "    * generatorMethod() {\n",
    "        // ...\n",
    "    }\n",
    "}"
   ]
  },
  {
   "cell_type": "markdown",
   "id": "98e9920f",
   "metadata": {},
   "source": [
    "### Generator functions return iterables and fill them via yield\n",
    "\n",
    "* calling a generator function returns an iterable\n",
    "    - an iterable that is also an iterator (pointer that is used to traverse the iterable)"
   ]
  },
  {
   "cell_type": "code",
   "execution_count": 2,
   "id": "5b2ec4db",
   "metadata": {},
   "outputs": [
    {
     "name": "stdout",
     "output_type": "stream",
     "text": [
      "{ iterable: [ 'a', 'b' ] }\n",
      "{ x: 'a' }\n",
      "{ x: 'b' }\n"
     ]
    }
   ],
   "source": [
    "function* genFunc1() {\n",
    "    yield 'a';\n",
    "    yield 'b';\n",
    "}\n",
    "\n",
    "var iterable = genFunc1();\n",
    "// convert iterable to an array\n",
    "console.log({\n",
    "    iterable: Array.from(iterable)\n",
    "})\n",
    "\n",
    "// can also use a for-of loop\n",
    "for (const x of genFunc1()) {\n",
    "    console.log({x})\n",
    "}"
   ]
  },
  {
   "cell_type": "markdown",
   "id": "76361a2d",
   "metadata": {},
   "source": [
    "### yield pauses a generator function\n",
    "\n",
    "* using a generator function involves the following steps:\n",
    "    - calling the function returns an iterator, _iter_, that is also an iterable\n",
    "    - iterating over _iter_ repeatedly invokes _iter.next()_\n",
    "        * each time, we jump into the body of the generator function until there is a _yield_ that returns a value\n",
    "* __yield__ does more than just add values to iterables - it also pauses and exits the generator function:\n",
    "    - like _return_, a _yield_ exits the body of the function and returns a value (to/via .next())\n",
    "    - unlike _return_, if we repeatedly call .next(), execution resumes directly after the _yield_"
   ]
  },
  {
   "cell_type": "code",
   "execution_count": 2,
   "id": "c58eeb75",
   "metadata": {},
   "outputs": [
    {
     "name": "stdout",
     "output_type": "stream",
     "text": [
      "{ location: 0 }\n",
      "{ iter1: { value: 'a', done: false } }\n",
      "{ location: 1 }\n",
      "{ iter2: { value: 'b', done: false } }\n",
      "{ location: 2 }\n",
      "{ iter2: { value: undefined, done: true } }\n",
      "{ location: 3 }\n"
     ]
    }
   ],
   "source": [
    "var location = 0;\n",
    "function* genFunc2() {\n",
    "    // A\n",
    "    location = 1; yield 'a';\n",
    "    location = 2; yield 'b';\n",
    "    location = 3;\n",
    "}\n",
    "\n",
    "// genFunc2() is called and is now paused before its body (line A)\n",
    "var iter = genFunc2();\n",
    "console.log({ location });\n",
    "\n",
    "// first iteration\n",
    "// genFunc2() returns the value and done boolean wrapped in an object\n",
    "// and is now paused after yield 'a'\n",
    "console.log({ iter1: iter.next() })\n",
    "console.log({ location })\n",
    "\n",
    "// second iteration\n",
    "// genFunc2() is now paused after yield 'b'\n",
    "console.log({ iter2: iter.next() })\n",
    "console.log({ location })\n",
    "\n",
    "//last time\n",
    "// since there is no yield left, execution leaves the body\n",
    "// which returns undefined and done being true signifying the end of iterating\n",
    "console.log({ iter2: iter.next() })\n",
    "console.log({ location })"
   ]
  },
  {
   "cell_type": "markdown",
   "id": "760b5df7",
   "metadata": {},
   "source": [
    "### Why does yield pause execution?\n",
    "\n",
    "* due to pausing, generators provide many features of _coroutines_ (processes that are multitasked cooperatively)\n",
    "    - e.g. if we ask for the next value of an iterable, that value can be computed and returned _lazily_ (on demand)\n",
    "* key benefit of using generators: everything works incrementally\n",
    "    - in the example, when we call numberedLines.next(), we only return a single numbered line\n",
    "        * and in turn, the numberLines generator only asks genLines() for a single line\n",
    "    - if genLines() reads its lines from a large text file and we ask numberLines() for a numbered line, we will get one as soon as genLines() has read its first line from the text file\n",
    "        * __without generators, genLines() would first read all the lines and return them and we'd have to wait much longer to get the first numbered line__"
   ]
  },
  {
   "cell_type": "code",
   "execution_count": 3,
   "id": "ba49e53d",
   "metadata": {},
   "outputs": [
    {
     "name": "stdout",
     "output_type": "stream",
     "text": [
      "{ iter1: { value: '1: A line', done: false } }\n",
      "{ iter2: { value: '2: Another line', done: false } }\n",
      "{ iter3: { value: '3: Last line', done: false } }\n"
     ]
    }
   ],
   "source": [
    "// returns an iterable over lines\n",
    "function* genLines() {\n",
    "    yield 'A line';\n",
    "    yield 'Another line';\n",
    "    yield 'Last line';\n",
    "}\n",
    "\n",
    "/**\n",
    " * Input: iterable over lines\n",
    " * Output: iterable over numbered lines\n",
    " */\n",
    "function* numberLines(lineIterable) {\n",
    "    let lineNumber = 1;\n",
    "    for (const line of lineIterable) { // input\n",
    "        yield lineNumber + ': ' + line; // output\n",
    "        lineNumber++;\n",
    "    }\n",
    "}\n",
    "\n",
    "var numberedLines = numberLines(genLines());\n",
    "console.log({iter1: numberedLines.next()});\n",
    "console.log({iter2: numberedLines.next()});\n",
    "console.log({iter3: numberedLines.next()});"
   ]
  },
  {
   "cell_type": "markdown",
   "id": "93433188",
   "metadata": {},
   "source": [
    "### Example: Mapping over iterables\n",
    "\n",
    "* mapIter() is similar to the Array method .map() but it returns an iterable, not an Array, and produces its results on demand"
   ]
  },
  {
   "cell_type": "code",
   "execution_count": 5,
   "id": "6396ab6a",
   "metadata": {},
   "outputs": [
    {
     "name": "stdout",
     "output_type": "stream",
     "text": [
      "{ iter1: { value: 'aa', done: false } }\n",
      "{ iter2: { value: 'bb', done: false } }\n",
      "{ iterable: [ 'aa', 'bb' ] }\n"
     ]
    }
   ],
   "source": [
    "function* mapIter(iterable, func) {\n",
    "    let index = 0;\n",
    "    for (const x of iterable) {\n",
    "        yield func(x, index);\n",
    "        index++;\n",
    "    }\n",
    "}\n",
    "\n",
    "// using the protocol\n",
    "var iterable = mapIter(['a', 'b'], x => x + x);\n",
    "console.log({ iter1: iterable.next() });\n",
    "console.log({ iter2: iterable.next() });\n",
    "\n",
    "// converting to an array\n",
    "var iterable = mapIter(['a', 'b'], x => x + x);\n",
    "console.log({iterable: Array.from(iterable)})"
   ]
  },
  {
   "cell_type": "markdown",
   "id": "61f22f5e",
   "metadata": {},
   "source": [
    "## Calling generators from generators (advanced)"
   ]
  },
  {
   "cell_type": "markdown",
   "id": "95eb5c0a",
   "metadata": {},
   "source": [
    "### Calling generators via yield*\n",
    "\n",
    "* yield only works __directly inside generators__\n",
    "* if we want to delegate yielding to outside functions/methods, we should use __yield*__"
   ]
  },
  {
   "cell_type": "code",
   "execution_count": 6,
   "id": "88ac726d",
   "metadata": {},
   "outputs": [
    {
     "name": "stdout",
     "output_type": "stream",
     "text": [
      "{ arr: [] }\n"
     ]
    }
   ],
   "source": [
    "// this does NOT work!\n",
    "function* bar() {\n",
    "    yield 'a';\n",
    "    yield 'b';\n",
    "}\n",
    "\n",
    "function* foo() {\n",
    "    // nothing happens if we call bar()\n",
    "    // reason being, bar() returns an iterable but we don't do anything with it\n",
    "    bar();\n",
    "}\n",
    "\n",
    "console.log({ arr: Array.from(foo()) });"
   ]
  },
  {
   "cell_type": "code",
   "execution_count": 7,
   "id": "8533a0c0",
   "metadata": {},
   "outputs": [
    {
     "name": "stdout",
     "output_type": "stream",
     "text": [
      "{ arr: [ 'a', 'b' ] }\n"
     ]
    }
   ],
   "source": [
    "// we can solve it by using yield* which yields everything yielded by bar()\n",
    "function* bar() {\n",
    "    yield 'a';\n",
    "    yield 'b';\n",
    "}\n",
    "\n",
    "function* foo() {\n",
    "    yield* bar();\n",
    "}\n",
    "\n",
    "console.log({ arr: Array.from(foo()) });\n",
    "\n",
    "// this is roughly equivalent to what foo() is doing with yield*\n",
    "function* foo() {\n",
    "    for (const x of bar()) {\n",
    "        // yields everything that bar yields\n",
    "        yield x;\n",
    "    }\n",
    "}"
   ]
  },
  {
   "cell_type": "code",
   "execution_count": 10,
   "id": "a7eb11a4",
   "metadata": {},
   "outputs": [
    {
     "name": "stdout",
     "output_type": "stream",
     "text": [
      "{ arr1: [ 1, 2 ] }\n",
      "{ arr2: [ 1, 2 ] }\n"
     ]
    }
   ],
   "source": [
    "// yield* also works with any iterable\n",
    "function* gen() {\n",
    "    // in this case the array is the iterable whose contents can all be yielded\n",
    "    yield* [1, 2];\n",
    "}\n",
    "\n",
    "console.log({ arr1: Array.from(gen()) });\n",
    "\n",
    "// this is the equivalent to what it's doing:\n",
    "function* gen() {\n",
    "    for (const x of [1, 2]) {\n",
    "        yield x;\n",
    "    }\n",
    "}\n",
    "\n",
    "console.log({ arr2: Array.from(gen()) })"
   ]
  },
  {
   "cell_type": "markdown",
   "id": "65b79246",
   "metadata": {},
   "source": [
    "### Example: Iterating over a tree\n",
    "\n",
    "* yield* lets us make recursive calls in generators which is useful for traversing trees\n",
    "* Method [Symbol.iterator]() adds support for the iteration protocol so that we can use a for-of loop to iterate over an instance of Binary Tree\n",
    "    - you ask an Iterable for an iterator via the method whose key is Symbol.iterator"
   ]
  },
  {
   "cell_type": "code",
   "execution_count": 3,
   "id": "42882de3",
   "metadata": {},
   "outputs": [
    {
     "name": "stdout",
     "output_type": "stream",
     "text": [
      "a\n",
      "b\n",
      "c\n",
      "d\n",
      "e\n"
     ]
    }
   ],
   "source": [
    "var BinaryTree = class {\n",
    "    constructor(value, left = null, right = null) {\n",
    "        this.value = value;\n",
    "        this.left = left;\n",
    "        this.right = right;\n",
    "    }\n",
    "    \n",
    "    // preorder traversal\n",
    "    \n",
    "    /**\n",
    "        let's break this down:\n",
    "            1. this is a generator method (marked by the * symbol)\n",
    "            2. this method returns an iterator (pointer that helps traverse the data structure)\n",
    "            3. to call this method, we require the key Symbol.iterator\n",
    "            4. this call is RECURSIVE:\n",
    "                - yield* will yield everything that this method will yield\n",
    "                - so essentially, it's calling the method again on this.left and this.right\n",
    "                - and yields whatever those nodes yield\n",
    "     */\n",
    "    * [Symbol.iterator]() {\n",
    "        yield this.value;\n",
    "        if (this.left) {\n",
    "            // same as yield* this.left[Symbol.iterator]()\n",
    "            yield* this.left;\n",
    "        }\n",
    "        if (this.right) {\n",
    "            yield* this.right;\n",
    "        }\n",
    "    }\n",
    "}\n",
    "\n",
    "var Tree = new BinaryTree('a',\n",
    "    new BinaryTree('b',\n",
    "        new BinaryTree('c'),\n",
    "        new BinaryTree('d')),\n",
    "    new BinaryTree('e'));\n",
    "\n",
    "for (const x of Tree) {\n",
    "    console.log(x);\n",
    "}"
   ]
  },
  {
   "cell_type": "markdown",
   "id": "b5a5a263",
   "metadata": {},
   "source": [
    "## Background: external iteration vs internal iteration\n",
    "\n",
    "* 2 different styles of iterating over the values \"inside\" an object\n",
    "    1. external iteration (pull): your code asks the object for the values via an iteration protocol\n",
    "        - e.g. for-of loop is based on JavaScript's iteration protocol\n",
    "    2. internal iteration (push): we pass a callback function to a method of the object and the method feeds the values to the callback\n",
    "        - e.g. Arrays have the method .forEach that feeds the values of the Array (object) to the callback that is passed into .forEach()"
   ]
  },
  {
   "cell_type": "code",
   "execution_count": 4,
   "id": "b5d1ff22",
   "metadata": {},
   "outputs": [
    {
     "name": "stdout",
     "output_type": "stream",
     "text": [
      "a\n",
      "b\n",
      "a\n",
      "b\n"
     ]
    }
   ],
   "source": [
    "// external iteration that makes use of the Iteration Protocol\n",
    "for (const x of ['a', 'b']) {\n",
    "    console.log(x);\n",
    "}\n",
    "\n",
    "// internal iteation\n",
    "['a', 'b'].forEach(x => {\n",
    "    console.log(x);\n",
    "});"
   ]
  },
  {
   "cell_type": "markdown",
   "id": "5985979d",
   "metadata": {},
   "source": [
    "## Use case for generators: reusing traversals"
   ]
  },
  {
   "cell_type": "markdown",
   "id": "b7ba0a87",
   "metadata": {},
   "source": [
    "### The traversal to reuse\n",
    "\n",
    "* in this example, logPaths traverses a tree of files and logs their paths"
   ]
  },
  {
   "cell_type": "code",
   "execution_count": null,
   "id": "72abe99f",
   "metadata": {},
   "outputs": [],
   "source": [
    "function logPaths(dir) {\n",
    "    for (const fileName of fs.readdirSync(dir)) {\n",
    "        const filePath = path.resolve(dir, fileName);\n",
    "        console.log(filePath);\n",
    "        const stats = fs.statSync(filePath);\n",
    "        if (stats.isDirectory()) {\n",
    "            logPaths(filePath); // recursive call\n",
    "        }\n",
    "    }\n",
    "}\n",
    "\n",
    "/**\n",
    "    Consider this directory:\n",
    "    \n",
    "    mydir/\n",
    "        a.txt\n",
    "        b.txt\n",
    "        subdir/\n",
    "            c.txt\n",
    " */\n",
    "\n",
    "// if we log paths:\n",
    "logPaths('mydir');\n",
    "\n",
    "// Output:\n",
    "// 'mydir/a.txt'\n",
    "// 'mydir/b.txt'\n",
    "// 'mydir/subdir'\n",
    "// 'mydir/subdir/c.txt'"
   ]
  },
  {
   "cell_type": "markdown",
   "id": "8b8db9e8",
   "metadata": {},
   "source": [
    "### Internal iteration (push)\n",
    "\n",
    "* one way of reusing this traversal code is via internal iteration where each traversed value is passed to a callback (line A)"
   ]
  },
  {
   "cell_type": "code",
   "execution_count": null,
   "id": "e75f96f7",
   "metadata": {},
   "outputs": [],
   "source": [
    "function visitPaths(dir, callback) {\n",
    "    for (const fileName of fs.readdirSync(dir)) {\n",
    "        const filePath = path.resolve(dir, fileName);\n",
    "        callback(filePath); // A\n",
    "        const stats = fs.statSync(filePath);\n",
    "        if (stats.isDirectory()) {\n",
    "            visitPaths(filePath); // recursive call\n",
    "        }\n",
    "    }\n",
    "}\n",
    "\n",
    "var paths = [];\n",
    "visitPaths('mydir', p => paths.push(p));\n",
    "\n",
    "/* Output:   [\n",
    "    'mydir/a.txt',\n",
    "    'mydir/b.txt',\n",
    "    'mydir/subdir',\n",
    "    'mydir/subdir/c.txt',\n",
    "]\n",
    "*/"
   ]
  },
  {
   "cell_type": "markdown",
   "id": "fde95346",
   "metadata": {},
   "source": [
    "### External iteration (pull)\n",
    "\n",
    "* another way of reusing this traversal code is via external iteration where we can write a generator that yields all traversed values (line A)"
   ]
  },
  {
   "cell_type": "code",
   "execution_count": null,
   "id": "9fa0a622",
   "metadata": {},
   "outputs": [],
   "source": [
    "function* iterPaths(dir, callback) {\n",
    "    for (const fileName of fs.readdirSync(dir)) {\n",
    "        const filePath = path.resolve(dir, fileName);\n",
    "        yield filePath; // A\n",
    "        const stats = fs.statSync(filePath);\n",
    "        if (stats.isDirectory()) {\n",
    "            yield* iterPaths(filePath); // recursive call\n",
    "        }\n",
    "    }\n",
    "}\n",
    "\n",
    "var paths = Array.from(iterPaths('mydir'));"
   ]
  },
  {
   "cell_type": "code",
   "execution_count": null,
   "id": "84808362",
   "metadata": {},
   "outputs": [],
   "source": []
  }
 ],
 "metadata": {
  "kernelspec": {
   "display_name": "JavaScript (Node.js)",
   "language": "javascript",
   "name": "javascript"
  },
  "language_info": {
   "file_extension": ".js",
   "mimetype": "application/javascript",
   "name": "javascript",
   "version": "16.14.2"
  }
 },
 "nbformat": 4,
 "nbformat_minor": 5
}
