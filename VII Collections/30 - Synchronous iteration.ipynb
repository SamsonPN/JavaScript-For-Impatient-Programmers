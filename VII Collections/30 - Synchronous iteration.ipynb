{
 "cells": [
  {
   "cell_type": "markdown",
   "id": "da5d62ab",
   "metadata": {},
   "source": [
    "# [Synchronous iteration](https://exploringjs.com/impatient-js/ch_sync-iteration.html)"
   ]
  },
  {
   "cell_type": "markdown",
   "id": "11ecf306",
   "metadata": {},
   "source": [
    "## What is synchronous iteration about?\n",
    "\n",
    "* synchronous iteration is a _protocol_ (interfaces plus rules for using them) that connect 2 groups of entities in JavaScript:\n",
    "    1. Data sources: arrays, sets, dictionary maps, tree-shaped data structures, etc\n",
    "    2. Data consumers: algorithms/classes that access input sequentially like for-of loop or spread syntax (...)\n",
    "* iteration protocol connects them via the interface _Iterable_\n",
    "    - data sources deliver their contents sequentially through the Iterable interface and data consumers get their input from it\n",
    "* both sources and consumers profit:\n",
    "    - if you have a new data structure you only need to implement _Iterable_ and many tools can immediately be applied to it\n",
    "    - if your code uses iteration, it can work with many sources of data automatically"
   ]
  },
  {
   "cell_type": "markdown",
   "id": "752aaef7",
   "metadata": {},
   "source": [
    "![Data](https://exploringjs.com/impatient-js/img-book/sync-iteration/iterable-implementers-clients.svg)"
   ]
  },
  {
   "cell_type": "markdown",
   "id": "6a31dc3a",
   "metadata": {},
   "source": [
    "## Core iteration constructs: iterables and iterators\n",
    "\n",
    "* two roles form the core of iteration:\n",
    "    1. _iterable_: an object whose contents can be traversed sequentially\n",
    "    2. _iterator_: pointer used for the traversal of the iterable\n",
    "* interfaces are used as follows:\n",
    "    - you ask an _Iterable_ for an iterator via the method whose key is _Symbol.iterator_\n",
    "    - the _Iterator_ returns the iterated values via its method .next()\n",
    "    - values re not returned directly but are wrapped in objects with 2 properties:\n",
    "        1. .value is the iterated value\n",
    "        2. .done indicates if the end of the iteration has been reached.\n",
    "            * returns true after the last iterated value and false beforehand"
   ]
  },
  {
   "cell_type": "markdown",
   "id": "ee640352",
   "metadata": {},
   "source": [
    "![Iterables and Iterators](https://exploringjs.com/impatient-js/img-book/sync-iteration/iteration-protocol.svg)"
   ]
  },
  {
   "cell_type": "code",
   "execution_count": null,
   "id": "914057e0",
   "metadata": {},
   "outputs": [],
   "source": [
    "interface Iterable<T> {\n",
    "    [Symbol.iterator](): Iterator<T>;\n",
    "}\n",
    "\n",
    "interface Iterator<T> {\n",
    "    next(): IteratorResult<T>;\n",
    "}\n",
    "\n",
    "interface IteratorResult<T> {\n",
    "    value: T;\n",
    "    done: boolean;\n",
    "}"
   ]
  },
  {
   "cell_type": "markdown",
   "id": "1816046d",
   "metadata": {},
   "source": [
    "## Iterating manually"
   ]
  },
  {
   "cell_type": "code",
   "execution_count": 3,
   "id": "978f21c8",
   "metadata": {},
   "outputs": [
    {
     "name": "stdout",
     "output_type": "stream",
     "text": [
      "{ value: 'a', done: false }\n",
      "{ value: 'b', done: false }\n",
      "{ value: undefined, done: true }\n"
     ]
    }
   ],
   "source": [
    "var iterable = ['a', 'b'];\n",
    "\n",
    "// the iterable is a factory for iterators:\n",
    "var iterator = iterable[Symbol.iterator]();\n",
    "\n",
    "// call .next() until .done is true\n",
    "\n",
    "console.log(iterator.next());\n",
    "console.log(iterator.next());\n",
    "console.log(iterator.next());"
   ]
  },
  {
   "cell_type": "markdown",
   "id": "0cf2ae32",
   "metadata": {},
   "source": [
    "### Iterating over an iterable via while"
   ]
  },
  {
   "cell_type": "code",
   "execution_count": 4,
   "id": "ecf84819",
   "metadata": {},
   "outputs": [
    {
     "name": "stdout",
     "output_type": "stream",
     "text": [
      "a\n",
      "b\n"
     ]
    }
   ],
   "source": [
    "function logAll(iterable) {\n",
    "    const iterator = iterable[Symbol.iterator]();\n",
    "    while (true) {\n",
    "        const { value, done } = iterator.next();\n",
    "        if (done) break;\n",
    "        console.log(value);\n",
    "    }\n",
    "}\n",
    "\n",
    "logAll(['a', 'b']);"
   ]
  },
  {
   "cell_type": "markdown",
   "id": "5f75f823",
   "metadata": {},
   "source": [
    "## Iterating in practice\n",
    "\n",
    "* iteration protocol is not meant to be used directly but via higher-level constructs built on top of it"
   ]
  },
  {
   "cell_type": "markdown",
   "id": "b85bfbe8",
   "metadata": {},
   "source": [
    "### Iterating over Arrays"
   ]
  },
  {
   "cell_type": "code",
   "execution_count": 5,
   "id": "52a47515",
   "metadata": {},
   "outputs": [
    {
     "name": "stdout",
     "output_type": "stream",
     "text": [
      "a\n",
      "b\n",
      "c\n"
     ]
    }
   ],
   "source": [
    "var myArray = ['a', 'b', 'c'];\n",
    "\n",
    "for (const x of myArray) {\n",
    "    console.log(x);\n",
    "}"
   ]
  },
  {
   "cell_type": "code",
   "execution_count": 6,
   "id": "6c594f5e",
   "metadata": {},
   "outputs": [
    {
     "name": "stdout",
     "output_type": "stream",
     "text": [
      "{ first: 'a', second: 'b' }\n"
     ]
    }
   ],
   "source": [
    "// destructuring via Array patterns also uses iteration under the hood\n",
    "var [first, second] = myArray;\n",
    "console.log({first, second})"
   ]
  },
  {
   "cell_type": "markdown",
   "id": "4ec19763",
   "metadata": {},
   "source": [
    "### Iterating over Sets"
   ]
  },
  {
   "cell_type": "code",
   "execution_count": 7,
   "id": "87997843",
   "metadata": {},
   "outputs": [
    {
     "name": "stdout",
     "output_type": "stream",
     "text": [
      "a\n",
      "b\n",
      "c\n"
     ]
    }
   ],
   "source": [
    "var mySet = new Set().add('a').add('b').add('c');\n",
    "\n",
    "for (const x of mySet) {\n",
    "    console.log(x);\n",
    "}"
   ]
  },
  {
   "cell_type": "code",
   "execution_count": 11,
   "id": "e57d0d23",
   "metadata": {},
   "outputs": [
    {
     "name": "stdout",
     "output_type": "stream",
     "text": [
      "{ first: 'a', second: 'b', third: 'c' }\n"
     ]
    }
   ],
   "source": [
    "// array destructuring also works with sets\n",
    "var [first, second, third] = mySet;\n",
    "console.log({first, second, third})"
   ]
  },
  {
   "cell_type": "markdown",
   "id": "5ee9d48e",
   "metadata": {},
   "source": [
    "## Quick reference: synchronous iteration"
   ]
  },
  {
   "cell_type": "markdown",
   "id": "38e7a399",
   "metadata": {},
   "source": [
    "### Iterable data sources\n",
    "\n",
    "* the following built-in data sources are iterable\n",
    "    - arrays\n",
    "    - strings\n",
    "    - maps\n",
    "    - sets\n",
    "    - Browsers: DOM data structures\n",
    "* to iterate over the properties of objects, you need helpers like Object.keys() and Object.entries()\n",
    "    - reason being, properties are on a different level that is independent of the level of data structures"
   ]
  },
  {
   "cell_type": "markdown",
   "id": "dfd53a52",
   "metadata": {},
   "source": [
    "### Synchronously iterating language constructs"
   ]
  },
  {
   "cell_type": "markdown",
   "id": "c8b0d499",
   "metadata": {},
   "source": [
    "#### Language constructs that iterate"
   ]
  },
  {
   "cell_type": "code",
   "execution_count": null,
   "id": "eab2b19c",
   "metadata": {},
   "outputs": [],
   "source": [
    "// destructuring via an Array pattern\n",
    "\n",
    "var [x, y] = iterable;\n",
    "\n",
    "// spreading (via ...) into function calls and array literals:\n",
    "func(...iterable);\n",
    "var arr = [...iterable];\n",
    "\n",
    "// the for-of loop\n",
    "for (const x of iterable) { /*...*/ }\n",
    "\n",
    "// yield*:\n",
    "function* generatorFunction() {\n",
    "    yield* iterable\n",
    "}"
   ]
  },
  {
   "cell_type": "markdown",
   "id": "f2a4815c",
   "metadata": {},
   "source": [
    "#### Turning iterables into data structures"
   ]
  },
  {
   "cell_type": "code",
   "execution_count": null,
   "id": "d2d3cef1",
   "metadata": {},
   "outputs": [],
   "source": [
    "// Object.fromEntries:\n",
    "var obj = Object.fromEntries(iterableOverKeyValuePairs);\n",
    "\n",
    "// Array.from():\n",
    "var arr = Array.from(iterable);\n",
    "\n",
    "// new Map() and new WeakMap():\n",
    "var m = new Map(iterableOverKeyValuePairs);\n",
    "var wm = new WeakMap(iterableOverKeyValuePairs);\n",
    "\n",
    "// new Set() and new WeakSet():\n",
    "var s = new Set(iterableOverElements);\n",
    "var ws = new WeakSet(iterableOverElements);"
   ]
  },
  {
   "cell_type": "markdown",
   "id": "efee3a55",
   "metadata": {},
   "source": [
    "#### Miscellaneous"
   ]
  },
  {
   "cell_type": "code",
   "execution_count": null,
   "id": "23c17d22",
   "metadata": {},
   "outputs": [],
   "source": [
    "// Promise combinator functions\n",
    "\n",
    "var promise1 = Promse.all(iterableOverPromises);\n",
    "var promise2 = Promise.race(iterableOverPromises);\n",
    "var promise3 = Promise.any(iterableOverPromises);\n",
    "var promise4 = Promise.allSettled(iterableOverPromises);"
   ]
  }
 ],
 "metadata": {
  "kernelspec": {
   "display_name": "JavaScript (Node.js)",
   "language": "javascript",
   "name": "javascript"
  },
  "language_info": {
   "file_extension": ".js",
   "mimetype": "application/javascript",
   "name": "javascript",
   "version": "16.14.2"
  }
 },
 "nbformat": 4,
 "nbformat_minor": 5
}
