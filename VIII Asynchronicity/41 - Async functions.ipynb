{
 "cells": [
  {
   "cell_type": "markdown",
   "id": "47289ce9",
   "metadata": {},
   "source": [
    "# [Async functions](https://exploringjs.com/impatient-js/ch_async-functions.html)"
   ]
  },
  {
   "cell_type": "markdown",
   "id": "4a483178",
   "metadata": {},
   "source": [
    "## Async functions:  the basics\n",
    "\n",
    "* async functions are marked with the keyword __async__\n",
    "* inside an async function, Promise-based code is written as if it were synchronous\n",
    "    - only need to use the __await__ operator when a value is a Promise\n",
    "    - that operator pauses the async function and resumes it when the Promise is settled:\n",
    "        * if the Promise is fulfilled, await returns the fulfillment value\n",
    "        * if the Promise is rejected, await throws the rejection value\n",
    "* __the result of an async function is always a Promise__\n",
    "    - any value that is returned (explicitly or implicitly) is used to fulfill the Promise\n",
    "    - any exception that is thronw is used to reject the Promise"
   ]
  },
  {
   "cell_type": "code",
   "execution_count": null,
   "id": "06a9581c",
   "metadata": {},
   "outputs": [],
   "source": [
    "// async function\n",
    "\n",
    "async function fetchJsonAsync(url) {\n",
    "    try {\n",
    "        const request = await fetch(url); // async\n",
    "        const text = await request.text(); // async\n",
    "        return JSON.parse(text); // sync\n",
    "    }\n",
    "    catch (error) {\n",
    "        assert.fail(error);\n",
    "    }\n",
    "}\n",
    "\n",
    "// similar to async but with Promises\n",
    "function fetchJsonViaPromises(url) {\n",
    "    return fetch(url) // async\n",
    "        .then(request => request.text()) // async\n",
    "        .then(text => JSON.parse(text)) // sync\n",
    "        .catch(error => {\n",
    "            assert.fail(error);\n",
    "        })\n",
    "}"
   ]
  },
  {
   "cell_type": "code",
   "execution_count": null,
   "id": "08d9f09b",
   "metadata": {},
   "outputs": [],
   "source": [
    "// both fetchJsonAsync() and fetchJsonViaPromises() are called in the exact same way:\n",
    "\n",
    "fetchJsonAsync('http://example.com/person.json')\n",
    "    .then(obj => {\n",
    "        assert.deepEqual(obj, {\n",
    "            first: 'Jane',\n",
    "            last: 'Doe'\n",
    "        });\n",
    "});"
   ]
  },
  {
   "cell_type": "markdown",
   "id": "d85e850a",
   "metadata": {},
   "source": [
    "### Async constructs"
   ]
  },
  {
   "cell_type": "code",
   "execution_count": null,
   "id": "a6e3fedf",
   "metadata": {},
   "outputs": [],
   "source": [
    "// async function delcaration\n",
    "\n",
    "async function func1() {}\n",
    "\n",
    "// async function expression\n",
    "const func2 = async function () {};\n",
    "\n",
    "// async arrow function\n",
    "const func3 = async () => {};\n",
    "\n",
    "// async method definition in an object literal\n",
    "const obj = { async m() {} };\n",
    "\n",
    "// async method definition in a class definition\n",
    "class MyClass { async m() {} }"
   ]
  },
  {
   "cell_type": "markdown",
   "id": "172a6a78",
   "metadata": {},
   "source": [
    "#### asynchronous functions vs async function\n",
    "\n",
    "* asynchronous function: any function that delivers its result asynchronously, e.g. a callback-based function or a Promise-based function\n",
    "* async function: defined via special syntax involving the keywords async and await\n",
    "    - also called async/await due to these 2 keywords\n",
    "    - async functions are based on Promises and therefore also asynchronous functions"
   ]
  },
  {
   "cell_type": "markdown",
   "id": "d5bd042b",
   "metadata": {},
   "source": [
    "## Returning from async functions"
   ]
  },
  {
   "cell_type": "markdown",
   "id": "cedea7a6",
   "metadata": {},
   "source": [
    "### Async functions always return Promises"
   ]
  },
  {
   "cell_type": "code",
   "execution_count": 6,
   "id": "41ce4e20",
   "metadata": {},
   "outputs": [
    {
     "data": {
      "text/plain": [
       "Promise { <pending> }"
      ]
     },
     "execution_count": 6,
     "metadata": {},
     "output_type": "execute_result"
    },
    {
     "name": "stdout",
     "output_type": "stream",
     "text": [
      "{ result: 123 }\n",
      "{ result: undefined }\n"
     ]
    }
   ],
   "source": [
    "// inside the async function, we fulfill the result Promise via return \n",
    "var asyncFunc1 = async function () {\n",
    "    return 123; // A\n",
    "}\n",
    "\n",
    "asyncFunc1()\n",
    "    .then(result => {\n",
    "        console.log({ result })\n",
    "    })\n",
    "\n",
    "// if we don't explicity return anything, undefined is returned for us\n",
    "var asyncFunc2 = async function () {\n",
    "    \n",
    "}\n",
    "\n",
    "asyncFunc2()\n",
    "    .then(result => {\n",
    "        console.log({ result })\n",
    "    })"
   ]
  },
  {
   "cell_type": "code",
   "execution_count": 5,
   "id": "4ff18dd5",
   "metadata": {},
   "outputs": [
    {
     "data": {
      "text/plain": [
       "Promise { <pending> }"
      ]
     },
     "execution_count": 5,
     "metadata": {},
     "output_type": "execute_result"
    },
    {
     "name": "stderr",
     "output_type": "stream",
     "text": [
      "{\n",
      "  err: Error: Problem!\n",
      "      at asyncFunc3 (evalmachine.<anonymous>:4:11)\n",
      "      at evalmachine.<anonymous>:7:1\n",
      "      at Script.runInThisContext (node:vm:129:12)\n",
      "      at Object.runInThisContext (node:vm:305:38)\n",
      "      at run ([eval]:1020:15)\n",
      "      at onRunRequest ([eval]:864:18)\n",
      "      at onMessage ([eval]:828:13)\n",
      "      at process.emit (node:events:526:28)\n",
      "      at emit (node:internal/child_process:938:14)\n",
      "      at processTicksAndRejections (node:internal/process/task_queues:84:21)\n",
      "}\n"
     ]
    }
   ],
   "source": [
    "// reject the result Promise via throw\n",
    "\n",
    "var asyncFunc3 = async function () {\n",
    "    throw new Error('Problem!');\n",
    "}\n",
    "\n",
    "asyncFunc3()\n",
    "    .catch(err => {\n",
    "        console.error({ err })\n",
    "    })"
   ]
  },
  {
   "cell_type": "markdown",
   "id": "76fa1f25",
   "metadata": {},
   "source": [
    "### Returned Promises are not wrapped\n",
    "\n",
    "* if we return a Promise from an async function instead of value/error, then the result of the async function behaves like the returned Promise\n",
    "    - we do not wrap that Promise in another Promise\n",
    "* any Promise, q, is treated similarly in the following situations:\n",
    "    - resolve(q) inside new Promise((resolve, reject) => { ... })\n",
    "    - return q inside .then(result => { ... })\n",
    "    - return q inside .catch(err => { ... })"
   ]
  },
  {
   "cell_type": "code",
   "execution_count": 7,
   "id": "5110de2f",
   "metadata": {},
   "outputs": [
    {
     "data": {
      "text/plain": [
       "Promise { <pending> }"
      ]
     },
     "execution_count": 7,
     "metadata": {},
     "output_type": "execute_result"
    },
    {
     "name": "stdout",
     "output_type": "stream",
     "text": [
      "{ result: 'abc' }\n"
     ]
    }
   ],
   "source": [
    "async function asyncFunc() {\n",
    "    return Promise.resolve('abc');\n",
    "}\n",
    "\n",
    "asyncFunc()\n",
    "    .then(result => {\n",
    "        console.log({ result })\n",
    "    })"
   ]
  },
  {
   "cell_type": "markdown",
   "id": "7eee67e9",
   "metadata": {},
   "source": [
    "### Executing async functions: synchronous start, asynchronous settlement (advanced)\n",
    "\n",
    "* async functions are executed as follows:\n",
    "    1. a Promise, p, is created when the async function is started\n",
    "    2. then the body of the async function is executed and execution can only leave the body in 2 ways:\n",
    "        - execution can leave __permanently__ while settling p:\n",
    "            * a _return_ fulfills p\n",
    "            * a _throw_ rejects p\n",
    "        - execution can leave __temporarily__ when awaiting the settlement of another promise, q, via _await_\n",
    "            * async function is paused and execution leaves it but comes back when q is settled\n",
    "    3. Promise p is returned after execution has left the body for the first time whether permanently or temporarily\n",
    "* notification of the settlement of the result p happens asynchronously\n",
    "* in the demo: async funxtion is started synchronously (A), then the current task finishes (C), then the result Promise is settled asynchronously (B)"
   ]
  },
  {
   "cell_type": "code",
   "execution_count": 8,
   "id": "c02f8917",
   "metadata": {},
   "outputs": [
    {
     "name": "stdout",
     "output_type": "stream",
     "text": [
      "asyncFunc() starts\n",
      "Task ends\n",
      "Resolved: abc\n"
     ]
    }
   ],
   "source": [
    "async function asyncFunc() {\n",
    "    console.log('asyncFunc() starts') // A\n",
    "    return 'abc';\n",
    "}\n",
    "\n",
    "asyncFunc().\n",
    "    then(x => { // B\n",
    "        console.log(`Resolved: ${x}`);\n",
    "    });\n",
    "\n",
    "console.log('Task ends'); // C"
   ]
  },
  {
   "cell_type": "markdown",
   "id": "e4a1ba65",
   "metadata": {},
   "source": [
    "## await: working with Promises\n",
    "\n",
    "* __await__ operator can only be used inside async funtions and async generators\n",
    "    - operand for await is a Promise\n",
    "* when execution encounters await for a Promise, these steps happen:\n",
    "    1. current async function is paused and returned from\n",
    "    2. eventually, current task is finished and processing of the task queue continues\n",
    "    3. when/if the Promise is settled, the async function is resumed in a new task:\n",
    "        - if Promise is fulfilled, await returns the fulfillment value\n",
    "        - if Promise is rejected, await throws the rejection value"
   ]
  },
  {
   "cell_type": "markdown",
   "id": "dc71c062",
   "metadata": {},
   "source": [
    "### await and fulfilled Promises\n",
    "\n",
    "* if its operand ends up being a fulfilled Promise, await returns its fulfillment value\n",
    "* non-Promise values are allowed, too, and simply passed on (synchronously, without pausing the async function)"
   ]
  },
  {
   "cell_type": "code",
   "execution_count": 12,
   "id": "d3640833",
   "metadata": {},
   "outputs": [
    {
     "data": {
      "text/plain": [
       "Promise { <pending> }"
      ]
     },
     "execution_count": 12,
     "metadata": {},
     "output_type": "execute_result"
    }
   ],
   "source": [
    "var assert = require('assert');\n",
    "\n",
    "// logs will not show anything since the assertion is correct\n",
    "async function asyncFunc() {\n",
    "    assert.equal(await Promise.resolve('yes!'), 'yes!');\n",
    "\n",
    "    // non-Promise value\n",
    "    assert.equal(await 'yes!', 'yes!'); \n",
    "}\n",
    "\n",
    "asyncFunc();"
   ]
  },
  {
   "cell_type": "markdown",
   "id": "a5c6686a",
   "metadata": {},
   "source": [
    "### await and rejected Promises\n",
    "\n",
    "* if its operand is a rejected Promise, then await throws the rejection value"
   ]
  },
  {
   "cell_type": "code",
   "execution_count": 16,
   "id": "92d94b63",
   "metadata": {},
   "outputs": [
    {
     "data": {
      "text/plain": [
       "Promise { <pending> }"
      ]
     },
     "execution_count": 16,
     "metadata": {},
     "output_type": "execute_result"
    }
   ],
   "source": [
    "async function asyncFunc() {\n",
    "    try {\n",
    "        await Promise.reject(new Error());\n",
    "        assert.fail(); // we never get here\n",
    "    }\n",
    "    catch (e) {\n",
    "        // will not log since e is an instanceof Error\n",
    "        assert.equal(e instanceof Error, true);\n",
    "    }\n",
    "}\n",
    "\n",
    "asyncFunc();"
   ]
  },
  {
   "cell_type": "markdown",
   "id": "afb91f10",
   "metadata": {},
   "source": [
    "### await is shallow (we can't use it in callbacks)\n",
    "\n",
    "* if we are inside an async function and want to pause it via await, we must do so directly within that function\n",
    "* it cannot be used inside a nested function, like a callback\n",
    "* that is, pausing exeuction via await is __shallow__"
   ]
  },
  {
   "cell_type": "code",
   "execution_count": 17,
   "id": "ec6cc2c6",
   "metadata": {},
   "outputs": [
    {
     "ename": "SyntaxError",
     "evalue": "await is only valid in async functions and the top level bodies of modules",
     "output_type": "error",
     "traceback": [
      "evalmachine.<anonymous>:5",
      "        return await httpGet(url); // SyntaxError!",
      "               ^^^^^",
      "",
      "SyntaxError: await is only valid in async functions and the top level bodies of modules",
      "    at new Script (node:vm:100:7)",
      "    at createScript (node:vm:257:10)",
      "    at Object.runInThisContext (node:vm:305:10)",
      "    at run ([eval]:1020:15)",
      "    at onRunRequest ([eval]:864:18)",
      "    at onMessage ([eval]:828:13)",
      "    at process.emit (node:events:526:28)",
      "    at emit (node:internal/child_process:938:14)",
      "    at processTicksAndRejections (node:internal/process/task_queues:84:21)"
     ]
    }
   ],
   "source": [
    "// following code can't be executed\n",
    "// normal arrow functions don't allow await to be used inside their bodies\n",
    "async function downloadContent(urls) {\n",
    "    return urls.map(url => {\n",
    "        return await httpGet(url); // SyntaxError!\n",
    "    });\n",
    "}\n",
    "\n",
    "// what about async arrow functions?\n",
    "// this doesn't work either b/c .map() (and therefore downloadContent()) returns an Array with Promises, not an Array\n",
    "// with unwrapped values\n",
    "\n",
    "// reason being, async functions return Promises\n",
    "// await returns the fulfillment value of httpGet(url) but it'll just get wrapped in a Promise by the function\n",
    "// given to .map()\n",
    "// so .map() ends up with an Array of Promises\n",
    "async function downloadContent(urls) {\n",
    "    return urls.map(async (url) => {\n",
    "        return await httpGet(url); // SyntaxError!\n",
    "    });\n",
    "}\n",
    "\n",
    "// one solution would be to use Promise.all() to unwrapp all Promises\n",
    "async function downloadContent(urls) {\n",
    "    const promiseArray = urls.map(async (url) => {\n",
    "        return await httpGet(url); // A\n",
    "    });\n",
    "    \n",
    "    return await Promise.all(promiseArray); // B\n",
    "}\n",
    "\n",
    "// but the code above can be improved\n",
    "// in line A, we are unwrapping a Promise via await but re-wrap it again via the return\n",
    "// therefore, we can omit the await keyword\n",
    "\n",
    "// in line B, the same logic for line A also applies\n",
    "// await unwraps the Promise returned by Promise.all() only to be re-wrapped in a Promise by the return\n",
    "\n",
    "// in addition, we can also remove the async keyword since we don't even use the await keyword in the body of the function\n",
    "\n",
    "function downloadContent(urls) {\n",
    "    const promiseArray = urls.map((url) => {\n",
    "        return httpGet(url); // A\n",
    "    });\n",
    "    \n",
    "    return Promise.all(promiseArray);\n",
    "}"
   ]
  },
  {
   "cell_type": "code",
   "execution_count": 18,
   "id": "e160e140",
   "metadata": {},
   "outputs": [
    {
     "data": {
      "text/plain": [
       "Promise { <pending> }"
      ]
     },
     "execution_count": 18,
     "metadata": {},
     "output_type": "execute_result"
    },
    {
     "name": "stdout",
     "output_type": "stream",
     "text": [
      "{ res: [ 0, 1, 2, 3, 4 ] }\n"
     ]
    }
   ],
   "source": [
    "function downloadContent(urls) {\n",
    "    const promiseArray = urls.map((url, i) => Promise.resolve(i));\n",
    "    return Promise.all(promiseArray);\n",
    "}\n",
    "\n",
    "const example = Array.from({ length: 5}, (_, i) => i);\n",
    "\n",
    "downloadContent(example)\n",
    "    .then(res => {\n",
    "        console.log({res})\n",
    "    })"
   ]
  },
  {
   "cell_type": "markdown",
   "id": "7aaf427c",
   "metadata": {},
   "source": [
    "### Using await at the top levels of modules"
   ]
  },
  {
   "cell_type": "code",
   "execution_count": null,
   "id": "228d9b43",
   "metadata": {},
   "outputs": [],
   "source": [
    "let lodash;\n",
    "\n",
    "try {\n",
    "    lodash = await import('https://primary.example.com/lodash');\n",
    "}\n",
    "catch {\n",
    "    lodash = await import('https://secondary.example.com/lodash');\n",
    "}"
   ]
  },
  {
   "cell_type": "markdown",
   "id": "98855a1d",
   "metadata": {},
   "source": [
    "## Concurrency and await"
   ]
  },
  {
   "cell_type": "code",
   "execution_count": 19,
   "id": "4147724d",
   "metadata": {},
   "outputs": [],
   "source": [
    "// helper function paused():\n",
    "\n",
    "/**\n",
    " * Resolves after `ms` milliseconds\n",
    " */\n",
    "\n",
    "function delay(ms) {\n",
    "    return new Promise((resolve, _reject) => {\n",
    "        setTimeout(resolve, ms);\n",
    "    })\n",
    "}\n",
    "\n",
    "async function paused(id) {\n",
    "    console.log('Start ' + id);\n",
    "    await delay(10); // pause\n",
    "    console.log('END ' + id);\n",
    "    return id;\n",
    "}"
   ]
  },
  {
   "cell_type": "markdown",
   "id": "f23c4b4c",
   "metadata": {},
   "source": [
    "### await: running asynchronous functions sequentially\n",
    "\n",
    "* if we use await to invoke multiple asynchronous functions, they will be executed sequentially\n",
    "* paused('second') is only started after paused('first') is completely finished"
   ]
  },
  {
   "cell_type": "code",
   "execution_count": 21,
   "id": "343fc470",
   "metadata": {},
   "outputs": [
    {
     "name": "stdout",
     "output_type": "stream",
     "text": [
      "Start first\n"
     ]
    },
    {
     "data": {
      "text/plain": [
       "Promise { <pending> }"
      ]
     },
     "execution_count": 21,
     "metadata": {},
     "output_type": "execute_result"
    },
    {
     "name": "stdout",
     "output_type": "stream",
     "text": [
      "END first\n",
      "Start second\n",
      "END second\n"
     ]
    }
   ],
   "source": [
    "async function sequentialAwait() {\n",
    "    const result1 = await paused('first');\n",
    "    assert.equal(result1, 'first');\n",
    "    \n",
    "    const result2 = await paused('second');\n",
    "    assert.equal(result2, 'second');\n",
    "}\n",
    "\n",
    "sequentialAwait();"
   ]
  },
  {
   "cell_type": "markdown",
   "id": "510a9755",
   "metadata": {},
   "source": [
    "### await: running asynchronous functions concurrently\n",
    "\n",
    "* if we want to run multiple functions concurrently, we can use Promise.all()\n",
    "* both asynchronous functions are started at the same time\n",
    "    - once both are settled, await gives us either an Array of fulfillment values or -- if at least one Promise is rejected -- an exception"
   ]
  },
  {
   "cell_type": "code",
   "execution_count": 23,
   "id": "01ee23a9",
   "metadata": {},
   "outputs": [
    {
     "name": "stdout",
     "output_type": "stream",
     "text": [
      "Start first\n",
      "Start second\n"
     ]
    },
    {
     "data": {
      "text/plain": [
       "Promise { <pending> }"
      ]
     },
     "execution_count": 23,
     "metadata": {},
     "output_type": "execute_result"
    },
    {
     "name": "stdout",
     "output_type": "stream",
     "text": [
      "END first\n",
      "END second\n",
      "{ result: [ 'first', 'second' ] }\n"
     ]
    }
   ],
   "source": [
    "async function concurrentPromiseAll() {\n",
    "    const result = await Promise.all([\n",
    "        paused('first'), paused('second')\n",
    "    ]);\n",
    "    \n",
    "    console.log({ result })\n",
    "}\n",
    "\n",
    "concurrentPromiseAll();"
   ]
  },
  {
   "cell_type": "markdown",
   "id": "f8c6f954",
   "metadata": {},
   "source": [
    "* recall that what counts is __when we start a Promise-based computation; not how we process its result__ is what matters  when running sequentially vs concurrently\n",
    "* therefore, the following example is as concurrent as the previous example"
   ]
  },
  {
   "cell_type": "code",
   "execution_count": 26,
   "id": "1e354d74",
   "metadata": {},
   "outputs": [
    {
     "name": "stdout",
     "output_type": "stream",
     "text": [
      "Start first\n",
      "Start second\n"
     ]
    },
    {
     "data": {
      "text/plain": [
       "Promise { <pending> }"
      ]
     },
     "execution_count": 26,
     "metadata": {},
     "output_type": "execute_result"
    },
    {
     "name": "stdout",
     "output_type": "stream",
     "text": [
      "END first\n",
      "first\n",
      "END second\n",
      "second\n"
     ]
    }
   ],
   "source": [
    "async function concurrentAwait() {\n",
    "    const resultPromise1 = paused('first');\n",
    "    const resultPromise2 = paused('second');\n",
    "    \n",
    "    console.log(await resultPromise1);\n",
    "    console.log(await resultPromise2);\n",
    "}\n",
    "\n",
    "concurrentAwait();"
   ]
  },
  {
   "cell_type": "markdown",
   "id": "61493c07",
   "metadata": {},
   "source": [
    "## Tips for using async functions"
   ]
  },
  {
   "cell_type": "markdown",
   "id": "5f4ddac2",
   "metadata": {},
   "source": [
    "### We don't need await if we \"fire and forgot\"\n",
    "\n",
    "* await is not requred when working with Promise-based functions\n",
    "* __we only need it when we want to pause and wait until the returned Promise is settled__\n",
    "* if we only want to start an asynchronous operation, we don't need it\n",
    "* in the example:\n",
    "    - we don't await .write() b/c we don't care when it is finished\n",
    "    - we do care when .close() is done so we use await on it\n",
    "* Note: each invocation of .write() starts synchronously which prevents race conditions"
   ]
  },
  {
   "cell_type": "code",
   "execution_count": null,
   "id": "2e679b3b",
   "metadata": {},
   "outputs": [],
   "source": [
    "async function asyncFunc() {\n",
    "    const writer = openFile('someFile.txt');\n",
    "    writer.write('hello'); // don't wait\n",
    "    writer.write('world'); // don't wait\n",
    "    await writer.close(); // wait for file to close\n",
    "}"
   ]
  },
  {
   "cell_type": "markdown",
   "id": "816136bc",
   "metadata": {},
   "source": [
    "### It can make sense to await and ignore the result\n",
    "\n",
    "* in the example, we are using await to join a long-running asynchronous operation\n",
    "* this ensures that the logging really happens _after_ the operation is done"
   ]
  },
  {
   "cell_type": "code",
   "execution_count": null,
   "id": "f4e3e57b",
   "metadata": {},
   "outputs": [],
   "source": [
    "await longRunningAsyncOperation();\n",
    "console.log('Done!');"
   ]
  }
 ],
 "metadata": {
  "kernelspec": {
   "display_name": "JavaScript (Node.js)",
   "language": "javascript",
   "name": "javascript"
  },
  "language_info": {
   "file_extension": ".js",
   "mimetype": "application/javascript",
   "name": "javascript",
   "version": "16.14.2"
  }
 },
 "nbformat": 4,
 "nbformat_minor": 5
}
