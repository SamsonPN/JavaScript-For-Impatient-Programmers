{
 "cells": [
  {
   "cell_type": "markdown",
   "id": "bd380c30",
   "metadata": {},
   "source": [
    "# [Asynchronicity](https://exploringjs.com/impatient-js/ch_async-js.html#a-roadmap-for-asynchronous-programming-in-javascript)"
   ]
  },
  {
   "cell_type": "markdown",
   "id": "85c09040",
   "metadata": {},
   "source": [
    "## The Call Stack\n",
    "\n",
    "* remembers where to return to after a function calls another function\n",
    "* caller function: pushes the location to return to onto the call stack\n",
    "* callee: jumps to that location after it is done\n",
    "***\n",
    "* e.g.\n",
    "    - after f(3) is called, return location is line 12\n",
    "    - after g(x + 1) is called, return location is line 10\n",
    "    - after h(y + 1) is called, return location is line 7\n",
    "* so the stack will look like: [12, 10, 7], with 7 being the top of the stack\n",
    "***\n",
    "* the error prints out a _stack trace_\n",
    "    - records where calls were made but not return locations"
   ]
  },
  {
   "cell_type": "code",
   "execution_count": 2,
   "id": "5061725e",
   "metadata": {
    "scrolled": true
   },
   "outputs": [
    {
     "name": "stdout",
     "output_type": "stream",
     "text": [
      "Error\n",
      "    at h (evalmachine.<anonymous>:2:19)\n",
      "    at g (evalmachine.<anonymous>:6:5)\n",
      "    at f (evalmachine.<anonymous>:9:5)\n",
      "    at evalmachine.<anonymous>:11:1\n",
      "    at Script.runInThisContext (node:vm:129:12)\n",
      "    at Object.runInThisContext (node:vm:305:38)\n",
      "    at run ([eval]:1020:15)\n",
      "    at onRunRequest ([eval]:864:18)\n",
      "    at onMessage ([eval]:828:13)\n",
      "    at process.emit (node:events:526:28)\n"
     ]
    }
   ],
   "source": [
    "function h(z) {\n",
    "    const error = new Error();\n",
    "    console.log(error.stack);\n",
    "}\n",
    "function g(y) {\n",
    "    h(y + 1);\n",
    "} // line 7\n",
    "function f(x) {\n",
    "    g(x + 1);\n",
    "} // line 10\n",
    "f(3);\n",
    "// done (line 12)"
   ]
  },
  {
   "cell_type": "markdown",
   "id": "f7fe1189",
   "metadata": {},
   "source": [
    "## The Event Loop\n",
    "\n",
    "* the event loop is a __single process__ that runs tasks (pieces of code) in sequence inside that process\n",
    "![image](https://exploringjs.com/impatient-js/img-book/async-js/event_loop.svg)*Figure 21: Task sources add code to run to the task queue, which is emptied by the event loop*\n",
    "\n",
    "* Two Parties access the task queue:\n",
    "    1. __Task sources__ add tasks to the queue\n",
    "    2. The __event loop__ runs continuously inside the JavaScript process\n",
    "        - during each loop iteration, it takes one task out of the queue and executes it\n",
    "            * if the queue is empty, it'll wait until it isn't\n",
    "        - the task is finished when the call stack is empty and there is a return\n",
    "        - control goes back to the event loop which retrieves the next task from the queue and executes it"
   ]
  },
  {
   "cell_type": "code",
   "execution_count": 4,
   "id": "a78f2947",
   "metadata": {},
   "outputs": [],
   "source": [
    "// approximation of the event loop\n",
    "\n",
    "function eventLoop() {\n",
    "    while (true) {\n",
    "        const task = taskQueue.dequeue();\n",
    "        task(); // run task\n",
    "    }\n",
    "}"
   ]
  },
  {
   "cell_type": "markdown",
   "id": "adebf863",
   "metadata": {},
   "source": [
    "## How to avoid blocking the JavaScript Process"
   ]
  },
  {
   "cell_type": "markdown",
   "id": "b3af8176",
   "metadata": {},
   "source": [
    "### The user interface of the browser can be blocked\n",
    "\n",
    "* many user interface mechanisms of the browsers also run in the JavaScript process as tasks\n",
    "* if you have long-running JavaScript code, then it can block the user interface\n",
    "***\n",
    "* by clicking \"Block\", a long-running loop is executed via JavaScript\n",
    "* while that is occurring, you cannot click on the \"Click me!\" button b/c it is blocked"
   ]
  },
  {
   "cell_type": "code",
   "execution_count": 8,
   "id": "b55a8989",
   "metadata": {},
   "outputs": [
    {
     "data": {
      "text/html": [
       "<a id=\"block\" href=\"\">Block</a><div id=\"statusMessage\"></div><button>Click me!</button>"
      ]
     },
     "execution_count": 8,
     "metadata": {},
     "output_type": "execute_result"
    }
   ],
   "source": [
    "$$.html('<a id=\"block\" href=\"\">Block</a><div id=\"statusMessage\"></div><button>Click me!</button>')\n",
    "\n",
    "document.getElementById('block')\n",
    "  .addEventListener('click', doBlock); // (A)\n",
    "\n",
    "function doBlock(event) {\n",
    "  // ···\n",
    "  displayStatus('Blocking...');\n",
    "  // ···\n",
    "  sleep(5000); // (B)\n",
    "  displayStatus('Done');\n",
    "}\n",
    "\n",
    "function sleep(milliseconds) {\n",
    "  const start = Date.now();\n",
    "  while ((Date.now() - start) < milliseconds);\n",
    "}\n",
    "function displayStatus(status) {\n",
    "  document.getElementById('statusMessage')\n",
    "    .textContent = status;\n",
    "}"
   ]
  },
  {
   "cell_type": "markdown",
   "id": "d040c833",
   "metadata": {},
   "source": [
    "### How can we avoid blocking the browser?\n",
    "\n",
    "* operation can be done __asynchronously__, e.g. downloads can be performed concurrently to the JavaScript process\n",
    "    - the JavaScript code for the operation registers a __callback__ which is invoked once the operation is finished\n",
    "    - the invocation is handled by the task queue\n",
    "    - it is called asynchronous b/c the caller doesn't wait until the results are ready\n",
    "        * normal function calls deliver their results synchronously\n",
    "* perform long computations in separate processess called __Web Workers__\n",
    "    - they're heavyweight processes that run concurrently to the main process\n",
    "    - each has its own runtine environment\n",
    "    - they're completely isolated and must be communicated with via message passing\n",
    "* take breaks during long computations"
   ]
  },
  {
   "cell_type": "markdown",
   "id": "a723daa4",
   "metadata": {},
   "source": [
    "### Taking Breaks\n",
    "\n",
    "* the following global function executes its parameter __callback__ after a delay of ms (milliseconds)\n",
    "    - you can think of it like __setTimeout places the callback onto the task queue after a certain amount of time__\n",
    "* it returns a __handle (an ID)__ that can be used to _clear_ the timeout (cancels the execution of the callback)"
   ]
  },
  {
   "cell_type": "code",
   "execution_count": null,
   "id": "d895b1cc",
   "metadata": {},
   "outputs": [],
   "source": [
    "function setTimeout(callback: () => void, ms: number): any\n",
    "\n",
    "function clearTimeout(handle?: any): void"
   ]
  },
  {
   "cell_type": "markdown",
   "id": "a420ea0e",
   "metadata": {},
   "source": [
    "### Run-to-completion Semantics\n",
    "\n",
    "* JavaScript makes a guarantee for tasks:\n",
    "    - __Each task is always finished (\"run to completion\") before the next task is executed__\n",
    "* tasks don't have to worry about their data being changed while they are working on it (concurrent modification)\n",
    "***\n",
    "* setTimeout() puts its callback into the task queue and is executed sometime after the current piece of code (task) is completely finished\n",
    "* the time (ms) in setTimeout only specifies __when the task is put into the queue, not when exactly it runs__\n",
    "    - the callback may never even run if there is a task before it in the queue that never terminates\n",
    "    - that's why 'end' occurs before 'callback' even though the parameter is 0\n",
    "    - __setTimeout's task is to put the callback into the task queue__\n",
    "        * so the task queue is as follows:\n",
    "            - console.log('start')\n",
    "            - setTimeout, after 0 seconds, puts console.log('callback') onto task queue\n",
    "            - setTimeout, after 0 seconds, puts console.log('callback2') onto task queue\n",
    "            - console.log('end')\n",
    "        * after console.log('end') is executed the task queue will have:\n",
    "            - console.log('callback')\n",
    "            - console.log('callback2')"
   ]
  },
  {
   "cell_type": "code",
   "execution_count": 10,
   "id": "cf10bc6d",
   "metadata": {},
   "outputs": [
    {
     "name": "stdout",
     "output_type": "stream",
     "text": [
      "start\n",
      "end\n",
      "callback\n",
      "callback2\n"
     ]
    }
   ],
   "source": [
    "console.log('start');\n",
    "setTimeout(() => {\n",
    "    console.log('callback')\n",
    "}, 0);\n",
    "setTimeout(() => {\n",
    "    console.log('callback2')\n",
    "}, 0);\n",
    "console.log('end');"
   ]
  },
  {
   "cell_type": "markdown",
   "id": "d5b0313e",
   "metadata": {},
   "source": [
    "## Patterns for delivering asynchronous results\n",
    "\n",
    "* three popular patterns:\n",
    "    1. Events\n",
    "    2. Callbacks\n",
    "    3. Promises"
   ]
  },
  {
   "cell_type": "markdown",
   "id": "a6c14f93",
   "metadata": {},
   "source": [
    "### Delivering asynchronous results via events\n",
    "\n",
    "* used to deliver values asynchronously\n",
    "* do so zero or more times\n",
    "* three roles in this pattern:\n",
    "    1. the __event__ (an object) carries the data to be delivered\n",
    "    2. the __event listener__ is a function that receives events via a parameter\n",
    "    3. the __event source__ sends events and lets you register event listeners\n",
    "* the DOM is an example of this pattern"
   ]
  },
  {
   "cell_type": "code",
   "execution_count": null,
   "id": "018c2482",
   "metadata": {},
   "outputs": [],
   "source": [
    "const element = document.getElementById('my-link');\n",
    "element.addEventListener('click', clickListener);\n",
    "\n",
    "function clickListener(event) {\n",
    "    event.preventDefault();\n",
    "    console.log(event.shiftKey);\n",
    "}"
   ]
  },
  {
   "cell_type": "markdown",
   "id": "97ff2b06",
   "metadata": {},
   "source": [
    "### Delivering asynchronous results via callbacks\n",
    "\n",
    "* only used for one-off results and have the advantage of being less verbose than events\n",
    "* example: readFile() reads a text file and returns its contents asynchronously\n",
    "    - there is a single callback that handles both success and failure\n",
    "    * if the first parameter is not null then an error happened otherwise the result can be found in the second parameter"
   ]
  },
  {
   "cell_type": "code",
   "execution_count": null,
   "id": "0a64e817",
   "metadata": {},
   "outputs": [],
   "source": [
    "readFile('some-file.txt', {encoding: 'utf8'}),\n",
    "    (error, data) => {\n",
    "        if (error) {\n",
    "            assert.fail(error);\n",
    "            return;\n",
    "        }\n",
    "        assert.equal(data, 'The content of some-file.txt\\n');\n",
    "});"
   ]
  },
  {
   "cell_type": "markdown",
   "id": "fde6ab3b",
   "metadata": {},
   "source": [
    "## Asynchronous Code: The Downsides\n",
    "\n",
    "* asynchronous code is more verbose than synchronous code\n",
    "* if you call asynchronous code, your code must become asynchronous too\n",
    "    - you can't wait synchronously for an asynchronous result\n",
    "    - asynchronous code has an infectious quality\n",
    "* the first disadvantage becomes less severe with Promises and mostly disappears with async functions"
   ]
  }
 ],
 "metadata": {
  "kernelspec": {
   "display_name": "JavaScript (Node.js)",
   "language": "javascript",
   "name": "javascript"
  },
  "language_info": {
   "file_extension": ".js",
   "mimetype": "application/javascript",
   "name": "javascript",
   "version": "16.14.2"
  }
 },
 "nbformat": 4,
 "nbformat_minor": 5
}
