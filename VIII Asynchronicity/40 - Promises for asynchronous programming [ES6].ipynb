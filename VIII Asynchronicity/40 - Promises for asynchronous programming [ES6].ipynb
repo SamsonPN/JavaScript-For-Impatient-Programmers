{
 "cells": [
  {
   "cell_type": "markdown",
   "id": "0451d718",
   "metadata": {},
   "source": [
    "# [Promises for asynchronous programming](https://exploringjs.com/impatient-js/ch_promises.html)"
   ]
  },
  {
   "cell_type": "markdown",
   "id": "7fa3e8e0",
   "metadata": {},
   "source": [
    "## The basics of using Promises\n",
    "\n",
    "* promises are a technique for delivering results asynchronously"
   ]
  },
  {
   "cell_type": "markdown",
   "id": "7d78da3e",
   "metadata": {},
   "source": [
    "### Using a Promise-based function\n",
    "\n",
    "* Promises are similar to the event pattern\n",
    "    - there is an object (Promise) where we register callbacks:\n",
    "        * Method .then() registers callbacks that handles results\n",
    "        * Method .catch() registers callbacks that handle errors\n",
    "* a Promise-based function returns a Promise and sends it a result or an error (if and when it is done)\n",
    "    - the promise passes it on to the relevant callbacks\n",
    "* in contrast to the event pattern, Promises are optimized for one-off results:\n",
    "    - a result (or an error) is cached so that it doesn't matter if we register a callback before or after the result (or error) was sent\n",
    "    - .then() and .catch() can both be chained b/c they return Promises\n",
    "        * helps with sequentially invoking multiple asynchronous functions"
   ]
  },
  {
   "cell_type": "code",
   "execution_count": 3,
   "id": "94053990",
   "metadata": {},
   "outputs": [
    {
     "data": {
      "text/plain": [
       "Promise { <pending> }"
      ]
     },
     "execution_count": 3,
     "metadata": {},
     "output_type": "execute_result"
    },
    {
     "name": "stderr",
     "output_type": "stream",
     "text": [
      "X and Y should be positive numbers!\n"
     ]
    },
    {
     "name": "stdout",
     "output_type": "stream",
     "text": [
      "3\n"
     ]
    }
   ],
   "source": [
    "Promise-based function\n",
    "addAsync(3, 4)\n",
    "    .then(result => { // success\n",
    "        assert.equal(result, 7);\n",
    "    })\n",
    "    .catch(error => { // failure\n",
    "        assert.fail(error);\n",
    "    })\n",
    "\n",
    "const addPositiveAsync = (x, y) => {\n",
    "    return new Promise((resolve, reject) => {\n",
    "      if (x < 0 || y < 0) {\n",
    "        reject('X and Y should be positive numbers!');\n",
    "    }\n",
    "    else {\n",
    "        setTimeout(() => {\n",
    "          resolve(x + y);\n",
    "      }, 1000)\n",
    "    }\n",
    "  });\n",
    "}\n",
    "\n",
    "const callAsync = async () => {\n",
    "    try {\n",
    "        let result = await addPositiveAsync(-1, -2);\n",
    "    console.log(result);\n",
    "  }\n",
    "  catch(error) {\n",
    "      console.error(error);\n",
    "  }\n",
    "  \n",
    "  try {\n",
    "      let result = await addPositiveAsync(1, 2);\n",
    "        console.log(result);\n",
    "  }\n",
    "  catch(error) {\n",
    "      console.error(error);\n",
    "  }\n",
    "}\n",
    "\n",
    "callAsync();"
   ]
  },
  {
   "cell_type": "markdown",
   "id": "e141d690",
   "metadata": {},
   "source": [
    "### What is a Promise?\n",
    "\n",
    "* two ways of looking at it:\n",
    "    1. placeholder or container for the final result that will eventually be delivered\n",
    "    2. an object with which we can register listeners"
   ]
  },
  {
   "cell_type": "markdown",
   "id": "6724c887",
   "metadata": {},
   "source": [
    "### Implementing a Promise-based function\n",
    "\n",
    "* addAsync() immediately invokes the Promise constructor\n",
    "* the implementation of the function resides in the callback that is passed to the constructor (line A)\n",
    "* the callback is provided with 2 functions:\n",
    "    1. resolve is used for delivering a result (in case of success)\n",
    "    2. reject is used for delivering an error (in case of failure)"
   ]
  },
  {
   "cell_type": "code",
   "execution_count": null,
   "id": "6426356f",
   "metadata": {},
   "outputs": [],
   "source": [
    "// implementation of a Promise-based function that adds two numbers x and y:\n",
    "function addAsync(x, y) {\n",
    "    return new Promise(\n",
    "        (resolve, reject) => { // A\n",
    "            if (x === undefined || y === undefined) {\n",
    "                reject(new Error('Must provide two parameters'));\n",
    "            }\n",
    "            else {\n",
    "                resolve(x + y);\n",
    "            }\n",
    "        }\n",
    "    )\n",
    "}"
   ]
  },
  {
   "cell_type": "markdown",
   "id": "c2cfb834",
   "metadata": {},
   "source": [
    "### States of Promises\n",
    "\n",
    "![States of Promises](https://exploringjs.com/impatient-js/img-book/promises/promise_states_simple.svg)\n",
    "\n",
    "* a Promise can be in one of three states:\n",
    "    1. pending\n",
    "    2. fulfilled\n",
    "    3. rejected\n",
    "* if a Promise is in a final (non-pending) state, it is called settled\n",
    "* promises specialize in one-off results and protect us against race conditions\n",
    "    - race conditions = registering too early or too late\n",
    "    - if we register .then() or .catch() callback too early, it is notified once a Promise is settled\n",
    "    - once a Promise is settled, the settlement value (result or error) is cached\n",
    "        * so .then() or .catch() are called after the settlement, they receive the cached value\n",
    "* once a Promise is settled, its state and settlemenet value can't change anymore\n",
    "    - this helps make the code predictable and enforces the one-off nature of Promises"
   ]
  },
  {
   "cell_type": "markdown",
   "id": "2a19aed3",
   "metadata": {},
   "source": [
    "### Promise.resolve(): create a Promise fulfilled with a given value"
   ]
  },
  {
   "cell_type": "code",
   "execution_count": null,
   "id": "35836fbe",
   "metadata": {},
   "outputs": [],
   "source": [
    "Promise.resolve(123)\n",
    "    .then(x => {\n",
    "        assert.equal(x, 123);\n",
    "    })"
   ]
  },
  {
   "cell_type": "code",
   "execution_count": null,
   "id": "f429b006",
   "metadata": {},
   "outputs": [],
   "source": [
    "// if the parameter is already a Promise, it is returned unchanged\n",
    "// so, given ab arbitrary value x, we can use Promise.resolve(x) to ensure we have a Promise\n",
    "// the name is resolve, and not fulfill, b/c .resolve() returns a rejected Promise if its Parameter is a rejected Promise\n",
    "\n",
    "const abcPromise = Promise.resolve('abc');\n",
    "assert.equal(\n",
    "    Promise.resolve(abcPromise),\n",
    "    abcPromise\n",
    ")"
   ]
  },
  {
   "cell_type": "markdown",
   "id": "027a571d",
   "metadata": {},
   "source": [
    "### Promise.reject() create a Promise rejected with a given value"
   ]
  },
  {
   "cell_type": "code",
   "execution_count": null,
   "id": "f4030bce",
   "metadata": {},
   "outputs": [],
   "source": [
    "const myError = new Error('My error!');\n",
    "Promise.reject(myError)\n",
    "    .catch(err => {\n",
    "        assert.equal(err, myError);\n",
    "    })"
   ]
  },
  {
   "cell_type": "markdown",
   "id": "b8d66676",
   "metadata": {},
   "source": [
    "### Returning and throwing in .then() callbacks\n",
    "\n",
    "* .then() handles Promise fulfillments\n",
    "* it also returns a fresh Promise\n",
    "* how that Promise is settled depends on what happens inside the callback and there are three common cases"
   ]
  },
  {
   "cell_type": "markdown",
   "id": "e2772743",
   "metadata": {},
   "source": [
    "#### Returning a non-Promise value\n",
    "\n",
    "* first, the callback can return a non-Promise value (line A)\n",
    "* the Promise returned by .then() is fulfilled with that value (in line B)"
   ]
  },
  {
   "cell_type": "code",
   "execution_count": null,
   "id": "08c6209b",
   "metadata": {},
   "outputs": [],
   "source": [
    "Promise.resolve('abc')\n",
    "    .then(str => {\n",
    "        return str + str; // A\n",
    "    })\n",
    "    .then(str2 => {\n",
    "        assert.equal(str2, 'abcabc'); // B\n",
    "    })"
   ]
  },
  {
   "cell_type": "markdown",
   "id": "373ec9b6",
   "metadata": {},
   "source": [
    "#### Returning a Promise\n",
    "\n",
    "* second, the callback can return a Promise p (line A)\n",
    "* consequently, p \"becomes\" what .then() returns\n",
    "    - i.e. the Promise that .then() has already returned is effectively replaced by p\n",
    "* why is that useful?\n",
    "    - b/c we can return the result of a Promise-based operation and process its fulfillment value via a \"flat\" (non-nested) .then()\n",
    "    - basically, we can just chain .then() methods instead of having them nested inside of 1"
   ]
  },
  {
   "cell_type": "code",
   "execution_count": null,
   "id": "bcb86808",
   "metadata": {},
   "outputs": [],
   "source": [
    "Promise.resolve('abc')\n",
    "    .then(str => {\n",
    "        return Promise.resolve(123); // A\n",
    "    })\n",
    "    .then(num => {\n",
    "        assert.equal(num, 123)\n",
    "    })"
   ]
  },
  {
   "cell_type": "code",
   "execution_count": null,
   "id": "d60f339f",
   "metadata": {},
   "outputs": [],
   "source": [
    "// Flat\n",
    "asyncFunc1()\n",
    "    .then(result1 => {\n",
    "        /*...*/\n",
    "        return asyncFunc2();\n",
    "    })\n",
    "    .then(result2 => {\n",
    "        /*...*/\n",
    "    });\n",
    "\n",
    "// Nested\n",
    "asyncFunc1()\n",
    "    .then(result1 => {\n",
    "        /*...*/\n",
    "        asyncFunc2()\n",
    "            .then(result2 => {\n",
    "                /*...*/\n",
    "            })\n",
    "    })"
   ]
  },
  {
   "cell_type": "markdown",
   "id": "0a654f2f",
   "metadata": {},
   "source": [
    "#### Throwing an exception\n",
    "\n",
    "* third, the callback can throw an exception\n",
    "* the Promise returned by .then() is rejected with that exception\n",
    "    - that is, a synchronous error is converted into an asynchronous error\n"
   ]
  },
  {
   "cell_type": "code",
   "execution_count": null,
   "id": "5e876dfb",
   "metadata": {},
   "outputs": [],
   "source": [
    "const myError = new Error('My error!');\n",
    "Promise.resolve('abc')\n",
    "    .then(str => {\n",
    "        throw myError;\n",
    "    })\n",
    "    .catch(err => {\n",
    "        assert.equal(err, myError);\n",
    "    })"
   ]
  },
  {
   "cell_type": "markdown",
   "id": "0bec926c",
   "metadata": {},
   "source": [
    "### .catch() and its callback\n",
    "\n",
    "* the difference between .then() and .catch() is that the latter is triggered by rejections, not fulfillments\n",
    "    - but both methods rurn the actions of their callbacks into Promises in the same manner\n",
    "* for example, the value returned by the .catch() callback in line A becomes a fulfillment value"
   ]
  },
  {
   "cell_type": "code",
   "execution_count": null,
   "id": "cd0b26ad",
   "metadata": {},
   "outputs": [],
   "source": [
    "const err = new Error();\n",
    "\n",
    "Promise.reject(err)\n",
    "    .catch(e => {\n",
    "        assert.equal(e, err);\n",
    "        // something went wrong, use a default value\n",
    "        return 'default value'; // A\n",
    "    })\n",
    "    .then(str => {\n",
    "        assert.equal(str, 'default value')\n",
    "    })"
   ]
  },
  {
   "cell_type": "markdown",
   "id": "3ffb5e48",
   "metadata": {},
   "source": [
    "### Chaining method calls\n",
    "\n",
    "* .then() and .catch() __always return Promises__\n",
    "* this allows us to create arbitrary long chains of method calls\n",
    "* due to chaining, the return in line A returns the result of the last .then()\n",
    "* in a way, .then() is the asynchronous version of the synchronous semicolon\n",
    "    - .then() executes 2 asynchronous operations sequentially\n",
    "    - the semicolon executes 2 synchronous operations sequentially"
   ]
  },
  {
   "cell_type": "code",
   "execution_count": null,
   "id": "4ea6bbfc",
   "metadata": {},
   "outputs": [],
   "source": [
    "function myAsyncFunc() {\n",
    "    return asyncFunc1() // A\n",
    "        .then(result1 => {\n",
    "            // ...\n",
    "            return asyncFunc2(); // a Promise\n",
    "        })\n",
    "        .then(result2 => {\n",
    "            // ...\n",
    "            return result2 ?? '(Empty)'; // not a Promise\n",
    "        })\n",
    "        .then(result3 => {\n",
    "            // ...\n",
    "            return asyncFunc4(); // a Promise\n",
    "        })\n",
    "}"
   ]
  },
  {
   "cell_type": "markdown",
   "id": "0fc19e21",
   "metadata": {},
   "source": [
    "* we can also add .catch() into the mix and let it handle multiple error sources at the same time"
   ]
  },
  {
   "cell_type": "code",
   "execution_count": null,
   "id": "af260b33",
   "metadata": {},
   "outputs": [],
   "source": [
    "asyncFunc1()\n",
    "    .then(result1 => {\n",
    "        // ...\n",
    "        return asyncFunction2();\n",
    "    })\n",
    "    .then(result2 => {\n",
    "        // ...\n",
    "    })\n",
    "    .catch(error => {\n",
    "        // Failure: handle errors of asyncFunc1(), asyncFunc2()\n",
    "        // and any (sync) exceptions thrown in previous callbacks\n",
    "    })"
   ]
  },
  {
   "cell_type": "markdown",
   "id": "7b9e3d82",
   "metadata": {},
   "source": [
    "### .finally()\n",
    "\n",
    "* the .finally() callback is always executed - independently of somePromise and the values returned by .then() and/or .catch()\n",
    "* in contrast:\n",
    "    - the .then() callback is only executed if somePromise is fulfilled\n",
    "    - the .catch() callback is only executed if:\n",
    "        * either somePromise is rejected\n",
    "        * or the .then() callback returns a rejected Promise\n",
    "        * or the .then() callback throws an exception"
   ]
  },
  {
   "cell_type": "code",
   "execution_count": null,
   "id": "136561c3",
   "metadata": {},
   "outputs": [],
   "source": [
    "somePromise\n",
    "    .then((result) => {\n",
    "        // ...\n",
    "    })\n",
    "    .catch((error) => {\n",
    "        // ...\n",
    "    })\n",
    "    .finally(() => {\n",
    "        // ...\n",
    "    });"
   ]
  },
  {
   "cell_type": "markdown",
   "id": "fdc84030",
   "metadata": {},
   "source": [
    "* .finally() ignores what its callback returns and simply passes on the settlement that existed before it was called:"
   ]
  },
  {
   "cell_type": "code",
   "execution_count": null,
   "id": "b6350393",
   "metadata": {},
   "outputs": [],
   "source": [
    "Promise.resolve(123)\n",
    "    .finally(() => {})\n",
    "    .then((result) => {\n",
    "        assert.equal(result, 123);\n",
    "    })\n",
    "\n",
    "Promise.reject('error')\n",
    "    .finally(() => {})\n",
    "    .catch((error) => {\n",
    "        assert.equal(error, 'error')\n",
    "    })"
   ]
  },
  {
   "cell_type": "markdown",
   "id": "19a24011",
   "metadata": {},
   "source": [
    "* if the .finally() callback throws an exception, the Promise returned by .finally() is rejected"
   ]
  },
  {
   "cell_type": "code",
   "execution_count": null,
   "id": "21ca18f9",
   "metadata": {},
   "outputs": [],
   "source": [
    "Promise.reject('error (originally)')\n",
    "    .finally(() => {\n",
    "        throw 'error (finally)';\n",
    "    })\n",
    "    .catch((error) => {\n",
    "        assert.equal(error, 'error (finally)');\n",
    "    })"
   ]
  },
  {
   "cell_type": "markdown",
   "id": "400a73ac",
   "metadata": {},
   "source": [
    "##### Use case for .finally(): cleaning up\n",
    "\n",
    "* cleaning up after you are done with a resource regardless if it was successful or failed"
   ]
  },
  {
   "cell_type": "code",
   "execution_count": null,
   "id": "337d4b46",
   "metadata": {},
   "outputs": [],
   "source": [
    "let connection;\n",
    "\n",
    "db.open()\n",
    ".then((conn) => {\n",
    "    connection = conn;\n",
    "    return connection.select({ name: 'Jane '})\n",
    "})\n",
    ".then((result) => {\n",
    "    // Process result\n",
    "    // Use 'connection' to make more queries\n",
    "})\n",
    "//...\n",
    ".catch((error) => {\n",
    "    //handle errors\n",
    "})\n",
    ".finally(() => {\n",
    "    connection.close();\n",
    "});"
   ]
  },
  {
   "cell_type": "markdown",
   "id": "017bf623",
   "metadata": {},
   "source": [
    "##### Use case for .finally(): doing something first after any kind of settlement\n",
    "\n",
    "* can use .finally() before both .then() and .catch()\n",
    "* .finally() will be executed before the other two callbacks"
   ]
  },
  {
   "cell_type": "code",
   "execution_count": 2,
   "id": "9bde7022",
   "metadata": {},
   "outputs": [
    {
     "data": {
      "text/plain": [
       "Promise { <pending> }"
      ]
     },
     "execution_count": 2,
     "metadata": {},
     "output_type": "execute_result"
    },
    {
     "name": "stdout",
     "output_type": "stream",
     "text": [
      "finally\n",
      "finally\n",
      "then fulfilled\n",
      "catch rejected\n"
     ]
    }
   ],
   "source": [
    "Promise.resolve('fulfilled')\n",
    "    .finally(() => {\n",
    "        console.log('finally');\n",
    "    })\n",
    "    .then((result) => {\n",
    "        console.log('then ' + result);\n",
    "    })\n",
    "    .catch((error) => {\n",
    "        console.log('catch ' + error);\n",
    "    })\n",
    "\n",
    "// Output:\n",
    "// 'finally'\n",
    "// 'then fulfilled'\n",
    "\n",
    "Promise.reject('rejected')\n",
    "    .finally(() => {\n",
    "        console.log('finally');\n",
    "    })\n",
    "    .then((result) => {\n",
    "        console.log('then ' + result);\n",
    "    })\n",
    "    .catch((error) => {\n",
    "        console.log('catch ' + error);\n",
    "    })\n",
    "\n",
    "// Output:\n",
    "// 'finally'\n",
    "// 'catch rejected'"
   ]
  },
  {
   "cell_type": "markdown",
   "id": "c8b751a9",
   "metadata": {},
   "source": [
    "### Advantages of promises over plain callbacks\n",
    "\n",
    "* when it comes to handling one-off results:\n",
    "    - parameters in Promise-based functions and methods are cleaner\n",
    "        * in a Promise, you only have resolve and reject to worry about as far as parameters go\n",
    "        * with callbacks, the first couple of arguments are for input to the function while the last arguments are for the actual callback function\n",
    "            - so determining what is an input parameter and what is a callback function can be confusing\n",
    "    - chaining asynchronous processing steps is more convenient\n",
    "    - Promises handle both asynchronous errors (via rejections) and synchronous errors\n",
    "        * inside the callbacks for new Promise(), .then(), and .catch(), exceptions are converted to rejections\n",
    "        * if we use callbacks, exceptions are not handled for us\n",
    "    - Promises are a single standard\n",
    "* also the biggest advantage of Promises is being able to use the async/await syntax\n",
    "    - async/await is a synchronous-looking syntax for performing asynchronous computations"
   ]
  },
  {
   "cell_type": "markdown",
   "id": "0eadaa3b",
   "metadata": {},
   "source": [
    "## Error handling: don't mix rejections and exceptions\n",
    "\n",
    "* don't mix (asynchronous) rejections and (synchronous) exceptions\n",
    "* simplifies our code b/c we only need to focus on one error-handling mechanic\n",
    "* so for Promise-based functions/methods, they should never throw exceptions"
   ]
  },
  {
   "cell_type": "code",
   "execution_count": null,
   "id": "c3623513",
   "metadata": {},
   "outputs": [],
   "source": [
    "// DON'T DO THIS:\n",
    "\n",
    "function asyncFunc() {\n",
    "    doSomethingSync(); // A\n",
    "    return doSomethingAsync()\n",
    "        .then(result => {\n",
    "        // ...\n",
    "    })\n",
    "}"
   ]
  },
  {
   "cell_type": "markdown",
   "id": "2880c89d",
   "metadata": {},
   "source": [
    "* if doSomethingSync in line A throws an exception, then asyncFunc() will also throw an exception when it should be throwing a rejection\n",
    "* callers of asyncFunc() are expecting a rejection"
   ]
  },
  {
   "cell_type": "markdown",
   "id": "ee6f2b07",
   "metadata": {},
   "source": [
    "* Solution 1:\n",
    "    - we can wrap the whole body of asyncFunc in a try-catch statement and return a rejected Promise if an exception is thrown"
   ]
  },
  {
   "cell_type": "code",
   "execution_count": null,
   "id": "33ff06d9",
   "metadata": {},
   "outputs": [],
   "source": [
    "// Solution 1\n",
    "\n",
    "function asyncFunc() {\n",
    "    try {\n",
    "        doSomethingSync();\n",
    "        return doSomethingAsync()\n",
    "            .then(result => {\n",
    "            // ...\n",
    "        });\n",
    "    }\n",
    "    catch(err) {\n",
    "        return Promise.reject(err);\n",
    "    }\n",
    "}"
   ]
  },
  {
   "cell_type": "markdown",
   "id": "f8aa0f3f",
   "metadata": {},
   "source": [
    "* Solution 2:\n",
    "    - we know that .then() will convert exceptions to rejections so we can just call doSomethingSync() in the .then() callback\n",
    "* we can do this by creating a Promise chain using Promise.resolve() to get us into the .then() callback\n",
    "    - the fulfillment value, which is undefined, does not matter for Promise.resolve()"
   ]
  },
  {
   "cell_type": "code",
   "execution_count": 1,
   "id": "ecdf7440",
   "metadata": {},
   "outputs": [],
   "source": [
    "// Solution 2\n",
    "\n",
    "function asyncFunc() {\n",
    "    return Promise.resolve()\n",
    "        .then(() => {\n",
    "            doSomethingSync();\n",
    "            return doSomethingAsync();\n",
    "        })\n",
    "        .then(result => {\n",
    "            // ...\n",
    "        });\n",
    "}"
   ]
  },
  {
   "cell_type": "markdown",
   "id": "365f2327",
   "metadata": {},
   "source": [
    "* Solution 3:\n",
    "    - new Promise() constructor can also convert exceptions to rejections"
   ]
  },
  {
   "cell_type": "code",
   "execution_count": 2,
   "id": "696f6c4d",
   "metadata": {},
   "outputs": [],
   "source": [
    "// Solution 3\n",
    "\n",
    "function asyncFunc() {\n",
    "    return new Promise((resolve, reject) => {\n",
    "        doSomethingSync();\n",
    "        resolve(doSomethingAsync());\n",
    "    })\n",
    "    .then(result => {\n",
    "        // ...\n",
    "    })\n",
    "}"
   ]
  },
  {
   "cell_type": "markdown",
   "id": "149a0b79",
   "metadata": {},
   "source": [
    "## Promise-based functions start synchronously, settle asynchronously\n",
    "\n",
    "* Promise-based functions are executed as follows:\n",
    "    - their execution starts right away, synchronously (in the current task)\n",
    "    - but the Promise they return is guaranteed to be settled asynchronously (in a later task) - if ever\n",
    "* in the example, we can see that the callback of new Promise() is executed before the end of the code, while the result is delivered later (line A)\n",
    "* Benefits of this approach:\n",
    "    - starting synchronously helps avoid race conditions b/c we can rely on the order in which Promise-based functions begin\n",
    "    - Chaining Promises won't starve other tasks of processing time b/c before a Promise is settled, there will always be a break, during which the event loop can run\n",
    "    - Promise-based functions always return results asynchronously; we can be sure that there is never a synchronous return"
   ]
  },
  {
   "cell_type": "code",
   "execution_count": 4,
   "id": "ef104509",
   "metadata": {},
   "outputs": [
    {
     "name": "stdout",
     "output_type": "stream",
     "text": [
      "START\n",
      "asyncFunc\n",
      "new Promise()\n",
      "END\n",
      ".then()\n"
     ]
    }
   ],
   "source": [
    "function asyncFunc() {\n",
    "    console.log('asyncFunc');\n",
    "    return new Promise(\n",
    "        (resolve, _reject) => {\n",
    "            // this callback is called synchronously\n",
    "            console.log('new Promise()');\n",
    "            \n",
    "            // but resolving the callback happens asynchronously\n",
    "            resolve();\n",
    "        });\n",
    "}\n",
    "\n",
    "console.log('START');\n",
    "asyncFunc()\n",
    "    .then(() => {\n",
    "        // we need to wait for the new Promise callback to be resolved first\n",
    "        // before this is console logged\n",
    "        console.log('.then()'); // (A)\n",
    "    });\n",
    "console.log('END')\n",
    "\n"
   ]
  },
  {
   "cell_type": "markdown",
   "id": "5720a2a8",
   "metadata": {},
   "source": [
    "## Promise combinator functions: working with Arrays of Promises"
   ]
  },
  {
   "cell_type": "markdown",
   "id": "e602ce28",
   "metadata": {},
   "source": [
    "### What is a Promise combinator function?\n",
    "\n",
    "* combinator is a pattern in functional programming for building structures using 2 kinds of funcitons:\n",
    "    - primitive functions (primitives): creates atomic pieces\n",
    "    - combinator functions (combinators): combine atomic and/or compound pieces to create compound pieces\n",
    "* for JavaScript Promises:\n",
    "    - primitives: Promise.resolve(), Promise.reject()\n",
    "    - combinators: Promise.all(), Promise.race(), Promise.any(), Promise.allSettled()\n",
    "        * for each of these combinators, the input is an iterable object containing 0+ Promises\n",
    "            - so like an array of Promises\n",
    "        * the output is 1 Promise"
   ]
  },
  {
   "cell_type": "markdown",
   "id": "473717c9",
   "metadata": {},
   "source": [
    "### Promise.all()\n",
    "\n",
    "* returns a Promise which is:\n",
    "    - Fulfilled if all promises are fulfilled\n",
    "        * then its fulfillment value is an Array with the fulfillment values of promises\n",
    "    - Rejected if at least one Promise is rejected\n",
    "        * its rejection value is the rejection value of that Promise"
   ]
  },
  {
   "cell_type": "code",
   "execution_count": 1,
   "id": "e276546a",
   "metadata": {},
   "outputs": [
    {
     "data": {
      "text/plain": [
       "Promise { <pending> }"
      ]
     },
     "execution_count": 1,
     "metadata": {},
     "output_type": "execute_result"
    },
    {
     "name": "stdout",
     "output_type": "stream",
     "text": [
      "result a\n",
      "result b\n",
      "result c\n"
     ]
    }
   ],
   "source": [
    "// all promises are fulfilled so the array contains all fulfilled values\n",
    "var promises = [\n",
    "    Promise.resolve('result a'),\n",
    "    Promise.resolve('result b'),\n",
    "    Promise.resolve('result c')\n",
    "];\n",
    "\n",
    "Promise.all(promises)\n",
    "    .then(arr => {\n",
    "        arr.forEach(val => console.log(val))\n",
    "    })"
   ]
  },
  {
   "cell_type": "code",
   "execution_count": 3,
   "id": "4b1340fd",
   "metadata": {},
   "outputs": [
    {
     "data": {
      "text/plain": [
       "Promise { <pending> }"
      ]
     },
     "execution_count": 3,
     "metadata": {},
     "output_type": "execute_result"
    },
    {
     "name": "stderr",
     "output_type": "stream",
     "text": [
      "ERROR\n"
     ]
    }
   ],
   "source": [
    "// one promise is rejected\n",
    "// so its rejection value is displayed in the .catch() callback\n",
    "var promises = [\n",
    "    Promise.resolve('result a'),\n",
    "    Promise.resolve('result b'),\n",
    "    Promise.reject('ERROR')\n",
    "];\n",
    "\n",
    "Promise.all(promises)\n",
    "    .catch(err => {\n",
    "        console.error(err)\n",
    "    })"
   ]
  },
  {
   "cell_type": "markdown",
   "id": "0ebadd4f",
   "metadata": {},
   "source": [
    "#### Asynchronous .map() via Promise.all()\n",
    "\n",
    "* higher order methods like .map() and .filter() are made for synchronous computations\n",
    "* but if we passed in a Promise-based function into them, they would return an Array of Promises\n",
    "    - normal code can't work with them\n",
    "* but using Promise.all(), we can convert that Array of Promises into an array of normal values"
   ]
  },
  {
   "cell_type": "code",
   "execution_count": 4,
   "id": "b012d838",
   "metadata": {},
   "outputs": [
    {
     "data": {
      "text/plain": [
       "Promise { <pending> }"
      ]
     },
     "execution_count": 4,
     "metadata": {},
     "output_type": "execute_result"
    },
    {
     "name": "stdout",
     "output_type": "stream",
     "text": [
      "2\n",
      "4\n",
      "6\n"
     ]
    }
   ],
   "source": [
    "function timesTwoAsync(x) {\n",
    "    return new Promise(resolve => resolve(x * 2));\n",
    "}\n",
    "\n",
    "var arr = [1, 2, 3];\n",
    "var promiseArr = arr.map(timesTwoAsync);\n",
    "Promise.all(promiseArr)\n",
    "    .then(result => {\n",
    "        result.forEach(val => console.log(val));\n",
    "    })"
   ]
  },
  {
   "cell_type": "markdown",
   "id": "474647bb",
   "metadata": {},
   "source": [
    "#### A more realistic .map() example\n",
    "\n",
    "* we'll use .map() and Promise.all() to download text files from the web\n",
    "* downloadText() uses the Promise-based fetch API to download a text file as a string\n",
    "    - first it asynchronously retrieves a response (line A)\n",
    "    - response.ok (line B) checks if there were errors such as \"file not found\"\n",
    "    - if there weren't any, we use .text() (line C) to retrieve the contents of the file as a string"
   ]
  },
  {
   "cell_type": "code",
   "execution_count": null,
   "id": "dcfc8c65",
   "metadata": {},
   "outputs": [],
   "source": [
    "function downloadText(url) {\n",
    "    return fetch(url)\n",
    "        .then(response => { // A\n",
    "            if (!response.ok) { // B\n",
    "                throw new Error(response.statusText);\n",
    "            }\n",
    "            return response.text(); // C\n",
    "    });\n",
    "}\n",
    "\n",
    "var urls = [\n",
    "    'http://example.com/first.txt',\n",
    "    'http://example.com/second.txt',    \n",
    "];\n",
    "\n",
    "var promises = urls.map(url => downloadText(url));\n",
    "\n",
    "\n",
    "// should print out ['First!', 'Second!']\n",
    "Promise.all(promises)\n",
    "    .then(arr => {\n",
    "        arr.forEach(val => console.log(val))\n",
    "})"
   ]
  },
  {
   "cell_type": "markdown",
   "id": "13ae258e",
   "metadata": {},
   "source": [
    "#### A simple implementation of Promise.all()\n",
    "\n",
    "* line A and line B are where the result Promise is settled\n",
    "* after one of them is settled, the other can't change the settlement value b/c a Promise can only be settled once"
   ]
  },
  {
   "cell_type": "code",
   "execution_count": 7,
   "id": "05622c2e",
   "metadata": {},
   "outputs": [],
   "source": [
    "// performs no safety checks\n",
    "\n",
    "function all(iterable) {\n",
    "    return new Promise((resolve, reject) => {\n",
    "        let elementCount = 0;\n",
    "        let result;\n",
    "        \n",
    "        let index = 0;\n",
    "        for (const promise of iterable) {\n",
    "            // Preserve the current value of the index\n",
    "            const currentIndex = index;\n",
    "            \n",
    "            // Promise.then() takes in 2 arguments\n",
    "            // a callback for the fulfilled case\n",
    "            // and a callback for the rejected case\n",
    "            promise.then(\n",
    "                (value) => {\n",
    "                    result[currentIndex] = value;\n",
    "                    elementCount++;\n",
    "                    // since we initialize result after all this code\n",
    "                    // result.length === total number of items in the iterable\n",
    "                    if (elementCount === result.length) {\n",
    "                        resolve(result); // A\n",
    "                    }\n",
    "                },\n",
    "                (err) => {\n",
    "                    reject(err); // B\n",
    "                }\n",
    "            );\n",
    "            index++;\n",
    "        }\n",
    "        \n",
    "        // if the iterable is empty\n",
    "        // just return an empty array\n",
    "        if (index === 0) {\n",
    "            resolve([]);\n",
    "            return;\n",
    "        }\n",
    "        // Now we know how many Promises there are in 'iterable'.\n",
    "        // we can wait until now with initializing result b/c\n",
    "        // the callbacks of .then() are executed asynchronously\n",
    "        result = new Array(index);\n",
    "    });\n",
    "}"
   ]
  },
  {
   "cell_type": "markdown",
   "id": "185e78b3",
   "metadata": {},
   "source": [
    "### Promise.race()\n",
    "\n",
    "* returns a Promise, q, which is settled as soon as the first Promise, p, among promises is settled\n",
    "    - q has the same settlement value as p\n",
    "* basically, whichever Promise is settled first among ALL of the promises is the one that decides what the settlement value is!"
   ]
  },
  {
   "cell_type": "code",
   "execution_count": 10,
   "id": "b567e15a",
   "metadata": {},
   "outputs": [
    {
     "data": {
      "text/plain": [
       "Promise { <pending> }"
      ]
     },
     "execution_count": 10,
     "metadata": {},
     "output_type": "execute_result"
    },
    {
     "name": "stdout",
     "output_type": "stream",
     "text": [
      "result\n"
     ]
    }
   ],
   "source": [
    "// settlement of the fulfilled Promise (line A) happens before the settlement of the rejected Promise (line B)\n",
    "// so the result is also fulfilled (line C)\n",
    "\n",
    "var promises = [\n",
    "    new Promise((resolve, reject) => \n",
    "        setTimeout(() => resolve('result'), 100)), // A\n",
    "    new Promise((resolve, reject) => \n",
    "        setTimeout(() => reject('ERROR'), 200)) // B\n",
    "]\n",
    "\n",
    "Promise.race(promises)\n",
    "    .then(result => {\n",
    "        console.log(result);\n",
    "    })"
   ]
  },
  {
   "cell_type": "code",
   "execution_count": 14,
   "id": "4af699d3",
   "metadata": {},
   "outputs": [
    {
     "data": {
      "text/plain": [
       "Promise { <pending> }"
      ]
     },
     "execution_count": 14,
     "metadata": {},
     "output_type": "execute_result"
    },
    {
     "name": "stderr",
     "output_type": "stream",
     "text": [
      "{ err: 'ERROR' }\n"
     ]
    }
   ],
   "source": [
    "// the rejection happens first\n",
    "var assert = require('assert');\n",
    "\n",
    "var promises = [\n",
    "    new Promise((resolve, reject) => \n",
    "        setTimeout(() => resolve('result'), 200)), // A\n",
    "    new Promise((resolve, reject) => \n",
    "        setTimeout(() => reject('ERROR'), 100)) // B\n",
    "]\n",
    "\n",
    "Promise.race(promises)\n",
    "    .then(\n",
    "        (result) => assert.fail(),\n",
    "        (err) => console.error({err})\n",
    "    )"
   ]
  },
  {
   "cell_type": "markdown",
   "id": "e715bb73",
   "metadata": {},
   "source": [
    "#### Using Promise.race() to time out a Promise\n",
    "\n",
    "* __the main - relatively rare - use case for .race() is to time out Promises__\n",
    "* what does \"timing out a Promise\" mean?:\n",
    "    - if the input Promise is settled quickly enough, its settlement is passed on to the output Promise\n",
    "        * i.e. whatever value comes out of the Promise you pass to timeout() will be returned from the single Promise created using Promise.race()\n",
    "    - if it isn't settled quickly enough, the output Promise is rejected\n",
    "* timing out prevents the input Promise from affecting the output since a Promise can only be settled once but it does not stop the asynchronous operation that produced the input Promise\n",
    "    - i.e. the async code for the input Promise is still running even though the Promise returned by Promise.race() has already settled\n",
    "* timeout() returns a Promise with the same settlement value as the one that settles first between the inputs:\n",
    "    - input promise\n",
    "    - promise that is rejected after timeoutInMs\n",
    "* to produce the second Promise, timeout() uses the fact that resolving a pending Promise with a rejected Promise leads to the former being rejected"
   ]
  },
  {
   "cell_type": "code",
   "execution_count": 9,
   "id": "afb1dc2d",
   "metadata": {},
   "outputs": [],
   "source": [
    "// returns a Promise that is resolved with value after ms milliseconds\n",
    "function resolveAfter(ms, value = undefined) {\n",
    "    return new Promise((resolve, reject) => {\n",
    "        setTimeout(() => resolve(value), ms);\n",
    "    })\n",
    "}\n",
    "\n",
    "function timeout(timeoutInMs, promise) {\n",
    "    return Promise.race([\n",
    "        promise,\n",
    "        resolveAfter(timeoutInMs,\n",
    "            Promise.reject(new Error('Operation timed out')),\n",
    "        )\n",
    "    ]);\n",
    "}"
   ]
  },
  {
   "cell_type": "code",
   "execution_count": 11,
   "id": "4e8db6a6",
   "metadata": {},
   "outputs": [
    {
     "data": {
      "text/plain": [
       "Promise { <pending> }"
      ]
     },
     "execution_count": 11,
     "metadata": {},
     "output_type": "execute_result"
    },
    {
     "name": "stderr",
     "output_type": "stream",
     "text": [
      "Error: Operation timed out\n",
      "    at timeout (evalmachine.<anonymous>:12:28)\n",
      "    at evalmachine.<anonymous>:4:1\n",
      "    at Script.runInThisContext (node:vm:129:12)\n",
      "    at Object.runInThisContext (node:vm:305:38)\n",
      "    at run ([eval]:1020:15)\n",
      "    at onRunRequest ([eval]:864:18)\n",
      "    at onMessage ([eval]:828:13)\n",
      "    at process.emit (node:events:526:28)\n",
      "    at emit (node:internal/child_process:938:14)\n",
      "    at processTicksAndRejections (node:internal/process/task_queues:84:21)"
     ]
    },
    {
     "name": "stdout",
     "output_type": "stream",
     "text": [
      "{ result: 'Result!' }\n"
     ]
    },
    {
     "name": "stderr",
     "output_type": "stream",
     "text": [
      "(node:12220) PromiseRejectionHandledWarning: Promise rejection was handled asynchronously (rejection id: 7)\n"
     ]
    }
   ],
   "source": [
    "// input Promise is fulfilled before the timeout happens\n",
    "// node.js is being weird. this should only display the result and not the error\n",
    "\n",
    "timeout(200, resolveAfter(100, 'Result!'))\n",
    "    .then(result => {\n",
    "        console.log({result})\n",
    "    })"
   ]
  },
  {
   "cell_type": "code",
   "execution_count": 8,
   "id": "dfd0246f",
   "metadata": {},
   "outputs": [
    {
     "data": {
      "text/plain": [
       "Promise { <pending> }"
      ]
     },
     "execution_count": 8,
     "metadata": {},
     "output_type": "execute_result"
    },
    {
     "name": "stderr",
     "output_type": "stream",
     "text": [
      "Error: Operation timed out\n",
      "    at timeout (evalmachine.<anonymous>:12:28)\n",
      "    at evalmachine.<anonymous>:3:1\n",
      "    at Script.runInThisContext (node:vm:129:12)\n",
      "    at Object.runInThisContext (node:vm:305:38)\n",
      "    at run ([eval]:1020:15)\n",
      "    at onRunRequest ([eval]:864:18)\n",
      "    at onMessage ([eval]:828:13)\n",
      "    at process.emit (node:events:526:28)\n",
      "    at emit (node:internal/child_process:938:14)\n",
      "    at processTicksAndRejections (node:internal/process/task_queues:84:21){\n",
      "  err: Error: Operation timed out\n",
      "      at timeout (evalmachine.<anonymous>:12:28)\n",
      "      at evalmachine.<anonymous>:3:1\n",
      "      at Script.runInThisContext (node:vm:129:12)\n",
      "      at Object.runInThisContext (node:vm:305:38)\n",
      "      at run ([eval]:1020:15)\n",
      "      at onRunRequest ([eval]:864:18)\n",
      "      at onMessage ([eval]:828:13)\n",
      "      at process.emit (node:events:526:28)\n",
      "      at emit (node:internal/child_process:938:14)\n",
      "      at processTicksAndRejections (node:internal/process/task_queues:84:21)\n",
      "}\n",
      "(node:12220) PromiseRejectionHandledWarning: Promise rejection was handled asynchronously (rejection id: 5)\n"
     ]
    }
   ],
   "source": [
    "// timeout happens before the input Promise is fulfilled\n",
    "\n",
    "timeout(100, resolveAfter(2000, 'Result!'))\n",
    "    .catch(err => {\n",
    "        console.error({err})\n",
    "    })"
   ]
  },
  {
   "cell_type": "markdown",
   "id": "ca22dd0d",
   "metadata": {},
   "source": [
    "#### A simple implementation of Promise.race()\n",
    "\n",
    "* the result Promise is settled in either line A or line B\n",
    "* once a Promise is settled, its settlement value can't be changed anymore"
   ]
  },
  {
   "cell_type": "code",
   "execution_count": 12,
   "id": "8c2cc950",
   "metadata": {},
   "outputs": [],
   "source": [
    "// performs no safety checks\n",
    "function race(iterable) {\n",
    "    return new Promise((resolve, reject) => {\n",
    "        for (const promise of iterable) {\n",
    "            promise.then(\n",
    "                (value) => {\n",
    "                    resolve(value); // A\n",
    "                },\n",
    "                (err) => {\n",
    "                    reject(err); // B\n",
    "                }\n",
    "            );\n",
    "        }\n",
    "    });\n",
    "}"
   ]
  },
  {
   "cell_type": "markdown",
   "id": "dd5218d2",
   "metadata": {},
   "source": [
    "### Promise.any() and AggregateError\n",
    "\n",
    "* Promise.any() returns a Promise p\n",
    "* how Promise.any() is settled depends on what happens in the iterable of Promises\n",
    "    - the first promise fulfilled = p is resolved with it\n",
    "    - if all promises rejected = p is rejected with an instance of AggregateError with all rejection values"
   ]
  },
  {
   "cell_type": "code",
   "execution_count": null,
   "id": "bd7000d2",
   "metadata": {},
   "outputs": [],
   "source": [
    "// type signature of AggregateError\n",
    "\n",
    "class AggregateError extends Error {\n",
    "    // Instance properties (complementing the ones of Error)\n",
    "    errors: Array<any>;\n",
    "    \n",
    "    constructor(\n",
    "        errors: Iterable<any>,\n",
    "        message: string = '',\n",
    "        options?: ErrorOptions // ES2022\n",
    "    );\n",
    "}\n",
    "\n",
    "interface ErrorOptions {\n",
    "    cause?: any; // ES2022\n",
    "}"
   ]
  },
  {
   "cell_type": "markdown",
   "id": "df3105f1",
   "metadata": {},
   "source": [
    "#### Two first examples"
   ]
  },
  {
   "cell_type": "code",
   "execution_count": 13,
   "id": "68db3053",
   "metadata": {},
   "outputs": [
    {
     "data": {
      "text/plain": [
       "Promise { <pending> }"
      ]
     },
     "execution_count": 13,
     "metadata": {},
     "output_type": "execute_result"
    },
    {
     "name": "stdout",
     "output_type": "stream",
     "text": [
      "{ result: 'result' }\n"
     ]
    }
   ],
   "source": [
    "// if one Promise is fulfilled\n",
    "\n",
    "var promises = [\n",
    "    Promise.reject('ERROR A'),\n",
    "    Promise.reject('ERROR B'),\n",
    "    Promise.resolve('result')\n",
    "];\n",
    "\n",
    "Promise.any(promises)\n",
    "    .then(result => {\n",
    "        console.log({result})\n",
    "    })"
   ]
  },
  {
   "cell_type": "code",
   "execution_count": 21,
   "id": "4f813b1c",
   "metadata": {},
   "outputs": [
    {
     "data": {
      "text/plain": [
       "Promise { <pending> }"
      ]
     },
     "execution_count": 21,
     "metadata": {},
     "output_type": "execute_result"
    },
    {
     "name": "stderr",
     "output_type": "stream",
     "text": [
      "{ err: [ 'ERROR A', 'ERROR B', 'ERROR C' ] }\n"
     ]
    }
   ],
   "source": [
    "// if all Promises are rejected\n",
    "\n",
    "var promises = [\n",
    "    Promise.reject('ERROR A'),\n",
    "    Promise.reject('ERROR B'),\n",
    "    Promise.reject('ERROR C')\n",
    "];\n",
    "\n",
    "Promise.any(promises)\n",
    "    .catch(aggregateError => {\n",
    "        console.error({err: aggregateError.errors})\n",
    "    })"
   ]
  },
  {
   "cell_type": "markdown",
   "id": "e59764c3",
   "metadata": {},
   "source": [
    "#### Promise.any() vs Promise.all()\n",
    "\n",
    "* they are inverses of each other\n",
    "    - Promise.all(): the first rejection it finds is the one that will reject the result Promise, p, or if all of them work, then it returns an array with all fulfillment values\n",
    "        * basically, either returns an array of all working values or the first rejection it finds\n",
    "    - Promise.any(): the first fulfillment fulfills the result Promise, p, or it returns an array with all rejection values inside an error object (AggregateError)\n",
    "        * basically, either returns an array of all rejection values or the first fulfilled value it finds\n",
    "* they have different focuses:\n",
    "    - Promise.all(): interested in _all_ fulfillments\n",
    "        * one rejection = entire thing is rejected! __ALL OR NONE!__\n",
    "    - Promise.any(): interested in the first fulfillment\n",
    "        * if one of them works, then the entire thing works"
   ]
  },
  {
   "cell_type": "markdown",
   "id": "40de95cc",
   "metadata": {},
   "source": [
    "#### Promise.any() vs Promise.race()\n",
    "\n",
    "* Promise.race(): interested in settlements\n",
    "    - the first Promise to settle (either rejection or fulfillment), wins the race\n",
    "    - objective: which one of these Promises terminates first\n",
    "* Promise.any(): interested in fulfillments\n",
    "    - the first Promise to be fulfilled first, wins!\n",
    "    - objective: which one of these Promises fulfills (succeeds) first\n",
    "* __remember, a Promise can be in 3 states: pending, fulfilled, or rejected__\n",
    "    - __a Promise is settled if it is either fulfilled or rejected__"
   ]
  },
  {
   "cell_type": "markdown",
   "id": "daca8ca0",
   "metadata": {},
   "source": [
    "#### Use cases for Promise.any()\n",
    "\n",
    "* use Promise.any() if we have multiple async computations but only care about the first one that is successful\n",
    "    - basically, whichever one succeeds first wins!"
   ]
  },
  {
   "cell_type": "code",
   "execution_count": null,
   "id": "1e221c84",
   "metadata": {},
   "outputs": [],
   "source": [
    "// downloading resources\n",
    "\n",
    "var resource = await Promise.any([\n",
    "    fetch('http://example.com/first.txt')\n",
    "        .then(response => response.text()),\n",
    "    fetch('http://example.com/second.txt')\n",
    "        .then(response => response.text())\n",
    "]);\n",
    "\n",
    "// same pattern allows us to use whichever module downloads quicker\n",
    "var lodash = await Promise.any([\n",
    "    import('https://primary.example.com/lodash'),\n",
    "    import('https://secondary.example.com/lodash')\n",
    "])"
   ]
  },
  {
   "cell_type": "markdown",
   "id": "e61af0cb",
   "metadata": {},
   "source": [
    "### Promise.allSettled()\n",
    "\n",
    "* returns a Promise for an Array whose elements have the following type signature"
   ]
  },
  {
   "cell_type": "code",
   "execution_count": null,
   "id": "6422a0fd",
   "metadata": {},
   "outputs": [],
   "source": [
    "Promise.allSettled<T>(promises: Iterable<Promise<T>>)\n",
    "    : Promise<Array<SettlementObject<T>>>\n",
    "\n",
    "type SettlementObject<T> = FulfillmentObject<T> | RejectionObject;\n",
    "\n",
    "interface FulfillmentObject<T> {\n",
    "    status: 'fulfilled';\n",
    "    value: T;\n",
    "}\n",
    "\n",
    "interface RejectionObject {\n",
    "    status: 'rejected';\n",
    "    reason: unknown;\n",
    "}"
   ]
  },
  {
   "cell_type": "markdown",
   "id": "f72719d5",
   "metadata": {},
   "source": [
    "* Promise.allSettled() returns Promise, out\n",
    "* once all promises are settled, out is fulfilled with an Array where each element, e, corresponds to one promise, p, of promises\n",
    "* if p is fulfilled with the fulfillment value, v, then e is:\n",
    "    - { status: 'fulfilled', value: v }\n",
    "* if p is rejected with the rejection value r, then e is:\n",
    "    - { status: 'rejected', reason: r }\n",
    "* BASICALLY:\n",
    "    - Promise.allSettled() returns a Promise whose fulfillment value is an Array\n",
    "    - this array contains SettlementObjects that correspond to the settlement value of each promise in the iterable\n",
    "* unless there is an error with iterating over promises (iterable), then the ouput Promise, out, is NEVER rejected"
   ]
  },
  {
   "cell_type": "markdown",
   "id": "bc080063",
   "metadata": {},
   "source": [
    "#### A first demo of Promise.allSettled()"
   ]
  },
  {
   "cell_type": "code",
   "execution_count": 2,
   "id": "a63eb806",
   "metadata": {},
   "outputs": [
    {
     "data": {
      "text/plain": [
       "Promise { <pending> }"
      ]
     },
     "execution_count": 2,
     "metadata": {},
     "output_type": "execute_result"
    },
    {
     "name": "stdout",
     "output_type": "stream",
     "text": [
      "{\n",
      "  arr: [\n",
      "    { status: 'fulfilled', value: 'a' },\n",
      "    { status: 'rejected', reason: 'b' }\n",
      "  ]\n",
      "}\n"
     ]
    }
   ],
   "source": [
    "Promise.allSettled([\n",
    "    Promise.resolve('a'),\n",
    "    Promise.reject('b')\n",
    "])\n",
    "    .then(arr => {\n",
    "        console.log({arr})\n",
    "    })"
   ]
  },
  {
   "cell_type": "markdown",
   "id": "e0d7640c",
   "metadata": {},
   "source": [
    "#### A longer example for Promise.allSettled()\n",
    "\n",
    "* for this example, we are downloading multiple text files whose URLs are stored in an Array\n",
    "* but we don't stop when there is an error, we want to keep going, which Promise.allSettled will allow us to do"
   ]
  },
  {
   "cell_type": "code",
   "execution_count": null,
   "id": "b0f93713",
   "metadata": {},
   "outputs": [],
   "source": [
    "var urls = [\n",
    "    'http://example.com/exists.txt',\n",
    "    'http://example.com/missing.txt'\n",
    "];\n",
    "\n",
    "function downloadText(url) {\n",
    "    return fetch(url)\n",
    "        .then(response => { // A\n",
    "            if (!response.ok) { // B\n",
    "                throw new Error(response.statusText);\n",
    "            }\n",
    "            return response.text(); // C\n",
    "    });\n",
    "}\n",
    "\n",
    "var result = Promise.allSettled(urls.map((u) => downloadText(u)));\n",
    "\n",
    "result.then(\n",
    "    arr => assert.deepEqual(\n",
    "        arr,\n",
    "        [\n",
    "            {\n",
    "                status: 'fulfilled',\n",
    "                value: 'Hello!',\n",
    "            },\n",
    "            {\n",
    "                status: 'rejected',\n",
    "                reason: new Error('Not Found')\n",
    "            }\n",
    "        ]\n",
    "    )\n",
    ")"
   ]
  },
  {
   "cell_type": "markdown",
   "id": "8c3c5cb4",
   "metadata": {},
   "source": [
    "#### A simple implementation of Promise.allSettled()"
   ]
  },
  {
   "cell_type": "code",
   "execution_count": 4,
   "id": "096a89c8",
   "metadata": {},
   "outputs": [],
   "source": [
    "// performs no safety checks\n",
    "\n",
    "// notice that allSettled does not use reject\n",
    "// unless there is a problem with iterating through the iterable, the promise is not rejected\n",
    "function allSettled(iterable) {\n",
    "    return new Promise((resolve, reject) => {\n",
    "        let elementCount = 0;\n",
    "        let result;\n",
    "        \n",
    "        function addElementToResult(i, elem) {\n",
    "            result[i] = elem;\n",
    "            elementCount++;\n",
    "            if (elementCount === result.length) {\n",
    "                resolve(result);\n",
    "            }\n",
    "        }\n",
    "        \n",
    "        let index = 0;\n",
    "        for (const promise of iterable) {\n",
    "            // capture current value of index\n",
    "            const currentIndex = index;\n",
    "            \n",
    "            // this happens asynchronously\n",
    "            // initializing result afterwards is fine\n",
    "            \n",
    "            // remember that .then() has 2 arguments\n",
    "            // one for fulfillment and one for rejection\n",
    "            promise.then(\n",
    "                (value) => addElementToResult(\n",
    "                    currentIndex,\n",
    "                    {\n",
    "                        status: 'fulfilled',\n",
    "                        value\n",
    "                    }\n",
    "                ),\n",
    "                (reason) => addElementToResult(\n",
    "                    currentIndex,\n",
    "                    {\n",
    "                        status: 'rejected',\n",
    "                        reason\n",
    "                    }\n",
    "                )\n",
    "            )\n",
    "            \n",
    "            index++;\n",
    "        }\n",
    "        \n",
    "        // if there are no promises in the iterable\n",
    "        // just return an empty Array\n",
    "        if (index === 0) {\n",
    "            resolve([]);\n",
    "            return;\n",
    "        }\n",
    "        \n",
    "        // now we know how many promises there are in 'iterable'\n",
    "        // we can wait until now with initializing 'redsult' b/c\n",
    "        // the callbacks of .then() are executed asynchronously\n",
    "        result = new Array(index);\n",
    "    })\n",
    "}"
   ]
  },
  {
   "cell_type": "markdown",
   "id": "59fa9c5f",
   "metadata": {},
   "source": [
    "### Short-circuiting (advanced)\n",
    "\n",
    "* short-circuiting = output Promise is __settled early__ before all input Promises in the iterable are settled\n",
    "* these combinators short-circuit:\n",
    "    - Promise.all(): output Promise is rejected as soon as one of the input Promises is rejected\n",
    "        * all or none\n",
    "    - Promise.race(): the output Promise is settled as soon as one input Promise is settled\n",
    "        * it only cares about the fastest one\n",
    "    - Promise.any(): output Promise is fulfilled as soon as one input Promise is fulfilled"
   ]
  },
  {
   "cell_type": "markdown",
   "id": "c93ee470",
   "metadata": {},
   "source": [
    "## Concurrency and Promise.all() (advanced)"
   ]
  },
  {
   "cell_type": "markdown",
   "id": "60b26168",
   "metadata": {},
   "source": [
    "### Sequential execution vs. concurrent execution\n",
    "\n",
    "* using .then() in the example below will execute Promise-based functions __sequentially__: only after asyncFunc1 has settled will we execute asyncFunc2"
   ]
  },
  {
   "cell_type": "code",
   "execution_count": 5,
   "id": "0c34956e",
   "metadata": {},
   "outputs": [
    {
     "data": {
      "text/plain": [
       "Promise { <pending> }"
      ]
     },
     "execution_count": 5,
     "metadata": {},
     "output_type": "execute_result"
    },
    {
     "name": "stdout",
     "output_type": "stream",
     "text": [
      "{ result1: 'one' }\n",
      "{ result2: 'two' }\n"
     ]
    }
   ],
   "source": [
    "const asyncFunc1 = () => Promise.resolve('one');\n",
    "const asyncFunc2 = () => Promise.resolve('two');\n",
    "\n",
    "asyncFunc1()\n",
    "    .then(result1 => {\n",
    "        console.log({result1});\n",
    "        return asyncFunc2();\n",
    "    })\n",
    "    .then(result2 => {\n",
    "        console.log({result2});\n",
    "    })"
   ]
  },
  {
   "cell_type": "markdown",
   "id": "3e97cfcd",
   "metadata": {},
   "source": [
    "* Promise.all() helps executed Promise-based functions more concurrently"
   ]
  },
  {
   "cell_type": "code",
   "execution_count": 7,
   "id": "d240fa72",
   "metadata": {},
   "outputs": [
    {
     "data": {
      "text/plain": [
       "Promise { <pending> }"
      ]
     },
     "execution_count": 7,
     "metadata": {},
     "output_type": "execute_result"
    },
    {
     "name": "stdout",
     "output_type": "stream",
     "text": [
      "{ arr: [ 'one', 'two' ] }\n"
     ]
    }
   ],
   "source": [
    "Promise.all([asyncFunc1(), asyncFunc2()])\n",
    "    .then(arr => {\n",
    "        console.log({arr})\n",
    "    })"
   ]
  },
  {
   "cell_type": "markdown",
   "id": "ada8ffc9",
   "metadata": {},
   "source": [
    "### Concurrency tip: focus on when operations start\n",
    "\n",
    "* focus on when asynchronous operations start, not on how their Promises are handled"
   ]
  },
  {
   "cell_type": "code",
   "execution_count": null,
   "id": "fad92472",
   "metadata": {},
   "outputs": [],
   "source": [
    "// asyncFunc1() and asyncFunc2() are executed concurrently b/c they are started at nearly the same time\n",
    "\n",
    "function concurrentAll() {\n",
    "    return Promise.all([asyncFunc1(), asyncFunc2()]);\n",
    "}\n",
    "\n",
    "function concurrentThen() {\n",
    "    const p1 = asyncFunc1()\n",
    "    const p2 = asyncFunc2();\n",
    "    return p1.then(r1 => p2.then(r2 => [r1, r2]));\n",
    "}"
   ]
  },
  {
   "cell_type": "code",
   "execution_count": 13,
   "id": "261ce722",
   "metadata": {},
   "outputs": [],
   "source": [
    "// asyncFunc1() and asyncFunc2() are executed sequentially\n",
    "// asyncFunc2() is only invoked after the Promise of asyncFunc1() is fulfilled\n",
    "\n",
    "function sequentialThen() {\n",
    "    // different from concurrentThen b/c we did not INVOKE asyncFunc1() and asyncFunc2()\n",
    "    // at nearly the same time\n",
    "    \n",
    "    // we see here that after asyncFunc1() is fulfilled and enters the .then() callback\n",
    "    // that is when we invoke asyncFunc2()\n",
    "    \n",
    "    // if we look at concurrentThen, we see that both asyncFunc1() and asyncFunc2() are invoked right after the other\n",
    "    // not in each others' .then() callbacks\n",
    "    return asyncFunc1()\n",
    "        .then(r1 => asyncFunc2()\n",
    "            .then(r2 => [r1, r2]));\n",
    "}\n",
    "\n",
    "function sequentialAll() {\n",
    "    // similar to sequentialThen\n",
    "    // we invoke asyncFunc2() after asyncFunc1() has already been fulfilled and moved into the .then() callback\n",
    "    const p1 = asyncFunc1();\n",
    "    const p2 = p1.then(() => asyncFunc2());\n",
    "    \n",
    "    return Promise.all([p1, p2]);\n",
    "}"
   ]
  },
  {
   "cell_type": "markdown",
   "id": "b3047f47",
   "metadata": {},
   "source": [
    "### Promise.all() is fork-join\n",
    "\n",
    "* Promise.all() is loosely related to the concurrency pattern \"fork join\"\n",
    "* Fork: in line A, we are forking 2 asynchronous computations and executing them concurrently\n",
    "* Join: in line B, we are joining these computations into a single \"thread\" which is started once all of them are done"
   ]
  },
  {
   "cell_type": "code",
   "execution_count": null,
   "id": "18fb2ac5",
   "metadata": {},
   "outputs": [],
   "source": [
    "Promise.all([\n",
    "    // (A) fork\n",
    "    downloadText('http://example.com/first.txt'),\n",
    "    downloadText('http://example.com/second.txt')\n",
    "])\n",
    "    .then(\n",
    "        // (B) join\n",
    "        (arr) => {\n",
    "            assert.deepEqual(arr, ['First!', 'Second!']);\n",
    "        }\n",
    "    )"
   ]
  },
  {
   "cell_type": "markdown",
   "id": "bd896713",
   "metadata": {},
   "source": [
    "## Tips for chaining Promises"
   ]
  },
  {
   "cell_type": "markdown",
   "id": "1a2d1ad2",
   "metadata": {},
   "source": [
    "### Chaining mistake: losing the tail\n",
    "\n",
    "* computation starts with the Promise returned by asyncFunc()\n",
    "* but afterward, computation continues and another Promise is created via .then()\n",
    "* .foo() returns the former Promise, but should return the latter\n",
    "* basically, .then() is the Promise you want to return, not the one creating by the original asyncFunc() which is outdated"
   ]
  },
  {
   "cell_type": "code",
   "execution_count": null,
   "id": "9e231e94",
   "metadata": {},
   "outputs": [],
   "source": [
    "// Problem:\n",
    "\n",
    "// don't do this:\n",
    "function foo() {\n",
    "    const promise = asyncFunc();\n",
    "    promise.then(result => {\n",
    "        // ...\n",
    "    });\n",
    "    \n",
    "    return promise;\n",
    "}\n",
    "\n",
    "// fix:\n",
    "function foo() {\n",
    "    const promise = asyncFunc();\n",
    "    return promise.then(result => {\n",
    "        // ...\n",
    "    });\n",
    "}"
   ]
  },
  {
   "cell_type": "markdown",
   "id": "7be3be48",
   "metadata": {},
   "source": [
    "### Chaining mistake: nesting\n",
    "\n",
    "* the .then() in line A is nested\n",
    "* a flat structure would be better"
   ]
  },
  {
   "cell_type": "code",
   "execution_count": null,
   "id": "acfa48ca",
   "metadata": {},
   "outputs": [],
   "source": [
    "// problem:\n",
    "\n",
    "// don't do this:\n",
    "asyncFunc1()\n",
    "    .then(result => {\n",
    "        return asyncFunc2()\n",
    "            .then(result2 => { // A\n",
    "                // ...\n",
    "            });\n",
    "    })\n",
    "\n",
    "// fix:\n",
    "asyncFunc1()\n",
    "    .then(result => {\n",
    "        return asyncFunc2();\n",
    "    })\n",
    "    .then(result2 => {\n",
    "        // ...\n",
    "    });"
   ]
  },
  {
   "cell_type": "markdown",
   "id": "c66e4a1c",
   "metadata": {},
   "source": [
    "### Chaining mistake: more nesting than necessary"
   ]
  },
  {
   "cell_type": "code",
   "execution_count": null,
   "id": "e38a15ef",
   "metadata": {},
   "outputs": [],
   "source": [
    "// avoidable nesting\n",
    "\n",
    "// don't do this:\n",
    "asyncFunc1()\n",
    "    .then(result1 => {\n",
    "        if (result1 < 0) {\n",
    "            return asyncFuncA()\n",
    "                .then(resultA => 'Result: ' + resultA);\n",
    "        }\n",
    "        else {\n",
    "            return asyncFuncB()\n",
    "                .then(resultB => 'Result: ' + resultB);\n",
    "        }\n",
    "    })\n",
    "\n",
    "// fix:\n",
    "asyncFunc1()\n",
    "    .then(result1 => {\n",
    "        return result1 < 0 ? asyncFuncA() : asyncFuncB();\n",
    "    })\n",
    "    .then(resultAB => {\n",
    "        return 'Result: ' + resultAB;\n",
    "    })"
   ]
  },
  {
   "cell_type": "markdown",
   "id": "1f22129d",
   "metadata": {},
   "source": [
    "### Not all nesting is bad\n",
    "\n",
    "* A: receiving an asynchronous result\n",
    "* B: nesting so that we have access to variable connection inside the callback\n",
    "* C: nested so we still have access to variable connection\n",
    "***\n",
    "* essentially, nesting is useful when we want to make use of the same variable in the promise methods"
   ]
  },
  {
   "cell_type": "code",
   "execution_count": null,
   "id": "4757a8eb",
   "metadata": {},
   "outputs": [],
   "source": [
    "// benefit from nesting:\n",
    "\n",
    "db.open()\n",
    "    .then(connection => { // A\n",
    "        return connection.select({ name: 'Jane' })\n",
    "            .then(result => { // B\n",
    "                // Process result\n",
    "                // Use 'connection' to make more queries\n",
    "            })\n",
    "            // ...\n",
    "            .finally(() => {\n",
    "                connection.close(); // C\n",
    "            })\n",
    "    })"
   ]
  },
  {
   "cell_type": "markdown",
   "id": "06479000",
   "metadata": {},
   "source": [
    "### Chaining mistake: creating Promises instead of chaining\n",
    "\n",
    "* in line A, we are creating a Promise to deliver the result of db.insert() which is unneccessary\n",
    "* we don't need to create a Promise here\n",
    "    - just needed to return the result of the .then() call\n",
    "    - another benefit is that we don't need to catch and re-reject the failure of db.insert()\n",
    "    - we can simply pass its rejection on to the caller of .insertInto()"
   ]
  },
  {
   "cell_type": "code",
   "execution_count": null,
   "id": "1f1889f7",
   "metadata": {},
   "outputs": [],
   "source": [
    "// problem:\n",
    "\n",
    "// don't do this\n",
    "class Model {\n",
    "    insertInto(db) {\n",
    "        return new Promise((resolve, reject) => { // A\n",
    "            db.insert(this.fields)\n",
    "                .then(resultCode => {\n",
    "                    this.notifyObservers({event: 'created', model: this});\n",
    "                    resolve(resultCode);\n",
    "                })\n",
    "                .catch(err => {\n",
    "                    reject(err);\n",
    "                })\n",
    "        });\n",
    "    }\n",
    "    // ...\n",
    "}\n",
    "\n",
    "// fix:\n",
    "class Model {\n",
    "    insertInto(db) {\n",
    "        return db.insert(this.fields)\n",
    "            .then(resultCode => {\n",
    "                this.notifyObservers({event: 'created', model: this});\n",
    "                return resultCode;\n",
    "            });\n",
    "    }\n",
    "    // ...\n",
    "}"
   ]
  },
  {
   "cell_type": "markdown",
   "id": "83aaf556",
   "metadata": {},
   "source": [
    "## Quick reference: Promise combinator functions\n",
    "\n",
    "* Short-circuiting: the output Promise can be settled early (before every input Promise is settled)"
   ]
  },
  {
   "cell_type": "markdown",
   "id": "5f0d66c4",
   "metadata": {},
   "source": [
    "### Promise.all()\n",
    "\n",
    "* Fulfillment of p: if all input Promises are fulfilled\n",
    "    - Value: array with the fulfillment values of the input Promises\n",
    "* Rejection of p: if one input Promise is rejected\n",
    "    - Value: rejection value of the input Promise\n",
    "* Short-circuits: yes\n",
    "* Use case: processing Arrays with Promises (rejections terminate processing)"
   ]
  },
  {
   "cell_type": "code",
   "execution_count": null,
   "id": "2425b217",
   "metadata": {},
   "outputs": [],
   "source": [
    "Promise.all<T>(promises: Iterable<Promise<T>>)\n",
    "    : Promise<Array<T>>"
   ]
  },
  {
   "cell_type": "markdown",
   "id": "85a11ef5",
   "metadata": {},
   "source": [
    "### Promise.race()\n",
    "\n",
    "* Settlement of p: if the first input Promise is settled\n",
    "    - Value: settlement value of the input Promise\n",
    "*  Short-circuits: yes\n",
    "* Use case: reacting to the first settlement among multiple Promises"
   ]
  },
  {
   "cell_type": "code",
   "execution_count": null,
   "id": "ca789340",
   "metadata": {},
   "outputs": [],
   "source": [
    "Promise.race<T>(promises: Iterable<Promise<T>>)\n",
    "    : Promise<T>"
   ]
  },
  {
   "cell_type": "markdown",
   "id": "6fc8ba01",
   "metadata": {},
   "source": [
    "### Promise.any()\n",
    "\n",
    "* Fulfillment of p: if one input Promise is fulfilled\n",
    "    - Value: fulfillment value of the input Promise\n",
    "* Rejection of p: if all input Promises are rejected\n",
    "    - Value: AggregateError that contains the rejection values of the input Promises\n",
    "* Short-circuits: yes\n",
    "* Use case: among several asynchronous computations, we are only interested in the first successful one. that is, we are trying several approaches and the fastest one should win"
   ]
  },
  {
   "cell_type": "code",
   "execution_count": null,
   "id": "a9196fe5",
   "metadata": {},
   "outputs": [],
   "source": [
    "Promise.any<T>(promises: Iterable<Promise<T>>): Promise<T>\n",
    "    \n",
    "class AggregateError {\n",
    "    constructor(errors: Iterable<any>, message: string);\n",
    "    get errors(): Array<any>;\n",
    "    get message(): string;\n",
    "}"
   ]
  },
  {
   "cell_type": "markdown",
   "id": "ae16882c",
   "metadata": {},
   "source": [
    "### Promise.allSettled()\n",
    "\n",
    "* Fulfillment of p: if all input Promise are settled\n",
    "    - Value: Array with one settlement object for each input Promise. A settlement object contains the kind of settlement and settlement value\n",
    "* Rejection of p: if there is an error when iterating over the input Promises\n",
    "* Short-circuits: no\n",
    "* Use case: processing Arrays with Promises (rejections don't terminate processing)"
   ]
  },
  {
   "cell_type": "code",
   "execution_count": null,
   "id": "5c751489",
   "metadata": {},
   "outputs": [],
   "source": [
    "type SettlementObject<T> = FulfillmentObject<T> | RejectionObject;\n",
    "\n",
    "interface FulfillmentObject<T> {\n",
    "    status: 'fulfilled';\n",
    "    value: T;\n",
    "}\n",
    "\n",
    "interface RejectionObject {\n",
    "    status: 'rejected';\n",
    "    reason: unknown;\n",
    "}"
   ]
  },
  {
   "cell_type": "code",
   "execution_count": null,
   "id": "5b3e2840",
   "metadata": {},
   "outputs": [],
   "source": []
  }
 ],
 "metadata": {
  "kernelspec": {
   "display_name": "JavaScript (Node.js)",
   "language": "javascript",
   "name": "javascript"
  },
  "language_info": {
   "file_extension": ".js",
   "mimetype": "application/javascript",
   "name": "javascript",
   "version": "16.14.2"
  }
 },
 "nbformat": 4,
 "nbformat_minor": 5
}
