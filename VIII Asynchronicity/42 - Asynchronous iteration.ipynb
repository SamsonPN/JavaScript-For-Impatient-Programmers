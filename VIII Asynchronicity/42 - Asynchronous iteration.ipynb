{
 "cells": [
  {
   "cell_type": "markdown",
   "id": "03fa2fb1",
   "metadata": {},
   "source": [
    "# [Asynchronous iteration](https://exploringjs.com/impatient-js/ch_async-iteration.html)"
   ]
  },
  {
   "cell_type": "markdown",
   "id": "b0f32705",
   "metadata": {},
   "source": [
    "## Basic asynchronous iteration"
   ]
  },
  {
   "cell_type": "markdown",
   "id": "cc94e41f",
   "metadata": {},
   "source": [
    "### Protocol: async iteration\n",
    "\n",
    "* an _iterable_ is a data structure whose contents can be accessed via iteration\n",
    "    - it is a factory for iterators\n",
    "* an _iterator_ is a factory for iteration results that we retrieve by calling the method .next()\n",
    "* each _iterationResult_ contains the iterated .value and a boolean .done that is true after the last element and false before\n",
    "***\n",
    "* for the protocol for asynchronous iteration, we only want to change one thing:\n",
    "    - the values produced by .next() should be delivered asynchronously\n",
    "* there are 2 options:\n",
    "    1. .value could contain a Promise<T>\n",
    "    2. .next() could return Promise<IteratorResult<T>>\n",
    "* so do we wrap the value or the whole iterator result in a Promise?\n",
    "    - we have to choose option 2\n",
    "    - reason being, when .next() returns a result, it starts an asynchronous computation and whether that computation produces a value or signals the end of the iteration can only be determined after it is finished\n",
    "    - therefore, both .done and .value need to be wrapped in a Promise"
   ]
  },
  {
   "cell_type": "code",
   "execution_count": null,
   "id": "c4564f9c",
   "metadata": {},
   "outputs": [],
   "source": [
    "// interfaces for synchronous iteration\n",
    "\n",
    "interface Iterable<T> {\n",
    "    [Symbol.iterator](): Iterator<T>;\n",
    "}\n",
    "\n",
    "interface Iterator<T> {\n",
    "    next(): IteratorResult<T>;\n",
    "}\n",
    "\n",
    "interface IteratorResult<T> {\n",
    "    value: T;\n",
    "    done: boolean;\n",
    "}"
   ]
  },
  {
   "cell_type": "code",
   "execution_count": null,
   "id": "e348f4e3",
   "metadata": {},
   "outputs": [],
   "source": [
    "// interfaces for asynchronous iteration\n",
    "// the only difference to the synchronous iterface is the return type of .next() (line A)\n",
    "\n",
    "interface AsyncIterable<T> {\n",
    "    [Symbol.asyncIterator](): AsyncIterator<T>;\n",
    "}\n",
    "\n",
    "interface AsyncIterator<T> {\n",
    "    next(): Promise<IteratorResult<T>>; // A\n",
    "}\n",
    "\n",
    "interface IteratorResult<T> {\n",
    "    value: T;\n",
    "    done: boolean;\n",
    "}"
   ]
  },
  {
   "cell_type": "markdown",
   "id": "6c740ed8",
   "metadata": {},
   "source": [
    "### Using async iteration directly\n",
    "\n",
    "* line A: create an asynchronous iterable over the value 'a' and 'b'\n",
    "* we call .next() in line B, C, and D\n",
    "    - each time, we use .then() to unwrap the Promise and assert.deepEqual() to check the unwrapped value"
   ]
  },
  {
   "cell_type": "code",
   "execution_count": null,
   "id": "ffd3c051",
   "metadata": {},
   "outputs": [],
   "source": [
    "const asyncIterable = syncToAsyncIterable(['a','b']); // A\n",
    "const asyncIterator = asyncIterable[Symbol.asyncIterator]();\n",
    "\n",
    "// call .next() until .done is true\n",
    "asyncIterator.next() // B\n",
    "    .then(iteratorResult => {\n",
    "        assert.deepEqual(\n",
    "            iteratorResult,\n",
    "            { value: 'a', done: false}\n",
    "        );\n",
    "        return asyncIterator.next(); // C\n",
    "    })\n",
    "    .then(iteratorResult => {\n",
    "        assert.deepEqual(\n",
    "            iteratorResult,\n",
    "            { value: 'b', done: false}\n",
    "        );\n",
    "        return asyncIterator.next(); // D\n",
    "    })\n",
    "    .then(iteratorResult => {\n",
    "        assert.deepEqual(\n",
    "            iteratorResult,\n",
    "            { value: undefined , done: true}\n",
    "        );\n",
    "        return asyncIterator.next(); // C\n",
    "    })"
   ]
  },
  {
   "cell_type": "markdown",
   "id": "a660ae68",
   "metadata": {},
   "source": [
    "* we can simplify the code using an async function and unwrap the Promises via await"
   ]
  },
  {
   "cell_type": "code",
   "execution_count": null,
   "id": "c04a86f0",
   "metadata": {},
   "outputs": [],
   "source": [
    "const asyncIterable = syncToAsyncIterable(['a','b']); // A\n",
    "const asyncIterator = asyncIterable[Symbol.asyncIterator]();\n",
    "\n",
    "assert.deepEqual(\n",
    "    await asyncIterator.next(),\n",
    "    { value: 'a', done: false }\n",
    ")\n",
    "\n",
    "assert.deepEqual(\n",
    "    await asyncIterator.next(),\n",
    "    { value: 'b', done: false }\n",
    ")\n",
    "\n",
    "assert.deepEqual(\n",
    "    await asyncIterator.next(),\n",
    "    { value: undefined, done: true }\n",
    ")"
   ]
  },
  {
   "cell_type": "markdown",
   "id": "60bc179d",
   "metadata": {},
   "source": [
    "### Using async iteration via for-await-of\n",
    "\n",
    "* asynchronous iteration protocol is not meant to be used directly\n",
    "* for-await-of is an asynchronous version of for-of and can be used in async functions and async generators"
   ]
  },
  {
   "cell_type": "code",
   "execution_count": null,
   "id": "e37560ff",
   "metadata": {},
   "outputs": [],
   "source": [
    "for await (const x of syncToAsyncIterable(['a', 'b'])) {\n",
    "    console.log(x);\n",
    "}\n",
    "\n",
    "// Output:\n",
    "// 'a'\n",
    "// 'b'"
   ]
  },
  {
   "cell_type": "code",
   "execution_count": 2,
   "id": "f27233d3",
   "metadata": {},
   "outputs": [
    {
     "data": {
      "text/plain": [
       "Promise { <pending> }"
      ]
     },
     "execution_count": 2,
     "metadata": {},
     "output_type": "execute_result"
    },
    {
     "name": "stdout",
     "output_type": "stream",
     "text": [
      "a\n",
      "b\n"
     ]
    }
   ],
   "source": [
    "// it is flexible and can also support synchronous iterables\n",
    "async function syncFor() {\n",
    "    for await (const x of ['a', 'b']) {\n",
    "        console.log(x);\n",
    "    }  \n",
    "}\n",
    "\n",
    "syncFor();"
   ]
  },
  {
   "cell_type": "code",
   "execution_count": 3,
   "id": "4357bd5b",
   "metadata": {},
   "outputs": [
    {
     "data": {
      "text/plain": [
       "Promise { <pending> }"
      ]
     },
     "execution_count": 3,
     "metadata": {},
     "output_type": "execute_result"
    },
    {
     "name": "stdout",
     "output_type": "stream",
     "text": [
      "a\n",
      "b\n"
     ]
    }
   ],
   "source": [
    "// also able to support synchronous iterables over values that are wrapped in Promises\n",
    "async function syncFor() {\n",
    "    const arr = [Promise.resolve('a'), Promise.resolve('b')];\n",
    "    for await (const x of arr) {\n",
    "        console.log(x);\n",
    "    }  \n",
    "}\n",
    "\n",
    "syncFor();"
   ]
  },
  {
   "cell_type": "markdown",
   "id": "7274f8d8",
   "metadata": {},
   "source": [
    "## Asynchronous Generators\n",
    "\n",
    "* an asynchronous generator is 2 things at the same time:\n",
    "    - an async function (input): we can use await and for-await-of to retrieve data\n",
    "    - a generator that returns an asynchronous iterable (output): we can use yield and yield* to produce data\n",
    "* therefore, an asynchronous generator has:\n",
    "    - Input that can be:\n",
    "        * synchronous: single values, sync iterables\n",
    "        * asynchronous: Promises, async iterables\n",
    "    - Output that is an asynchronous iterable"
   ]
  },
  {
   "cell_type": "code",
   "execution_count": null,
   "id": "ea0d21e0",
   "metadata": {},
   "outputs": [],
   "source": [
    "async function* asyncGen() {\n",
    "    // Input: Promises, async iterables\n",
    "    const x = await somePromise;\n",
    "    for await (const y of someAsyncIterable) {\n",
    "        // ...\n",
    "    }\n",
    "    \n",
    "    // Output\n",
    "    yield someValue;\n",
    "    yield* otherAsyncGen();\n",
    "}"
   ]
  },
  {
   "cell_type": "markdown",
   "id": "557c0ee4",
   "metadata": {},
   "source": [
    "### Example: creating an async iterable via an async generator\n",
    "\n",
    "* the following code creates an async iterable with 3 numbers"
   ]
  },
  {
   "cell_type": "code",
   "execution_count": 2,
   "id": "64415651",
   "metadata": {},
   "outputs": [
    {
     "data": {
      "text/plain": [
       "Promise { <pending> }"
      ]
     },
     "execution_count": 2,
     "metadata": {},
     "output_type": "execute_result"
    },
    {
     "name": "stdout",
     "output_type": "stream",
     "text": [
      "{ value: 1, done: false }\n",
      "{ value: 2, done: false }\n",
      "{ value: 3, done: false }\n",
      "{ value: undefined, done: true }\n"
     ]
    }
   ],
   "source": [
    "async function* yield123() {\n",
    "    for (let i = 1; i <= 3; i++) {\n",
    "        yield i;\n",
    "    }\n",
    "}\n",
    "\n",
    "async function check() {\n",
    "    // yield123() returns an iterable\n",
    "    const asyncIterable = yield123();\n",
    "    \n",
    "    // creation of the async iterator by accessing the method called Symbol.asyncIterator\n",
    "    const asyncIterator = asyncIterable[Symbol.asyncIterator]();\n",
    "    \n",
    "    // .next() returns an IteratorResult object wrapped in a Promise\n",
    "    // thus, we need to unwrap the Promise using await\n",
    "    console.log(await asyncIterator.next());\n",
    "    console.log(await asyncIterator.next());\n",
    "    console.log(await asyncIterator.next());\n",
    "    console.log(await asyncIterator.next());    \n",
    "}\n",
    "\n",
    "check();"
   ]
  },
  {
   "cell_type": "markdown",
   "id": "df61462e",
   "metadata": {},
   "source": [
    "### Example: converting a sync iterable to an async iterable"
   ]
  },
  {
   "cell_type": "code",
   "execution_count": 7,
   "id": "c721e423",
   "metadata": {},
   "outputs": [
    {
     "name": "stdout",
     "output_type": "stream",
     "text": [
      "{ asyncIter: Object [AsyncGenerator] {} }\n",
      "Promise { <pending> }\n"
     ]
    }
   ],
   "source": [
    "async function* syncToAsyncIterable(syncIterable) {\n",
    "    for (const elem of syncIterable) {\n",
    "        // since this is an asynchronous function\n",
    "        // it will yield a value wrapped in a Promise\n",
    "        yield elem;\n",
    "    }\n",
    "}\n",
    "\n",
    "var syncExample = [1, 2, 3];\n",
    "var asyncIter = syncToAsyncIterable(syncExample);\n",
    "console.log({asyncIter})\n",
    "\n",
    "var asyncIterator = asyncIter[Symbol.asyncIterator]();\n",
    "console.log(asyncIterator.next())"
   ]
  },
  {
   "cell_type": "markdown",
   "id": "a855d99b",
   "metadata": {},
   "source": [
    "### Example: converting an async iterable to an Array"
   ]
  },
  {
   "cell_type": "code",
   "execution_count": 31,
   "id": "34a88273",
   "metadata": {},
   "outputs": [],
   "source": [
    "// similar to spreading but for async iterables instead of sync iterables\n",
    "\n",
    "async function asyncIterableToArray(asyncIterable) {\n",
    "    const result = [];\n",
    "    for await (const value of asyncIterable) {\n",
    "        result.push(value);\n",
    "    }\n",
    "    \n",
    "    return result;\n",
    "}"
   ]
  },
  {
   "cell_type": "markdown",
   "id": "dd93d3f1",
   "metadata": {},
   "source": [
    "* we can't use an async generator in this case\n",
    "    - we get our input via for-await-of and return an Array wrapped in a Promise\n",
    "    - since we return an Array wrapped in a Promise, that is the reason we can't use an async generator\n",
    "        * it would just create an asyncIterable with the first element of that iterable being the array ['a', 'b']\n",
    "        * so you're wrapping the array inside an iterable that needs to be traversed again instead of just returning the array that can be unwrapped easily with async/await"
   ]
  },
  {
   "cell_type": "code",
   "execution_count": 32,
   "id": "3af01989",
   "metadata": {},
   "outputs": [
    {
     "data": {
      "text/plain": [
       "Promise { <pending> }"
      ]
     },
     "execution_count": 32,
     "metadata": {},
     "output_type": "execute_result"
    },
    {
     "name": "stdout",
     "output_type": "stream",
     "text": [
      "{ res: [ 'a', 'b' ] }\n"
     ]
    }
   ],
   "source": [
    "async function* createAsyncIterable() {\n",
    "    // yields 2 objects wrapped in Promises:\n",
    "    // Promise({ value: 'a', done: false})\n",
    "    // Promise({ value: 'b', done: false })\n",
    "    yield 'a';\n",
    "    yield 'b';\n",
    "}\n",
    "\n",
    "var asyncIterable = createAsyncIterable();\n",
    "\n",
    "asyncIterableToArray(asyncIterable)\n",
    "    .then(res => console.log({res}))"
   ]
  },
  {
   "cell_type": "code",
   "execution_count": 3,
   "id": "2ebeaab5",
   "metadata": {},
   "outputs": [
    {
     "data": {
      "text/plain": [
       "Promise { <pending> }"
      ]
     },
     "execution_count": 3,
     "metadata": {},
     "output_type": "execute_result"
    },
    {
     "name": "stdout",
     "output_type": "stream",
     "text": [
      "{ res: { value: [ 'a', 'b' ], done: true } }\n"
     ]
    }
   ],
   "source": [
    "// example showcasing why we can't use an async generator\n",
    "\n",
    "async function* asyncIterableToArray(asyncIterable) {\n",
    "    const result = [];\n",
    "    for await (const value of asyncIterable) {\n",
    "        result.push(value);\n",
    "    }\n",
    "    \n",
    "    return result;\n",
    "}\n",
    "\n",
    "async function* createAsyncIterable() {\n",
    "    // yields 2 objects wrapped in Promises:\n",
    "    // Promise({ value: 'a', done: false})\n",
    "    // Promise({ value: 'b', done: false })\n",
    "    yield 'a';\n",
    "    yield 'b';\n",
    "}\n",
    "\n",
    "var asyncIterable = createAsyncIterable();\n",
    "var ex = asyncIterableToArray(asyncIterable);\n",
    "var ex2 = ex[Symbol.asyncIterator]();\n",
    "\n",
    "// the first value of the iterable is the Array wrapped in a Promise\n",
    "// we just want the Promise<Array>, not Promise<IteratorResult> that we have to unwrap again\n",
    "ex2.next()\n",
    "    .then(res => console.log({res}))"
   ]
  },
  {
   "cell_type": "markdown",
   "id": "b3efc209",
   "metadata": {},
   "source": [
    "### Example: transforming an async iterable"
   ]
  },
  {
   "cell_type": "code",
   "execution_count": 5,
   "id": "aea2ba08",
   "metadata": {},
   "outputs": [
    {
     "data": {
      "text/plain": [
       "Promise { <pending> }"
      ]
     },
     "execution_count": 5,
     "metadata": {},
     "output_type": "execute_result"
    },
    {
     "name": "stdout",
     "output_type": "stream",
     "text": [
      "{ res: [ 2, 4, 6 ] }\n"
     ]
    }
   ],
   "source": [
    "// async generator that produces a new async iterable by transforming an existing async iterable\n",
    "\n",
    "// the generator that transforms an existing async iterable\n",
    "// this will multiply all elements in the input async iterable by 2\n",
    "async function* timesTwo(asyncNumbers) {\n",
    "    for await (const x of asyncNumbers) {\n",
    "        yield x * 2;\n",
    "    }\n",
    "}\n",
    "\n",
    "// the async iterable we are transforming\n",
    "// this yields 1, 2, 3 wrapped in Promises\n",
    "async function* createAsyncIterable() {\n",
    "    for (let i = 1; i <= 3; i++) {\n",
    "        yield i;\n",
    "    }\n",
    "}\n",
    "\n",
    "// similar to spreading but for async iterables instead of sync iterables\n",
    "\n",
    "async function asyncIterableToArray(asyncIterable) {\n",
    "    const result = [];\n",
    "    for await (const value of asyncIterable) {\n",
    "        result.push(value);\n",
    "    }\n",
    "    \n",
    "    return result;\n",
    "}\n",
    "\n",
    "\n",
    "/**\n",
    " 1. createAsyncIterable creates an iterable with values 1, 2, and 3 wrapped in Promises\n",
    " 2. timesTwo takes those values from createAsyncIterable and multiplies them by 2 and also returns them wrapped in Promises\n",
    " 3. these values are unwrapped and an Array wrapped in a Promise is returned\n",
    " */\n",
    "asyncIterableToArray(timesTwo(createAsyncIterable()))\n",
    "    .then(res => console.log({res}))"
   ]
  },
  {
   "cell_type": "markdown",
   "id": "3063dfb7",
   "metadata": {},
   "source": [
    "### Example: mapping over asynchronous iterables"
   ]
  },
  {
   "cell_type": "code",
   "execution_count": 7,
   "id": "ba5589a0",
   "metadata": {},
   "outputs": [
    {
     "name": "stdout",
     "output_type": "stream",
     "text": [
      "[ 'aaa', 'bbb', 'ccc' ]\n"
     ]
    }
   ],
   "source": [
    "// reminder: how to map over synchronous iterables\n",
    "\n",
    "// generator function\n",
    "function* mapSync(iterable, func) {\n",
    "    let index = 0;\n",
    "    for (const x of iterable) {\n",
    "        // calls the function passed into it for each value of the iterable\n",
    "        // and yields it\n",
    "        // index might be needed for the function to work\n",
    "        yield func(x, index);\n",
    "        index++;\n",
    "    }\n",
    "}\n",
    "\n",
    "var syncIterable = mapSync(['a', 'b', 'c'], s => s.repeat(3));\n",
    "\n",
    "// remember that it returns an iterable, not an array\n",
    "// therefore, we must convert it\n",
    "console.log(Array.from(syncIterable))"
   ]
  },
  {
   "cell_type": "markdown",
   "id": "f5711ef7",
   "metadata": {},
   "source": [
    "* very similar to the synchronous version\n",
    "    - only need to add the async keyword in line A\n",
    "    - and the await keyword in line B since each element in the asyncIterable will be wrapped in a Promise, we need to unwrap it with await"
   ]
  },
  {
   "cell_type": "code",
   "execution_count": 9,
   "id": "9bbeb16e",
   "metadata": {},
   "outputs": [
    {
     "data": {
      "text/plain": [
       "Promise { <pending> }"
      ]
     },
     "execution_count": 9,
     "metadata": {},
     "output_type": "execute_result"
    },
    {
     "name": "stdout",
     "output_type": "stream",
     "text": [
      "{ res: [ 'aaa', 'bbb' ] }\n"
     ]
    }
   ],
   "source": [
    "// asynchronous version\n",
    "\n",
    "async function* mapAsync(asyncIterable, func) { // A\n",
    "    let index = 0;\n",
    "    for await (const x of asyncIterable) { // B\n",
    "        yield func(x, index);\n",
    "        index++;\n",
    "    }\n",
    "}\n",
    "\n",
    "async function* createAsyncIterable() {\n",
    "    yield 'a';\n",
    "    yield 'b';\n",
    "}\n",
    "\n",
    "// mapAsync returns an iterable\n",
    "var mapped = mapAsync(createAsyncIterable(), s => s.repeat(3));\n",
    "\n",
    "// iterable is converted to a Promise<Array>\n",
    "asyncIterableToArray(mapped)\n",
    "    .then(res => console.log({res}))"
   ]
  },
  {
   "cell_type": "markdown",
   "id": "23b35598",
   "metadata": {},
   "source": [
    "## Async iteration over Node.js streams"
   ]
  },
  {
   "cell_type": "markdown",
   "id": "b2157964",
   "metadata": {},
   "source": [
    "### Node.js streams: async via callbacks (push)"
   ]
  },
  {
   "cell_type": "code",
   "execution_count": null,
   "id": "b37fa842",
   "metadata": {},
   "outputs": [],
   "source": [
    "// traditionally, reading asynchronously from Node.js streams is done via callbacks\n",
    "// that is, the stream is in control and pushes data to the reader\n",
    "\n",
    "function main(inputFilePath) {\n",
    "    const readStream = fs.createReadStream(inputFilePath, \n",
    "        { encoding: 'utf8', highWaterMark: 1024 });\n",
    "    readStream.on('data', (chunk) => {\n",
    "        console.log('>>> '+chunk);\n",
    "    });\n",
    "    readStream.on('end', () => {\n",
    "        console.log('### DONE ###');\n",
    "    });\n",
    "}"
   ]
  },
  {
   "cell_type": "markdown",
   "id": "0cd7b8df",
   "metadata": {},
   "source": [
    "### Node.js streams: async via async iteration (pull)"
   ]
  },
  {
   "cell_type": "code",
   "execution_count": null,
   "id": "ae94dc15",
   "metadata": {},
   "outputs": [],
   "source": [
    "// this time, the reader is in control and pulls data from the stream\n",
    "\n",
    "async function main(inputFilePath) {\n",
    "    const readStream = fs.createReadStream(inputFilePath, \n",
    "        { encoding: 'utf8', highWaterMark: 1024 });\n",
    "    for await (const chunk of readStream) {\n",
    "        console.log('>>> '+chunk);\n",
    "    }\n",
    "    \n",
    "    console.log('### DONE ###');\n",
    "}"
   ]
  },
  {
   "cell_type": "markdown",
   "id": "b34a03c0",
   "metadata": {},
   "source": [
    "### Example: from chunks to lines\n",
    "\n",
    "* Node.js streams iterate over _chunks_ (arbitrarily long pieces) of data\n",
    "* the following asynchronous generator converts an async iterable over chunks to an async iterable over lines"
   ]
  },
  {
   "cell_type": "code",
   "execution_count": 10,
   "id": "ac864674",
   "metadata": {},
   "outputs": [
    {
     "data": {
      "text/plain": [
       "Promise { <pending> }"
      ]
     },
     "execution_count": 10,
     "metadata": {},
     "output_type": "execute_result"
    },
    {
     "name": "stdout",
     "output_type": "stream",
     "text": [
      "{ res: [ 'First\\n', 'Second\\n', 'Third\\n', 'Fourth' ] }\n"
     ]
    }
   ],
   "source": [
    "/**\n",
    " * Parameter: async iterable of chunks (strings)\n",
    " * Result: async iterable of lines (incl. newlines)\n",
    " */\n",
    "\n",
    "async function* chunksToLines(chunksAsync) {\n",
    "    let previous = '';\n",
    "    for await (const chunk of chunksAsync) { // input\n",
    "        previous += chunk;\n",
    "        let eolIndex;\n",
    "        \n",
    "        // finds a newline char in previous\n",
    "        // if it finds one, it'll slice from the beginning of previous to it (including the newline)\n",
    "        \n",
    "        // then it sets previous to the stuff after the newline\n",
    "        // if it can't find anymore new lines, this while loop ends\n",
    "        while ((eolIndex = previous.indexOf('\\n')) >= 0) {\n",
    "            // line includes the EOL (Windws '\\r\\n' or Unix '\\n')\n",
    "            const line = previous.slice(0, eolIndex + 1);\n",
    "            yield line; // output\n",
    "            previous = previous.slice(eolIndex + 1);\n",
    "        }\n",
    "    }\n",
    "    \n",
    "    if (previous.length > 0) {\n",
    "        yield previous;\n",
    "    }\n",
    "}\n",
    "\n",
    "// let's apply chunksToLines() to an async iterable over chunks (as produced by chunkIterable()):\n",
    "\n",
    "async function* chunkIterable() {\n",
    "    yield 'First\\nSec';\n",
    "    yield 'ond\\nThird\\nF';\n",
    "    yield 'ourth';\n",
    "}\n",
    "\n",
    "var linesIterable = chunksToLines(chunkIterable());\n",
    "asyncIterableToArray(linesIterable)\n",
    "    .then(res => console.log({res}))"
   ]
  },
  {
   "cell_type": "markdown",
   "id": "8bc40754",
   "metadata": {},
   "source": [
    "* now that we have an aysynchronous iterable over lines, we can use a previous transformation, numberLines(), to number those lines"
   ]
  },
  {
   "cell_type": "code",
   "execution_count": 12,
   "id": "061c8162",
   "metadata": {},
   "outputs": [
    {
     "data": {
      "text/plain": [
       "Promise { <pending> }"
      ]
     },
     "execution_count": 12,
     "metadata": {},
     "output_type": "execute_result"
    },
    {
     "name": "stdout",
     "output_type": "stream",
     "text": [
      "{ res: [ '1: First\\n', '2: Second\\n', '3: Third\\n', '4: Fourth' ] }\n"
     ]
    }
   ],
   "source": [
    "async function* numberLines(linesAsync) {\n",
    "    let lineNumber = 1;\n",
    "    for await (const line of linesAsync) {\n",
    "        yield lineNumber + ': ' + line;\n",
    "        lineNumber++;\n",
    "    }\n",
    "}\n",
    "\n",
    "var numberedLines = numberLines(chunksToLines(chunkIterable()));\n",
    "asyncIterableToArray(numberedLines)\n",
    "    .then(res => console.log({res}))"
   ]
  }
 ],
 "metadata": {
  "kernelspec": {
   "display_name": "JavaScript (Node.js)",
   "language": "javascript",
   "name": "javascript"
  },
  "language_info": {
   "file_extension": ".js",
   "mimetype": "application/javascript",
   "name": "javascript",
   "version": "16.14.2"
  }
 },
 "nbformat": 4,
 "nbformat_minor": 5
}
