{
 "cells": [
  {
   "cell_type": "markdown",
   "id": "1748c9ab",
   "metadata": {},
   "source": [
    "# [Exception handling](https://exploringjs.com/impatient-js/ch_exception-handling.html)"
   ]
  },
  {
   "cell_type": "markdown",
   "id": "4f3402b8",
   "metadata": {},
   "source": [
    "## Motivation: throwing and catching exceptions\n",
    "\n",
    "* the example below reads profiles stored in files into an Array with instances of class Profile\n",
    "* in line B: an error occurred but the best place to handle the problem is not at its current location but at line A\n",
    "    - at line A, we can skip the current file and move onto the next one\n",
    "    - therefore:\n",
    "        * in line B, we use a _throw_ statement to indicate there was a problem\n",
    "        * in line A, we use a _try-catch_ statement to handle the problem\n",
    "* when we throw, the following constructs are active:\n",
    "\n",
    "    - readProfiles(···)\n",
    "      - for (const filePath of filePaths)\n",
    "        - try\n",
    "          - readOneProfile(···)\n",
    "            - openFile(···)\n",
    "              - if (!fs.existsSync(filePath))\n",
    "                - throw\n",
    "* one by one, _throw_ exits the nested constructs until it encounters a try statement\n",
    "    - execution will continue in the _catch_ clause of that try statement"
   ]
  },
  {
   "cell_type": "code",
   "execution_count": null,
   "id": "d79c592a",
   "metadata": {},
   "outputs": [],
   "source": [
    "function readProfiles(filePaths) {\n",
    "  const profiles = [];\n",
    "  for (const filePath of filePaths) {\n",
    "    try {\n",
    "      const profile = readOneProfile(filePath);\n",
    "      profiles.push(profile);\n",
    "    } catch (err) { // (A)\n",
    "      console.log('Error in: '+filePath, err);\n",
    "    }\n",
    "  }\n",
    "}\n",
    "function readOneProfile(filePath) {\n",
    "  const profile = new Profile();\n",
    "  const file = openFile(filePath);\n",
    "  // ··· (Read the data in `file` into `profile`)\n",
    "  return profile;\n",
    "}\n",
    "function openFile(filePath) {\n",
    "  if (!fs.existsSync(filePath)) {\n",
    "    throw new Error('Could not find file '+filePath); // (B)\n",
    "  }\n",
    "  // ··· (Open the file whose path is `filePath`)\n",
    "}"
   ]
  },
  {
   "cell_type": "markdown",
   "id": "60192b33",
   "metadata": {},
   "source": [
    "## throw\n",
    "\n",
    "* syntax of the throw statement:\n",
    "    - __throw__ <\\<value>>;"
   ]
  },
  {
   "cell_type": "markdown",
   "id": "27160069",
   "metadata": {},
   "source": [
    "### What values should we throw?\n",
    "\n",
    "* any value can be thrown in JavaScript but it's best to __use instances of _Error_ or a subclass__ b/c they support additional features such as __stack traces and error chaining__\n",
    "* thus we have the following options:\n",
    "    - using class _Error_ directly\n",
    "        * less limiting in JavaScript than in more static languages b/c we can add our own properties to instances\n",
    "    - using one of the subclasses of Error\n",
    "    - subclassing Error"
   ]
  },
  {
   "cell_type": "code",
   "execution_count": null,
   "id": "4e81769f",
   "metadata": {},
   "outputs": [],
   "source": [
    "// using class Error directly\n",
    "var err = new Error('Could not find the file');\n",
    "err.filePath = filePath;\n",
    "throw err;\n",
    "\n",
    "// subclassing Error\n",
    "class MyError extends Error {\n",
    "}\n",
    "\n",
    "function func() {\n",
    "    throw new MyError('Problem!');\n",
    "}\n",
    "\n",
    "assert.throws(\n",
    "    () => func(),\n",
    "    MyError\n",
    ");"
   ]
  },
  {
   "cell_type": "markdown",
   "id": "a3bfbbff",
   "metadata": {},
   "source": [
    "## The try statement\n",
    "\n",
    "* we can combine these clauses as follows:\n",
    "    - try-catch\n",
    "    - try-finally\n",
    "    - try-catch-finally"
   ]
  },
  {
   "cell_type": "code",
   "execution_count": null,
   "id": "99aad637",
   "metadata": {},
   "outputs": [],
   "source": [
    "// maximal version of the try statement\n",
    "\n",
    "try {\n",
    "    <<try_statements>>\n",
    "}\n",
    "catch(error) {\n",
    "    <<catch_statements>>\n",
    "}\n",
    "finally {\n",
    "    <<finally_statements>>\n",
    "}"
   ]
  },
  {
   "cell_type": "markdown",
   "id": "c584993b",
   "metadata": {},
   "source": [
    "### The try block\n",
    "\n",
    "* can be considered the body of the statement where we execute the regular code"
   ]
  },
  {
   "cell_type": "markdown",
   "id": "5ab68ac4",
   "metadata": {},
   "source": [
    "### The catch clause\n",
    "\n",
    "* if an exceptions reaches the try block, then it is assigned to the parameter of the catch clause and code in the catch clause is executed\n",
    "* execution then continues after the try statement unless:\n",
    "    - there is a return, break, or throw inside the catch block\n",
    "    - there is a finally clause which is always executed before the try statement ends"
   ]
  },
  {
   "cell_type": "code",
   "execution_count": 3,
   "id": "a6809ab1",
   "metadata": {},
   "outputs": [
    {
     "name": "stdout",
     "output_type": "stream",
     "text": [
      "true\n"
     ]
    }
   ],
   "source": [
    "// value that is thrown in line A is caught in line B\n",
    "\n",
    "var errorObject = new Error();\n",
    "function func() {\n",
    "    throw errorObject; // A\n",
    "}\n",
    "\n",
    "try {\n",
    "    func();\n",
    "}\n",
    "catch(err) { // B\n",
    "    console.log(err === errorObject)\n",
    "}"
   ]
  },
  {
   "cell_type": "markdown",
   "id": "b482a39b",
   "metadata": {},
   "source": [
    "#### Omitting the catch binding\n",
    "\n",
    "* we are able to omit the _catch_ parameter if we are not interested in the value that was thrown\n",
    "* can be useful\n",
    "    - e.g. Node.js has the API function assert.throws(func) that checks if an error is thrown inside func"
   ]
  },
  {
   "cell_type": "code",
   "execution_count": null,
   "id": "e71cef35",
   "metadata": {},
   "outputs": [],
   "source": [
    "// omitting the parameter for catch\n",
    "\n",
    "try {\n",
    "    // ...\n",
    "}\n",
    "catch {\n",
    "    // ...\n",
    "}\n",
    "\n",
    "// node.js assert.throws\n",
    "function throws(func) {\n",
    "    try {\n",
    "        func();\n",
    "    }\n",
    "    catch {\n",
    "        return; // everything OK\n",
    "    }\n",
    "    \n",
    "    throw new Error('Function didn\\'t throw an exception!');\n",
    "}"
   ]
  },
  {
   "cell_type": "markdown",
   "id": "4f29b623",
   "metadata": {},
   "source": [
    "### The finally clause\n",
    "\n",
    "* code inside the finally clause is always executed at the end of a try statement - no matter what happens in the try block or the catch clause\n",
    "* common use case for finally clause:\n",
    "    - created a resource that we want to destroy once we are done with it"
   ]
  },
  {
   "cell_type": "code",
   "execution_count": null,
   "id": "bddbdbf3",
   "metadata": {},
   "outputs": [],
   "source": [
    "var resource = createResource();\n",
    "\n",
    "try {\n",
    "    // work with resource. errors may be thrown\n",
    "}\n",
    "finally {\n",
    "    resource.destroy();\n",
    "}"
   ]
  },
  {
   "cell_type": "markdown",
   "id": "c01db484",
   "metadata": {},
   "source": [
    "#### finally is always executed"
   ]
  },
  {
   "cell_type": "code",
   "execution_count": null,
   "id": "84521567",
   "metadata": {},
   "outputs": [],
   "source": [
    "// finally clause is always executed, even if an error is thrown (line A)\n",
    "\n",
    "var finallyWasExecuted = false;\n",
    "assert.throws(\n",
    "    () => {\n",
    "        try {\n",
    "            throw new Error(); // A\n",
    "        }\n",
    "        finally {\n",
    "            finallyWasExecuted = true;\n",
    "        }\n",
    "    },\n",
    "    Error\n",
    ");\n",
    "\n",
    "assert.equal(finallyWasExecuted, true);\n",
    "\n",
    "// finally clause is always executed, even if there is a return statement (line A)\n",
    "var finallyWasExecuted = false;\n",
    "function func() {\n",
    "    try {\n",
    "        return; // A\n",
    "    }\n",
    "    finally {\n",
    "        finallyWasExecuted = true;\n",
    "    }\n",
    "}\n",
    "\n",
    "func();\n",
    "assert.equal(finallyWasExecuted, true);"
   ]
  },
  {
   "cell_type": "markdown",
   "id": "a8874bce",
   "metadata": {},
   "source": [
    "## Error and its subclasses\n",
    "\n",
    "* Error is the common superclass of all built-in error classes"
   ]
  },
  {
   "cell_type": "markdown",
   "id": "91b249ac",
   "metadata": {},
   "source": [
    "### Class Error\n",
    "\n",
    "* constructor has 2 parameters:\n",
    "    1. message specifies an error message\n",
    "    2. options was introduced in ES2022\n",
    "        * contains an object where one property is currently supported\n",
    "            - .cause specifies which exception (if any) caused the current error"
   ]
  },
  {
   "cell_type": "code",
   "execution_count": null,
   "id": "ca43d7d7",
   "metadata": {},
   "outputs": [],
   "source": [
    "class Error {\n",
    "    // Instance properties\n",
    "    message: string;\n",
    "    cause?: any; // ES2022\n",
    "    stack: string; // non-standard but widely supported\n",
    "    \n",
    "    constructor(\n",
    "        message: string = '',\n",
    "         options?: ErrorOptions //ES2022\n",
    "    );\n",
    "}\n",
    "\n",
    "interface ErrorOptions {\n",
    "    cause?: any; // ES2022\n",
    "}"
   ]
  },
  {
   "cell_type": "markdown",
   "id": "82ec27b6",
   "metadata": {},
   "source": [
    "#### Error.prototype.name\n",
    "\n",
    "* each built-in error class E has a property E.prototype.name:\n",
    "    - Error.prototype.name = 'Error'\n",
    "    - RangeError.prototype.name = 'RangeError'\n",
    "* therefore, there are 2 ways to get the name of the class of a built-in error object:\n",
    "    - new RangeError().name\n",
    "    - new RangeError().constructor.name"
   ]
  },
  {
   "cell_type": "markdown",
   "id": "2c5f2c64",
   "metadata": {},
   "source": [
    "#### Error instance property .message"
   ]
  },
  {
   "cell_type": "code",
   "execution_count": 5,
   "id": "192c7268",
   "metadata": {},
   "outputs": [],
   "source": [
    "// .message contains just the error message:\n",
    "var assert = require('assert');\n",
    "\n",
    "var err = new Error('Hello!');\n",
    "assert.equal(String(err), 'Error: Hello!');\n",
    "assert.equal(err.message, 'Hello!');\n",
    "\n",
    "// if we omit the message then the empty string is used as a default value (inherited from Error.prototype.message):\n",
    "assert.equal(new Error().message, '');"
   ]
  },
  {
   "cell_type": "markdown",
   "id": "cd81329e",
   "metadata": {},
   "source": [
    "#### Error instance property .stack\n",
    "\n",
    "* .stack is not an ECMAScript feature but is widely supported by JavaScript engines\n",
    "* it is usually a string but its exact structure is not standardized and varies between engines"
   ]
  },
  {
   "cell_type": "code",
   "execution_count": 11,
   "id": "d20fddb2",
   "metadata": {},
   "outputs": [
    {
     "name": "stdout",
     "output_type": "stream",
     "text": [
      "Error: Hello!\n",
      "    at evalmachine.<anonymous>:3:11\n",
      "    at Script.runInThisContext (node:vm:129:12)\n",
      "    at Object.runInThisContext (node:vm:305:38)\n",
      "    at run ([eval]:1020:15)\n",
      "    at onRunRequest ([eval]:864:18)\n",
      "    at onMessage ([eval]:828:13)\n",
      "    at process.emit (node:events:526:28)\n",
      "    at emit (node:internal/child_process:938:14)\n",
      "    at processTicksAndRejections (node:internal/process/task_queues:84:21)\n"
     ]
    }
   ],
   "source": [
    "// on JS engine V8\n",
    "\n",
    "var err = new Error('Hello!');\n",
    "console.log(err.stack)"
   ]
  },
  {
   "cell_type": "markdown",
   "id": "9241a48a",
   "metadata": {},
   "source": [
    "#### Error instance property .cause [ES2022]\n",
    "\n",
    "* the instance property .cause is created via the options object in the second parameter of new Error()\n",
    "* specifies which other error caused the current one"
   ]
  },
  {
   "cell_type": "code",
   "execution_count": 12,
   "id": "d84faffb",
   "metadata": {},
   "outputs": [],
   "source": [
    "var err = new Error('msg', {cause: 'the cause'});\n",
    "assert.equal(err.cause, 'the cause')"
   ]
  },
  {
   "cell_type": "markdown",
   "id": "45522ccc",
   "metadata": {},
   "source": [
    "### The built-in subclasses of Error\n",
    "\n",
    "* Error has the following subclasses:\n",
    "    - AggregateError[ES2021]: represents multiple errors at once\n",
    "        * in the standard library, only Promise.any() uses it\n",
    "    - RangeError: indicates a value that is not in the set or range of allowable values\n",
    "    - ReferenceError: indicates that an invalid reference value has been detected\n",
    "    - SyntaxError: indicates that a parsing error has occurred\n",
    "    - TypeError: used to indicate an unsuccessful operation when none of the other NativeError objects are an appropriate indication of the failure cause\n",
    "    - URIError: indicates that one of the global URI handling functions was used in a way that is incompatible with its definition"
   ]
  },
  {
   "cell_type": "markdown",
   "id": "d6557c80",
   "metadata": {},
   "source": [
    "### Subclassing Error\n",
    "\n",
    "* since ES2022, the Error constructor accepts 2 parameters\n",
    "* thus, we have 2 choices when subclassing it:\n",
    "    - can either omit the constructor in our subclass\n",
    "    - or invoke super()"
   ]
  },
  {
   "cell_type": "code",
   "execution_count": 13,
   "id": "fe91af6d",
   "metadata": {},
   "outputs": [],
   "source": [
    "class MyCustomError extends Error {\n",
    "    constructor(message, options) {\n",
    "        super(message, options);\n",
    "        // ...\n",
    "    }\n",
    "}"
   ]
  },
  {
   "cell_type": "markdown",
   "id": "694cfca0",
   "metadata": {},
   "source": [
    "## Chaining errors"
   ]
  },
  {
   "cell_type": "markdown",
   "id": "eaa56d6d",
   "metadata": {},
   "source": [
    "### Why would we want to chain errors?\n",
    "\n",
    "* sometimes we catch errors that are thrown during a more deeply nested function call and would like to attach more information to it\n",
    "* the statements inside the try clause my throw all kinds of errors\n",
    "    - in most cases, an error won't be aware of the path of the file that caused it\n",
    "    - thus, we would like to attach that information in line A"
   ]
  },
  {
   "cell_type": "code",
   "execution_count": null,
   "id": "90f603de",
   "metadata": {},
   "outputs": [],
   "source": [
    "function readFiles(filePaths) {\n",
    "    return filePaths.map(\n",
    "    (filePath) => {\n",
    "        try {\n",
    "            const text = readText(filePath);\n",
    "            const json = JSON.parse(text);\n",
    "            return processJson(json);\n",
    "        }\n",
    "        catch (error) {\n",
    "            // A\n",
    "        }\n",
    "    });\n",
    "}"
   ]
  },
  {
   "cell_type": "markdown",
   "id": "2b5babde",
   "metadata": {},
   "source": [
    "### Chaining errors via error.cause [ES2022]\n",
    "\n",
    "* since ES2022, new Error() allows us to specify what caused it"
   ]
  },
  {
   "cell_type": "code",
   "execution_count": null,
   "id": "9873cee1",
   "metadata": {},
   "outputs": [],
   "source": [
    "function readFiles(filePaths) {\n",
    "    return filePaths.map(\n",
    "    (filePath) => {\n",
    "        try {\n",
    "            // ....\n",
    "        }\n",
    "        catch (error) {\n",
    "            throw new Error(\n",
    "                `While processing ${filePath}`,\n",
    "                {cause: error}\n",
    "            );\n",
    "        }\n",
    "    })\n",
    "}"
   ]
  },
  {
   "cell_type": "markdown",
   "id": "e8ad71f5",
   "metadata": {},
   "source": [
    "### An alternative to .cause: a custom error class\n",
    "\n",
    "* the following custom error class supports chaining and is forward compatible with .cause"
   ]
  },
  {
   "cell_type": "code",
   "execution_count": null,
   "id": "d524dc1f",
   "metadata": {},
   "outputs": [],
   "source": [
    "/**\n",
    " * An error class that supports error chaining\n",
    " * If there is built-in support for .cause, it uses it\n",
    " * Otherwise, it creates this property itself\n",
    " */\n",
    "\n",
    "class CausedError extends Error {\n",
    "    constructor(message, options) {\n",
    "        suport(message, options);\n",
    "        if (\n",
    "            (isObject(options) && 'cause' in options)\n",
    "            && !('cause' in this)\n",
    "        ) {\n",
    "            // .cause was specified but the superconstructor\n",
    "            // did not create an instance property\n",
    "            const cause = optiions.cause;\n",
    "            this.cause = cause;\n",
    "            if ('stack' in cause) {\n",
    "                this.stack = this.stack + '\\nCAUSE: ' + cause.stack;\n",
    "            }\n",
    "        }\n",
    "    }\n",
    "}\n",
    "\n",
    "function isObject(value) {\n",
    "    return value !== null && typeof value === 'object';\n",
    "}"
   ]
  }
 ],
 "metadata": {
  "kernelspec": {
   "display_name": "JavaScript (Node.js)",
   "language": "javascript",
   "name": "javascript"
  },
  "language_info": {
   "file_extension": ".js",
   "mimetype": "application/javascript",
   "name": "javascript",
   "version": "16.14.2"
  }
 },
 "nbformat": 4,
 "nbformat_minor": 5
}
