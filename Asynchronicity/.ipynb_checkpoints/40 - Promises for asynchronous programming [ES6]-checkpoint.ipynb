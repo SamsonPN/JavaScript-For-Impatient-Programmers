{
 "cells": [
  {
   "cell_type": "markdown",
   "id": "0451d718",
   "metadata": {},
   "source": [
    "# [Promises for asynchronous programming](https://exploringjs.com/impatient-js/ch_promises.html)"
   ]
  },
  {
   "cell_type": "markdown",
   "id": "7fa3e8e0",
   "metadata": {},
   "source": [
    "## The basics of using Promises\n",
    "\n",
    "* promises are a technique for delivering results asynchronously"
   ]
  },
  {
   "cell_type": "markdown",
   "id": "7d78da3e",
   "metadata": {},
   "source": [
    "### Using a Promise-based function\n",
    "\n",
    "* Promises are similar to the event pattern\n",
    "    - there is an object (Promise) where we register callbacks:\n",
    "        * Method .then() registers callbacks that handles results\n",
    "        * Method .catch() registers callbacks that handle errors\n",
    "* a Promise-based function returns a Promise and sends it a result or an error (if and when it is done)\n",
    "    - the promise passes it on to the relevant callbacks\n",
    "* in contrast to the event pattern, Promises are optimized for one-off results:\n",
    "    - a result (or an error) is cached so that it doesn't matter if we register a callback before or after the result (or error) was sent\n",
    "    - .then() and .catch() can both be chained b/c they return Promises\n",
    "        * helps with sequentially invoking multiple asynchronous functions"
   ]
  },
  {
   "cell_type": "code",
   "execution_count": 3,
   "id": "94053990",
   "metadata": {},
   "outputs": [
    {
     "data": {
      "text/plain": [
       "Promise { <pending> }"
      ]
     },
     "execution_count": 3,
     "metadata": {},
     "output_type": "execute_result"
    },
    {
     "name": "stderr",
     "output_type": "stream",
     "text": [
      "X and Y should be positive numbers!\n"
     ]
    },
    {
     "name": "stdout",
     "output_type": "stream",
     "text": [
      "3\n"
     ]
    }
   ],
   "source": [
    "Promise-based function\n",
    "addAsync(3, 4)\n",
    "    .then(result => { // success\n",
    "        assert.equal(result, 7);\n",
    "    })\n",
    "    .catch(error => { // failure\n",
    "        assert.fail(error);\n",
    "    })\n",
    "\n",
    "const addPositiveAsync = (x, y) => {\n",
    "    return new Promise((resolve, reject) => {\n",
    "      if (x < 0 || y < 0) {\n",
    "        reject('X and Y should be positive numbers!');\n",
    "    }\n",
    "    else {\n",
    "        setTimeout(() => {\n",
    "          resolve(x + y);\n",
    "      }, 1000)\n",
    "    }\n",
    "  });\n",
    "}\n",
    "\n",
    "const callAsync = async () => {\n",
    "    try {\n",
    "        let result = await addPositiveAsync(-1, -2);\n",
    "    console.log(result);\n",
    "  }\n",
    "  catch(error) {\n",
    "      console.error(error);\n",
    "  }\n",
    "  \n",
    "  try {\n",
    "      let result = await addPositiveAsync(1, 2);\n",
    "        console.log(result);\n",
    "  }\n",
    "  catch(error) {\n",
    "      console.error(error);\n",
    "  }\n",
    "}\n",
    "\n",
    "callAsync();"
   ]
  },
  {
   "cell_type": "markdown",
   "id": "e141d690",
   "metadata": {},
   "source": [
    "### What is a Promise?\n",
    "\n",
    "* two ways of looking at it:\n",
    "    1. placeholder or container for the final result that will eventually be delivered\n",
    "    2. an object with which we can register listeners"
   ]
  },
  {
   "cell_type": "markdown",
   "id": "6724c887",
   "metadata": {},
   "source": [
    "### Implementing a Promise-based function\n",
    "\n",
    "* addAsync() immediately invokes the Promise constructor\n",
    "* the implementation of the function resides in the callback that is passed to the constructor (line A)\n",
    "* the callback is provided with 2 functions:\n",
    "    1. resolve is used for delivering a result (in case of success)\n",
    "    2. reject is used for delivering an error (in case of failure)"
   ]
  },
  {
   "cell_type": "code",
   "execution_count": null,
   "id": "6426356f",
   "metadata": {},
   "outputs": [],
   "source": [
    "// implementation of a Promise-based function that adds two numbers x and y:\n",
    "function addAsync(x, y) {\n",
    "    return new Promise(\n",
    "        (resolve, reject) => { // A\n",
    "            if (x === undefined || y === undefined) {\n",
    "                reject(new Error('Must provide two parameters'));\n",
    "            }\n",
    "            else {\n",
    "                resolve(x + y);\n",
    "            }\n",
    "        }\n",
    "    )\n",
    "}"
   ]
  },
  {
   "cell_type": "markdown",
   "id": "c2cfb834",
   "metadata": {},
   "source": [
    "### States of Promises\n",
    "\n",
    "![States of Promises](https://exploringjs.com/impatient-js/img-book/promises/promise_states_simple.svg)\n",
    "\n",
    "* a Promise can be in one of three states:\n",
    "    1. pending\n",
    "    2. fulfilled\n",
    "    3. rejected\n",
    "* if a Promise is in a final (non-pending) state, it is called settled\n",
    "* promises specialize in one-off results and protect us against race conditions\n",
    "    - race conditions = registering too early or too late\n",
    "    - if we register .then() or .catch() callback too early, it is notified once a Promise is settled\n",
    "    - once a Promise is settled, the settlement value (result or error) is cached\n",
    "        * so .then() or .catch() are called after the settlement, they receive the cached value\n",
    "* once a Promise is settled, its state and settlemenet value can't change anymore\n",
    "    - this helps make the code predictable and enforces the one-off nature of Promises"
   ]
  },
  {
   "cell_type": "markdown",
   "id": "2a19aed3",
   "metadata": {},
   "source": [
    "### Promise.resolve(): create a Promise fulfilled with a given value"
   ]
  },
  {
   "cell_type": "code",
   "execution_count": null,
   "id": "35836fbe",
   "metadata": {},
   "outputs": [],
   "source": [
    "Promise.resolve(123)\n",
    "    .then(x => {\n",
    "        assert.equal(x, 123);\n",
    "    })"
   ]
  },
  {
   "cell_type": "code",
   "execution_count": null,
   "id": "f429b006",
   "metadata": {},
   "outputs": [],
   "source": [
    "// if the parameter is already a Promise, it is returned unchanged\n",
    "// so, given ab arbitrary value x, we can use Promise.resolve(x) to ensure we have a Promise\n",
    "// the name is resolve, and not fulfill, b/c .resolve() returns a rejected Promise if its Parameter is a rejected Promise\n",
    "\n",
    "const abcPromise = Promise.resolve('abc');\n",
    "assert.equal(\n",
    "    Promise.resolve(abcPromise),\n",
    "    abcPromise\n",
    ")"
   ]
  },
  {
   "cell_type": "markdown",
   "id": "027a571d",
   "metadata": {},
   "source": [
    "### Promise.reject() create a Promise rejected with a given value"
   ]
  },
  {
   "cell_type": "code",
   "execution_count": null,
   "id": "f4030bce",
   "metadata": {},
   "outputs": [],
   "source": [
    "const myError = new Error('My error!');\n",
    "Promise.reject(myError)\n",
    "    .catch(err => {\n",
    "        assert.equal(err, myError);\n",
    "    })"
   ]
  },
  {
   "cell_type": "markdown",
   "id": "b8d66676",
   "metadata": {},
   "source": [
    "### Returning and throwing in .then() callbacks\n",
    "\n",
    "* .then() handles Promise fulfillments\n",
    "* it also returns a fresh Promise\n",
    "* how that Promise is settled depends on what happens inside the callback and there are three common cases"
   ]
  },
  {
   "cell_type": "markdown",
   "id": "e2772743",
   "metadata": {},
   "source": [
    "#### Returning a non-Promise value\n",
    "\n",
    "* first, the callback can return a non-Promise value (line A)\n",
    "* the Promise returned by .then() is fulfilled with that value (in line B)"
   ]
  },
  {
   "cell_type": "code",
   "execution_count": null,
   "id": "08c6209b",
   "metadata": {},
   "outputs": [],
   "source": [
    "Promise.resolve('abc')\n",
    "    .then(str => {\n",
    "        return str + str; // A\n",
    "    })\n",
    "    .then(str2 => {\n",
    "        assert.equal(str2, 'abcabc'); // B\n",
    "    })"
   ]
  },
  {
   "cell_type": "markdown",
   "id": "373ec9b6",
   "metadata": {},
   "source": [
    "#### Returning a Promise\n",
    "\n",
    "* second, the callback can return a Promise p (line A)\n",
    "* consequently, p \"becomes\" what .then() returns\n",
    "    - i.e. the Promise that .then() has already returned is effectively replaced by p\n",
    "* why is that useful?\n",
    "    - b/c we can return the result of a Promise-based operation and process its fulfillment value via a \"flat\" (non-nested) .then()\n",
    "    - basically, we can just chain .then() methods instead of having them nested inside of 1"
   ]
  },
  {
   "cell_type": "code",
   "execution_count": null,
   "id": "bcb86808",
   "metadata": {},
   "outputs": [],
   "source": [
    "Promise.resolve('abc')\n",
    "    .then(str => {\n",
    "        return Promise.resolve(123); // A\n",
    "    })\n",
    "    .then(num => {\n",
    "        assert.equal(num, 123)\n",
    "    })"
   ]
  },
  {
   "cell_type": "code",
   "execution_count": null,
   "id": "d60f339f",
   "metadata": {},
   "outputs": [],
   "source": [
    "// Flat\n",
    "asyncFunc1()\n",
    "    .then(result1 => {\n",
    "        /*...*/\n",
    "        return asyncFunc2();\n",
    "    })\n",
    "    .then(result2 => {\n",
    "        /*...*/\n",
    "    });\n",
    "\n",
    "// Nested\n",
    "asyncFunc1()\n",
    "    .then(result1 => {\n",
    "        /*...*/\n",
    "        asyncFunc2()\n",
    "            .then(result2 => {\n",
    "                /*...*/\n",
    "            })\n",
    "    })"
   ]
  },
  {
   "cell_type": "markdown",
   "id": "0a654f2f",
   "metadata": {},
   "source": [
    "#### Throwing an exception\n",
    "\n",
    "* third, the callback can throw an exception\n",
    "* the Promise returned by .then() is rejected with that exception\n",
    "    - that is, a synchronous error is converted into an asynchronous error\n"
   ]
  },
  {
   "cell_type": "code",
   "execution_count": null,
   "id": "5e876dfb",
   "metadata": {},
   "outputs": [],
   "source": [
    "const myError = new Error('My error!');\n",
    "Promise.resolve('abc')\n",
    "    .then(str => {\n",
    "        throw myError;\n",
    "    })\n",
    "    .catch(err => {\n",
    "        assert.equal(err, myError);\n",
    "    })"
   ]
  },
  {
   "cell_type": "markdown",
   "id": "0bec926c",
   "metadata": {},
   "source": [
    "### .catch() and its callback\n",
    "\n",
    "* the difference between .then() and .catch() is that the latter is triggered by rejections, not fulfillments\n",
    "    - but both methods rurn the actions of their callbacks into Promises in the same manner\n",
    "* for example, the value returned by the .catch() callback in line A becomes a fulfillment value"
   ]
  },
  {
   "cell_type": "code",
   "execution_count": null,
   "id": "cd0b26ad",
   "metadata": {},
   "outputs": [],
   "source": [
    "const err = new Error();\n",
    "\n",
    "Promise.reject(err)\n",
    "    .catch(e => {\n",
    "        assert.equal(e, err);\n",
    "        // something went wrong, use a default value\n",
    "        return 'default value'; // A\n",
    "    })\n",
    "    .then(str => {\n",
    "        assert.equal(str, 'default value')\n",
    "    })"
   ]
  },
  {
   "cell_type": "markdown",
   "id": "3ffb5e48",
   "metadata": {},
   "source": [
    "### Chaining method calls\n",
    "\n",
    "* .then() and .catch() __always return Promises__\n",
    "* this allows us to create arbitrary long chains of method calls\n",
    "* due to chaining, the return in line A returns the result of the last .then()\n",
    "* in a way, .then() is the asynchronous version of the synchronous semicolon\n",
    "    - .then() executes 2 asynchronous operations sequentially\n",
    "    - the semicolon executes 2 synchronous operations sequentially"
   ]
  },
  {
   "cell_type": "code",
   "execution_count": null,
   "id": "4ea6bbfc",
   "metadata": {},
   "outputs": [],
   "source": [
    "function myAsyncFunc() {\n",
    "    return asyncFunc1() // A\n",
    "        .then(result1 => {\n",
    "            // ...\n",
    "            return asyncFunc2(); // a Promise\n",
    "        })\n",
    "        .then(result2 => {\n",
    "            // ...\n",
    "            return result2 ?? '(Empty)'; // not a Promise\n",
    "        })\n",
    "        .then(result3 => {\n",
    "            // ...\n",
    "            return asyncFunc4(); // a Promise\n",
    "        })\n",
    "}"
   ]
  },
  {
   "cell_type": "markdown",
   "id": "0fc19e21",
   "metadata": {},
   "source": [
    "* we can also add .catch() into the mix and let it handle multiple error sources at the same time"
   ]
  },
  {
   "cell_type": "code",
   "execution_count": null,
   "id": "af260b33",
   "metadata": {},
   "outputs": [],
   "source": [
    "asyncFunc1()\n",
    "    .then(result1 => {\n",
    "        // ...\n",
    "        return asyncFunction2();\n",
    "    })\n",
    "    .then(result2 => {\n",
    "        // ...\n",
    "    })\n",
    "    .catch(error => {\n",
    "        // Failure: handle errors of asyncFunc1(), asyncFunc2()\n",
    "        // and any (sync) exceptions thrown in previous callbacks\n",
    "    })"
   ]
  },
  {
   "cell_type": "markdown",
   "id": "7b9e3d82",
   "metadata": {},
   "source": [
    "### .finally()\n",
    "\n",
    "* the .finally() callback is always executed - independently of somePromise and the values returned by .then() and/or .catch()\n",
    "* in contrast:\n",
    "    - the .then() callback is only executed if somePromise is fulfilled\n",
    "    - the .catch() callback is only executed if:\n",
    "        * either somePromise is rejected\n",
    "        * or the .then() callback returns a rejected Promise\n",
    "        * or the .then() callback throws an exception"
   ]
  },
  {
   "cell_type": "code",
   "execution_count": null,
   "id": "136561c3",
   "metadata": {},
   "outputs": [],
   "source": [
    "somePromise\n",
    "    .then((result) => {\n",
    "        // ...\n",
    "    })\n",
    "    .catch((error) => {\n",
    "        // ...\n",
    "    })\n",
    "    .finally(() => {\n",
    "        // ...\n",
    "    });"
   ]
  },
  {
   "cell_type": "markdown",
   "id": "fdc84030",
   "metadata": {},
   "source": [
    "* .finally() ignores what its callback returns and simply passes on the settlement that existed before it was called:"
   ]
  },
  {
   "cell_type": "code",
   "execution_count": null,
   "id": "b6350393",
   "metadata": {},
   "outputs": [],
   "source": [
    "Promise.resolve(123)\n",
    "    .finally(() => {})\n",
    "    .then((result) => {\n",
    "        assert.equal(result, 123);\n",
    "    })\n",
    "\n",
    "Promise.reject('error')\n",
    "    .finally(() => {})\n",
    "    .catch((error) => {\n",
    "        assert.equal(error, 'error')\n",
    "    })"
   ]
  },
  {
   "cell_type": "markdown",
   "id": "19a24011",
   "metadata": {},
   "source": [
    "* if the .finally() callback throws an exception, the Promise returned by .finally() is rejected"
   ]
  },
  {
   "cell_type": "code",
   "execution_count": null,
   "id": "21ca18f9",
   "metadata": {},
   "outputs": [],
   "source": [
    "Promise.reject('error (originally)')\n",
    "    .finally(() => {\n",
    "        throw 'error (finally)';\n",
    "    })\n",
    "    .catch((error) => {\n",
    "        assert.equal(error, 'error (finally)');\n",
    "    })"
   ]
  },
  {
   "cell_type": "markdown",
   "id": "400a73ac",
   "metadata": {},
   "source": [
    "##### Use case for .finally(): cleaning up\n",
    "\n",
    "* cleaning up after you are done with a resource regardless if it was successful or failed"
   ]
  },
  {
   "cell_type": "code",
   "execution_count": null,
   "id": "337d4b46",
   "metadata": {},
   "outputs": [],
   "source": [
    "let connection;\n",
    "\n",
    "db.open()\n",
    ".then((conn) => {\n",
    "    connection = conn;\n",
    "    return connection.select({ name: 'Jane '})\n",
    "})\n",
    ".then((result) => {\n",
    "    // Process result\n",
    "    // Use 'connection' to make more queries\n",
    "})\n",
    "//...\n",
    ".catch((error) => {\n",
    "    //handle errors\n",
    "})\n",
    ".finally(() => {\n",
    "    connection.close();\n",
    "});"
   ]
  },
  {
   "cell_type": "markdown",
   "id": "017bf623",
   "metadata": {},
   "source": [
    "##### Use case for .finally(): doing something first after any kind of settlement\n",
    "\n",
    "* can use .finally() before both .then() and .catch()\n",
    "* .finally() will be executed before the other two callbacks"
   ]
  },
  {
   "cell_type": "code",
   "execution_count": 2,
   "id": "9bde7022",
   "metadata": {},
   "outputs": [
    {
     "data": {
      "text/plain": [
       "Promise { <pending> }"
      ]
     },
     "execution_count": 2,
     "metadata": {},
     "output_type": "execute_result"
    },
    {
     "name": "stdout",
     "output_type": "stream",
     "text": [
      "finally\n",
      "finally\n",
      "then fulfilled\n",
      "catch rejected\n"
     ]
    }
   ],
   "source": [
    "Promise.resolve('fulfilled')\n",
    "    .finally(() => {\n",
    "        console.log('finally');\n",
    "    })\n",
    "    .then((result) => {\n",
    "        console.log('then ' + result);\n",
    "    })\n",
    "    .catch((error) => {\n",
    "        console.log('catch ' + error);\n",
    "    })\n",
    "\n",
    "// Output:\n",
    "// 'finally'\n",
    "// 'then fulfilled'\n",
    "\n",
    "Promise.reject('rejected')\n",
    "    .finally(() => {\n",
    "        console.log('finally');\n",
    "    })\n",
    "    .then((result) => {\n",
    "        console.log('then ' + result);\n",
    "    })\n",
    "    .catch((error) => {\n",
    "        console.log('catch ' + error);\n",
    "    })\n",
    "\n",
    "// Output:\n",
    "// 'finally'\n",
    "// 'catch rejected'"
   ]
  },
  {
   "cell_type": "markdown",
   "id": "c8b751a9",
   "metadata": {},
   "source": [
    "### Advantages of promises over plain callbacks\n",
    "\n",
    "* when it comes to handling one-off results:\n",
    "    - parameters in Promise-based functions and methods are cleaner\n",
    "        * in a Promise, you only have resolve and reject to worry about as far as parameters go\n",
    "        * with callbacks, the first couple of arguments are for input to the function while the last arguments are for the actual callback function\n",
    "            - so determining what is an input parameter and what is a callback function can be confusing\n",
    "    - chaining asynchronous processing steps is more convenient\n",
    "    - Promises handle both asynchronous errors (via rejections) and synchronous errors\n",
    "        * inside the callbacks for new Promise(), .then(), and .catch(), exceptions are converted to rejections\n",
    "        * if we use callbacks, exceptions are not handled for us\n",
    "    - Promises are a single standard\n",
    "* also the biggest advantage of Promises is being able to use the async/await syntax\n",
    "    - async/await is a synchronous-looking syntax for performing asynchronous computations"
   ]
  },
  {
   "cell_type": "markdown",
   "id": "0eadaa3b",
   "metadata": {},
   "source": [
    "## Error handling: don't mix rejections and exceptions\n",
    "\n",
    "* don't mix (asynchronous) rejections and (synchronous) exceptions\n",
    "* simplifies our code b/c we only need to focus on one error-handling mechanic\n",
    "* so for Promise-based functions/methods, they should never throw exceptions"
   ]
  },
  {
   "cell_type": "code",
   "execution_count": null,
   "id": "c3623513",
   "metadata": {},
   "outputs": [],
   "source": [
    "// DON'T DO THIS:\n",
    "\n",
    "function asyncFunc() {\n",
    "    doSomethingSync(); // A\n",
    "    return doSomethingAsync()\n",
    "        .then(result => {\n",
    "        // ...\n",
    "    })\n",
    "}"
   ]
  },
  {
   "cell_type": "markdown",
   "id": "2880c89d",
   "metadata": {},
   "source": [
    "* if doSomethingSync in line A throws an exception, then asyncFunc() will also throw an exception when it should be throwing a rejection\n",
    "* callers of asyncFunc() are expecting a rejection"
   ]
  },
  {
   "cell_type": "markdown",
   "id": "ee6f2b07",
   "metadata": {},
   "source": [
    "* Solution 1:\n",
    "    - we can wrap the whole body of asyncFunc in a try-catch statement and return a rejected Promise if an exception is thrown"
   ]
  },
  {
   "cell_type": "code",
   "execution_count": null,
   "id": "33ff06d9",
   "metadata": {},
   "outputs": [],
   "source": [
    "// Solution 1\n",
    "\n",
    "function asyncFunc() {\n",
    "    try {\n",
    "        doSomethingSync();\n",
    "        return doSomethingAsync()\n",
    "            .then(result => {\n",
    "            // ...\n",
    "        });\n",
    "    }\n",
    "    catch(err) {\n",
    "        return Promise.reject(err);\n",
    "    }\n",
    "}"
   ]
  },
  {
   "cell_type": "markdown",
   "id": "f8aa0f3f",
   "metadata": {},
   "source": [
    "* Solution 2:\n",
    "    - we know that .then() will convert exceptions to rejections so we can just call doSomethingSync() in the .then() callback\n",
    "* we can do this by creating a Promise chain using Promise.resolve() to get us into the .then() callback\n",
    "    - the fulfillment value, which is undefined, does not matter for Promise.resolve()"
   ]
  },
  {
   "cell_type": "code",
   "execution_count": 1,
   "id": "ecdf7440",
   "metadata": {},
   "outputs": [],
   "source": [
    "// Solution 2\n",
    "\n",
    "function asyncFunc() {\n",
    "    return Promise.resolve()\n",
    "        .then(() => {\n",
    "            doSomethingSync();\n",
    "            return doSomethingAsync();\n",
    "        })\n",
    "        .then(result => {\n",
    "            // ...\n",
    "        });\n",
    "}"
   ]
  },
  {
   "cell_type": "markdown",
   "id": "365f2327",
   "metadata": {},
   "source": [
    "* Solution 3:\n",
    "    - new Promise() constructor can also convert exceptions to rejections"
   ]
  },
  {
   "cell_type": "code",
   "execution_count": 2,
   "id": "696f6c4d",
   "metadata": {},
   "outputs": [],
   "source": [
    "// Solution 3\n",
    "\n",
    "function asyncFunc() {\n",
    "    return new Promise((resolve, reject) => {\n",
    "        doSomethingSync();\n",
    "        resolve(doSomethingAsync());\n",
    "    })\n",
    "    .then(result => {\n",
    "        // ...\n",
    "    })\n",
    "}"
   ]
  },
  {
   "cell_type": "markdown",
   "id": "149a0b79",
   "metadata": {},
   "source": [
    "## Promise-based functions start synchronously, settle asynchronously\n",
    "\n",
    "* Promise-based functions are executed as follows:\n",
    "    - their execution starts right away, synchronously (in the current task)\n",
    "    - but the Promise they return is guaranteed to be settled asynchronously (in a later task) - if ever\n",
    "* in the example, we can see that the callback of new Promise() is executed before the end of the code, while the result is delivered later (line A)\n",
    "* Benefits of this approach:\n",
    "    - starting synchronously helps avoid race conditions b/c we can rely on the order in which Promise-based functions begin\n",
    "    - Chaining Promises won't starve other tasks of processing time b/c before a Promise is settled, there will always be a break, during which the event loop can run\n",
    "    - Promise-based functions always return results asynchronously; we can be sure that there is never a synchronous return"
   ]
  },
  {
   "cell_type": "code",
   "execution_count": 4,
   "id": "ef104509",
   "metadata": {},
   "outputs": [
    {
     "name": "stdout",
     "output_type": "stream",
     "text": [
      "START\n",
      "asyncFunc\n",
      "new Promise()\n",
      "END\n",
      ".then()\n"
     ]
    }
   ],
   "source": [
    "function asyncFunc() {\n",
    "    console.log('asyncFunc');\n",
    "    return new Promise(\n",
    "        (resolve, _reject) => {\n",
    "            // this callback is called synchronously\n",
    "            console.log('new Promise()');\n",
    "            \n",
    "            // but resolving the callback happens asynchronously\n",
    "            resolve();\n",
    "        });\n",
    "}\n",
    "\n",
    "console.log('START');\n",
    "asyncFunc()\n",
    "    .then(() => {\n",
    "        // we need to wait for the new Promise callback to be resolved first\n",
    "        // before this is console logged\n",
    "        console.log('.then()'); // (A)\n",
    "    });\n",
    "console.log('END')\n",
    "\n"
   ]
  },
  {
   "cell_type": "code",
   "execution_count": null,
   "id": "79791533",
   "metadata": {},
   "outputs": [],
   "source": []
  },
  {
   "cell_type": "code",
   "execution_count": null,
   "id": "b88c04e5",
   "metadata": {},
   "outputs": [],
   "source": []
  },
  {
   "cell_type": "code",
   "execution_count": null,
   "id": "0e3b8f78",
   "metadata": {},
   "outputs": [],
   "source": []
  },
  {
   "cell_type": "code",
   "execution_count": null,
   "id": "e276546a",
   "metadata": {},
   "outputs": [],
   "source": []
  },
  {
   "cell_type": "code",
   "execution_count": null,
   "id": "4b1340fd",
   "metadata": {},
   "outputs": [],
   "source": []
  }
 ],
 "metadata": {
  "kernelspec": {
   "display_name": "JavaScript (Node.js)",
   "language": "javascript",
   "name": "javascript"
  },
  "language_info": {
   "file_extension": ".js",
   "mimetype": "application/javascript",
   "name": "javascript",
   "version": "16.14.2"
  }
 },
 "nbformat": 4,
 "nbformat_minor": 5
}
