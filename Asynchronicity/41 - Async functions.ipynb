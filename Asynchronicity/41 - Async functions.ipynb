{
 "cells": [
  {
   "cell_type": "markdown",
   "id": "47289ce9",
   "metadata": {},
   "source": [
    "# [Async functions](https://exploringjs.com/impatient-js/ch_async-functions.html)"
   ]
  },
  {
   "cell_type": "markdown",
   "id": "4a483178",
   "metadata": {},
   "source": [
    "## Async functions:  the basics\n",
    "\n",
    "* async functions are marked with the keyword __async__\n",
    "* inside an async function, Promise-based code is written as if it were synchronous\n",
    "    - only need to use the __await__ operator when a value is a Promise\n",
    "    - that operator pauses the async function and resumes it when the Promise is settled:\n",
    "        * if the Promise is fulfilled, await returns the fulfillment value\n",
    "        * if the Promise is rejected, await throws the rejection value\n",
    "* __the result of an async function is always a Promise__\n",
    "    - any value that is returned (explicitly or implicitly) is used to fulfill the Promise\n",
    "    - any exception that is thronw is used to reject the Promise"
   ]
  },
  {
   "cell_type": "code",
   "execution_count": null,
   "id": "06a9581c",
   "metadata": {},
   "outputs": [],
   "source": [
    "// async function\n",
    "\n",
    "async function fetchJsonAsync(url) {\n",
    "    try {\n",
    "        const request = await fetch(url); // async\n",
    "        const text = await request.text(); // async\n",
    "        return JSON.parse(text); // sync\n",
    "    }\n",
    "    catch (error) {\n",
    "        assert.fail(error);\n",
    "    }\n",
    "}\n",
    "\n",
    "// similar to async but with Promises\n",
    "function fetchJsonViaPromises(url) {\n",
    "    return fetch(url) // async\n",
    "        .then(request => request.text()) // async\n",
    "        .then(text => JSON.parse(text)) // sync\n",
    "        .catch(error => {\n",
    "            assert.fail(error);\n",
    "        })\n",
    "}"
   ]
  },
  {
   "cell_type": "code",
   "execution_count": null,
   "id": "08d9f09b",
   "metadata": {},
   "outputs": [],
   "source": [
    "// both fetchJsonAsync() and fetchJsonViaPromises() are called in the exact same way:\n",
    "\n",
    "fetchJsonAsync('http://example.com/person.json')\n",
    "    .then(obj => {\n",
    "        assert.deepEqual(obj, {\n",
    "            first: 'Jane',\n",
    "            last: 'Doe'\n",
    "        });\n",
    "});"
   ]
  },
  {
   "cell_type": "markdown",
   "id": "d85e850a",
   "metadata": {},
   "source": [
    "### Async constructs"
   ]
  },
  {
   "cell_type": "code",
   "execution_count": null,
   "id": "a6e3fedf",
   "metadata": {},
   "outputs": [],
   "source": [
    "// async function delcaration\n",
    "\n",
    "async function func1() {}\n",
    "\n",
    "// async function expression\n",
    "const func2 = async function () {};\n",
    "\n",
    "// async arrow function\n",
    "const func3 = async () => {};\n",
    "\n",
    "// async method definition in an object literal\n",
    "const obj = { async m() {} };\n",
    "\n",
    "// async method definition in a class definition\n",
    "class MyClass { async m() {} }"
   ]
  },
  {
   "cell_type": "markdown",
   "id": "172a6a78",
   "metadata": {},
   "source": [
    "#### asynchronous functions vs async function\n",
    "\n",
    "* asynchronous function: any function that delivers its result asynchronously, e.g. a callback-based function or a Promise-based function\n",
    "* async function: defined via special syntax involving the keywords async and await\n",
    "    - also called async/await due to these 2 keywords\n",
    "    - async functions are based on Promises and therefore also asynchronous functions"
   ]
  },
  {
   "cell_type": "code",
   "execution_count": null,
   "id": "6d720af2",
   "metadata": {},
   "outputs": [],
   "source": []
  },
  {
   "cell_type": "code",
   "execution_count": null,
   "id": "903c3037",
   "metadata": {},
   "outputs": [],
   "source": []
  },
  {
   "cell_type": "code",
   "execution_count": null,
   "id": "2c71b8b0",
   "metadata": {},
   "outputs": [],
   "source": []
  },
  {
   "cell_type": "code",
   "execution_count": null,
   "id": "4ff18dd5",
   "metadata": {},
   "outputs": [],
   "source": []
  },
  {
   "cell_type": "code",
   "execution_count": null,
   "id": "1d93980f",
   "metadata": {},
   "outputs": [],
   "source": []
  },
  {
   "cell_type": "code",
   "execution_count": null,
   "id": "5110de2f",
   "metadata": {},
   "outputs": [],
   "source": []
  },
  {
   "cell_type": "code",
   "execution_count": null,
   "id": "4727f8c7",
   "metadata": {},
   "outputs": [],
   "source": []
  }
 ],
 "metadata": {
  "kernelspec": {
   "display_name": "JavaScript (Node.js)",
   "language": "javascript",
   "name": "javascript"
  },
  "language_info": {
   "file_extension": ".js",
   "mimetype": "application/javascript",
   "name": "javascript",
   "version": "16.14.2"
  }
 },
 "nbformat": 4,
 "nbformat_minor": 5
}
