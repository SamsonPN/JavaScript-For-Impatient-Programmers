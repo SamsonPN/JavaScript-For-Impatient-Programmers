{
 "cells": [
  {
   "cell_type": "markdown",
   "id": "cae72c8b",
   "metadata": {},
   "source": [
    "# [Asynchronous iteration](https://exploringjs.com/impatient-js/ch_async-iteration.html)"
   ]
  },
  {
   "cell_type": "markdown",
   "id": "164deac2",
   "metadata": {},
   "source": [
    "## Basic asynchronous iteration"
   ]
  },
  {
   "cell_type": "markdown",
   "id": "e851bc23",
   "metadata": {},
   "source": [
    "### Protocol: async iteration\n",
    "\n",
    "* an _iterable_ is a data structure whose contents can be accessed via iteration\n",
    "    - it is a factory for iterators\n",
    "* an _iterator_ is a factory for iteration results that we retrieve by calling the method .next()\n",
    "* each _iterationResult_ contains the iterated .value and a boolean .done that is true after the last element and false before\n",
    "***\n",
    "* for the protocol for asynchronous iteration, we only want to change one thing:\n",
    "    - the values produced by .next() should be delivered asynchronously\n",
    "* there are 2 options:\n",
    "    1. .value could contain a Promise<T>\n",
    "    2. .next() could return Promise<IteratorResult<T>>\n",
    "* so do we wrap the value or the whole iterator result in a Promise?\n",
    "    - we have to choose option 2\n",
    "    - reason being, when .next() returns a result, it starts an asynchronous computation and whether that computation produces a value or signals the end of the iteration can only be determined after it is finished\n",
    "    - therefore, both .done and .value need to be wrapped in a Promise"
   ]
  },
  {
   "cell_type": "code",
   "execution_count": null,
   "id": "d6777a6a",
   "metadata": {},
   "outputs": [],
   "source": [
    "// interfaces for synchronous iteration\n",
    "\n",
    "interface Iterable<T> {\n",
    "    [Symbol.iterator](): Iterator<T>;\n",
    "}\n",
    "\n",
    "interface Iterator<T> {\n",
    "    next(): IteratorResult<T>;\n",
    "}\n",
    "\n",
    "interface IteratorResult<T> {\n",
    "    value: T;\n",
    "    done: boolean;\n",
    "}"
   ]
  },
  {
   "cell_type": "code",
   "execution_count": null,
   "id": "ec6de2a6",
   "metadata": {},
   "outputs": [],
   "source": [
    "// interfaces for asynchronous iteration\n",
    "// the only difference to the synchronous iterface is the return type of .next() (line A)\n",
    "\n",
    "interface AsyncIterable<T> {\n",
    "    [Symbol.asyncIterator](): AsyncIterator<T>;\n",
    "}\n",
    "\n",
    "interface AsyncIterator<T> {\n",
    "    next(): Promise<IteratorResult<T>>; // A\n",
    "}\n",
    "\n",
    "interface IteratorResult<T> {\n",
    "    value: T;\n",
    "    done: boolean;\n",
    "}"
   ]
  },
  {
   "cell_type": "markdown",
   "id": "2097d6db",
   "metadata": {},
   "source": [
    "### Using async iteration directly\n",
    "\n",
    "* line A: create an asynchronous iterable over the value 'a' and 'b'\n",
    "* we call .next() is line B, C, and D\n",
    "    - each time, we use .then() to unwrap the Promise and assert.deepEqual() to check the unwrapped value"
   ]
  },
  {
   "cell_type": "code",
   "execution_count": null,
   "id": "b3a398ff",
   "metadata": {},
   "outputs": [],
   "source": [
    "const asyncIterable = syncToAsyncIterable(['a','b']); // A\n",
    "const asyncIterator = asyncIterable[Symbol.asyncIterator]();\n",
    "\n",
    "// call .next() until .done is true\n",
    "asyncIterator.next() // B\n",
    "    .then(iteratorResult => {\n",
    "        assert.deepEqual(\n",
    "            iteratorResult,\n",
    "            { value: 'a', done: false}\n",
    "        );\n",
    "        return asyncIterator.next(); // C\n",
    "    })\n",
    "    .then(iteratorResult => {\n",
    "        assert.deepEqual(\n",
    "            iteratorResult,\n",
    "            { value: 'b', done: false}\n",
    "        );\n",
    "        return asyncIterator.next(); // D\n",
    "    })\n",
    "    .then(iteratorResult => {\n",
    "        assert.deepEqual(\n",
    "            iteratorResult,\n",
    "            { value: undefined , done: true}\n",
    "        );\n",
    "        return asyncIterator.next(); // C\n",
    "    })"
   ]
  },
  {
   "cell_type": "markdown",
   "id": "13616363",
   "metadata": {},
   "source": [
    "* we can simplify the code using an async function and unwrap the Promises via await"
   ]
  },
  {
   "cell_type": "code",
   "execution_count": null,
   "id": "c0718ff1",
   "metadata": {},
   "outputs": [],
   "source": [
    "const asyncIterable = syncToAsyncIterable(['a','b']); // A\n",
    "const asyncIterator = asyncIterable[Symbol.asyncIterator]();\n",
    "\n",
    "assert.deepEqual(\n",
    "    await asyncIterator.next(),\n",
    "    { value: 'a', done: false }\n",
    ")\n",
    "\n",
    "assert.deepEqual(\n",
    "    await asyncIterator.next(),\n",
    "    { value: 'b', done: false }\n",
    ")\n",
    "\n",
    "assert.deepEqual(\n",
    "    await asyncIterator.next(),\n",
    "    { value: undefined, done: true }\n",
    ")"
   ]
  },
  {
   "cell_type": "markdown",
   "id": "32801089",
   "metadata": {},
   "source": [
    "### Using async iteration via for-await-of\n",
    "\n",
    "* asynchronous iteration protocol is not meant to be used directly\n",
    "* for-await-of is an asynchronous version of for-of and can be used in async functions and async generators"
   ]
  },
  {
   "cell_type": "code",
   "execution_count": null,
   "id": "f84c347e",
   "metadata": {},
   "outputs": [],
   "source": [
    "for await (const x of syncToAsyncIterable(['a', 'b'])) {\n",
    "    console.log(x);\n",
    "}\n",
    "\n",
    "// Output:\n",
    "// 'a'\n",
    "// 'b'"
   ]
  },
  {
   "cell_type": "code",
   "execution_count": 2,
   "id": "8c9de463",
   "metadata": {},
   "outputs": [
    {
     "data": {
      "text/plain": [
       "Promise { <pending> }"
      ]
     },
     "execution_count": 2,
     "metadata": {},
     "output_type": "execute_result"
    },
    {
     "name": "stdout",
     "output_type": "stream",
     "text": [
      "a\n",
      "b\n"
     ]
    }
   ],
   "source": [
    "// it is flexible and can also support synchronous iterables\n",
    "async function syncFor() {\n",
    "    for await (const x of ['a', 'b']) {\n",
    "        console.log(x);\n",
    "    }  \n",
    "}\n",
    "\n",
    "syncFor();"
   ]
  },
  {
   "cell_type": "code",
   "execution_count": 3,
   "id": "e0b0d20e",
   "metadata": {},
   "outputs": [
    {
     "data": {
      "text/plain": [
       "Promise { <pending> }"
      ]
     },
     "execution_count": 3,
     "metadata": {},
     "output_type": "execute_result"
    },
    {
     "name": "stdout",
     "output_type": "stream",
     "text": [
      "a\n",
      "b\n"
     ]
    }
   ],
   "source": [
    "// also able to support synchronous iterables over values that are wrapped in Promises\n",
    "async function syncFor() {\n",
    "    const arr = [Promise.resolve('a'), Promise.resolve('b')];\n",
    "    for await (const x of arr) {\n",
    "        console.log(x);\n",
    "    }  \n",
    "}\n",
    "\n",
    "syncFor();"
   ]
  },
  {
   "cell_type": "markdown",
   "id": "81ec5174",
   "metadata": {},
   "source": [
    "## Asynchronous Generators\n",
    "\n",
    "* an asynchronous generator is 2 things at the same time:\n",
    "    - an async function (input): we can use await and for-await-of to retrieve data\n",
    "    - a generator that returns an asynchronous iterable (output): we can use yield and yield* to produce data\n",
    "* therefore, an asynchronous generator has:\n",
    "    - Input that can be:\n",
    "        * synchronous: single values, sync iterables\n",
    "        * asynchronous: Promises, async iterables\n",
    "    - Output that is an asynchronous iterable"
   ]
  },
  {
   "cell_type": "code",
   "execution_count": null,
   "id": "9c601566",
   "metadata": {},
   "outputs": [],
   "source": [
    "async function* asyncGen() {\n",
    "    // Input: Promises, async iterables\n",
    "    const x = await somePromise;\n",
    "    for await (const y of someAsyncIterable) {\n",
    "        // ...\n",
    "    }\n",
    "    \n",
    "    // Output\n",
    "    yield someValue;\n",
    "    yield* otherAsyncGen();\n",
    "}"
   ]
  },
  {
   "cell_type": "code",
   "execution_count": null,
   "id": "9265df95",
   "metadata": {},
   "outputs": [],
   "source": []
  },
  {
   "cell_type": "code",
   "execution_count": null,
   "id": "2bee7274",
   "metadata": {},
   "outputs": [],
   "source": []
  },
  {
   "cell_type": "code",
   "execution_count": null,
   "id": "357e362e",
   "metadata": {},
   "outputs": [],
   "source": []
  },
  {
   "cell_type": "code",
   "execution_count": null,
   "id": "e2a31f84",
   "metadata": {},
   "outputs": [],
   "source": []
  },
  {
   "cell_type": "code",
   "execution_count": null,
   "id": "e07f1ae1",
   "metadata": {},
   "outputs": [],
   "source": []
  },
  {
   "cell_type": "code",
   "execution_count": null,
   "id": "ac622952",
   "metadata": {},
   "outputs": [],
   "source": []
  },
  {
   "cell_type": "code",
   "execution_count": null,
   "id": "53962ca9",
   "metadata": {},
   "outputs": [],
   "source": []
  },
  {
   "cell_type": "code",
   "execution_count": null,
   "id": "3dd6fee2",
   "metadata": {},
   "outputs": [],
   "source": []
  },
  {
   "cell_type": "code",
   "execution_count": null,
   "id": "5cb9157f",
   "metadata": {},
   "outputs": [],
   "source": []
  },
  {
   "cell_type": "code",
   "execution_count": null,
   "id": "bff50db2",
   "metadata": {},
   "outputs": [],
   "source": []
  }
 ],
 "metadata": {
  "kernelspec": {
   "display_name": "JavaScript (Node.js)",
   "language": "javascript",
   "name": "javascript"
  },
  "language_info": {
   "file_extension": ".js",
   "mimetype": "application/javascript",
   "name": "javascript",
   "version": "16.14.2"
  }
 },
 "nbformat": 4,
 "nbformat_minor": 5
}
