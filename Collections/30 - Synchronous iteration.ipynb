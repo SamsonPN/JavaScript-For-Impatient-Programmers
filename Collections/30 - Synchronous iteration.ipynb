{
 "cells": [
  {
   "cell_type": "markdown",
   "id": "da5d62ab",
   "metadata": {},
   "source": [
    "# [Synchronous iteration](https://exploringjs.com/impatient-js/ch_sync-iteration.html)"
   ]
  },
  {
   "cell_type": "markdown",
   "id": "11ecf306",
   "metadata": {},
   "source": [
    "## What is synchronous iteration about?"
   ]
  },
  {
   "cell_type": "code",
   "execution_count": null,
   "id": "547cc852",
   "metadata": {},
   "outputs": [],
   "source": []
  },
  {
   "cell_type": "code",
   "execution_count": null,
   "id": "5ba5199b",
   "metadata": {},
   "outputs": [],
   "source": []
  },
  {
   "cell_type": "code",
   "execution_count": null,
   "id": "1f6c39ea",
   "metadata": {},
   "outputs": [],
   "source": []
  },
  {
   "cell_type": "code",
   "execution_count": null,
   "id": "914057e0",
   "metadata": {},
   "outputs": [],
   "source": []
  },
  {
   "cell_type": "code",
   "execution_count": null,
   "id": "f3da1887",
   "metadata": {},
   "outputs": [],
   "source": []
  },
  {
   "cell_type": "code",
   "execution_count": null,
   "id": "978f21c8",
   "metadata": {},
   "outputs": [],
   "source": []
  },
  {
   "cell_type": "code",
   "execution_count": null,
   "id": "1ee63cb2",
   "metadata": {},
   "outputs": [],
   "source": []
  }
 ],
 "metadata": {
  "kernelspec": {
   "display_name": "JavaScript (Node.js)",
   "language": "javascript",
   "name": "javascript"
  },
  "language_info": {
   "file_extension": ".js",
   "mimetype": "application/javascript",
   "name": "javascript",
   "version": "16.14.2"
  }
 },
 "nbformat": 4,
 "nbformat_minor": 5
}
